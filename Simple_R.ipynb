{
  "nbformat": 4,
  "nbformat_minor": 0,
  "metadata": {
    "colab": {
      "name": "Simple_R",
      "provenance": [],
      "include_colab_link": true
    },
    "kernelspec": {
      "name": "ir",
      "display_name": "R"
    }
  },
  "cells": [
    {
      "cell_type": "markdown",
      "metadata": {
        "id": "view-in-github",
        "colab_type": "text"
      },
      "source": [
        "<a href=\"https://colab.research.google.com/github/hongqin/Use-R-in-CoLab/blob/master/Simple_R.ipynb\" target=\"_parent\"><img src=\"https://colab.research.google.com/assets/colab-badge.svg\" alt=\"Open In Colab\"/></a>"
      ]
    },
    {
      "cell_type": "markdown",
      "metadata": {
        "id": "GcC5EknIlR6S"
      },
      "source": [
        "# Simple R"
      ]
    },
    {
      "cell_type": "markdown",
      "metadata": {
        "id": "cNCNSX7OlUfQ"
      },
      "source": [
        "Simple calculator"
      ]
    },
    {
      "cell_type": "code",
      "metadata": {
        "id": "IB0Ts8felZeq",
        "outputId": "37c164a0-0498-4ef0-c17a-f6affe30010b",
        "colab": {
          "base_uri": "https://localhost:8080/",
          "height": 35
        }
      },
      "source": [
        "1 + 2"
      ],
      "execution_count": 2,
      "outputs": [
        {
          "output_type": "display_data",
          "data": {
            "text/plain": [
              "[1] 3"
            ],
            "text/latex": "3",
            "text/markdown": "3",
            "text/html": [
              "3"
            ]
          },
          "metadata": {
            "tags": []
          }
        }
      ]
    },
    {
      "cell_type": "code",
      "metadata": {
        "id": "CXO2aT0jlREG",
        "outputId": "e1447abd-80a2-4c47-b398-2c67cca27a03",
        "colab": {
          "base_uri": "https://localhost:8080/",
          "height": 35
        }
      },
      "source": [
        "3-1"
      ],
      "execution_count": 3,
      "outputs": [
        {
          "output_type": "display_data",
          "data": {
            "text/plain": [
              "[1] 2"
            ],
            "text/latex": "2",
            "text/markdown": "2",
            "text/html": [
              "2"
            ]
          },
          "metadata": {
            "tags": []
          }
        }
      ]
    },
    {
      "cell_type": "code",
      "metadata": {
        "id": "OHYPU9k_oCXw",
        "outputId": "ba93a382-6be1-46c4-adee-1d182358f5f8",
        "colab": {
          "base_uri": "https://localhost:8080/",
          "height": 35
        }
      },
      "source": [
        "5/2"
      ],
      "execution_count": 4,
      "outputs": [
        {
          "output_type": "display_data",
          "data": {
            "text/plain": [
              "[1] 2.5"
            ],
            "text/latex": "2.5",
            "text/markdown": "2.5",
            "text/html": [
              "2.5"
            ]
          },
          "metadata": {
            "tags": []
          }
        }
      ]
    },
    {
      "cell_type": "code",
      "metadata": {
        "id": "m0BjU00KoCax",
        "outputId": "c6105df4-0997-4be4-e1ae-fc2689ef46b3",
        "colab": {
          "base_uri": "https://localhost:8080/",
          "height": 35
        }
      },
      "source": [
        "2*3.1415926"
      ],
      "execution_count": 5,
      "outputs": [
        {
          "output_type": "display_data",
          "data": {
            "text/plain": [
              "[1] 6.283185"
            ],
            "text/latex": "6.2831852",
            "text/markdown": "6.2831852",
            "text/html": [
              "6.2831852"
            ]
          },
          "metadata": {
            "tags": []
          }
        }
      ]
    },
    {
      "cell_type": "code",
      "metadata": {
        "id": "L53mFvJtoCdp",
        "outputId": "92afb63d-479a-4131-f4db-9459181ad8ac",
        "colab": {
          "base_uri": "https://localhost:8080/",
          "height": 35
        }
      },
      "source": [
        "3^4"
      ],
      "execution_count": 6,
      "outputs": [
        {
          "output_type": "display_data",
          "data": {
            "text/plain": [
              "[1] 81"
            ],
            "text/latex": "81",
            "text/markdown": "81",
            "text/html": [
              "81"
            ]
          },
          "metadata": {
            "tags": []
          }
        }
      ]
    },
    {
      "cell_type": "code",
      "metadata": {
        "id": "ybZwU4XqoChH",
        "outputId": "5d789b67-cf3c-40da-aa59-ba4e4a5610d9",
        "colab": {
          "base_uri": "https://localhost:8080/",
          "height": 35
        }
      },
      "source": [
        "log10(100)"
      ],
      "execution_count": 7,
      "outputs": [
        {
          "output_type": "display_data",
          "data": {
            "text/plain": [
              "[1] 2"
            ],
            "text/latex": "2",
            "text/markdown": "2",
            "text/html": [
              "2"
            ]
          },
          "metadata": {
            "tags": []
          }
        }
      ]
    },
    {
      "cell_type": "markdown",
      "metadata": {
        "id": "b_D3Y1eBlR9q"
      },
      "source": [
        "Vectors"
      ]
    },
    {
      "cell_type": "code",
      "metadata": {
        "id": "ttliIXaalV5v",
        "outputId": "e47c80af-4252-4f4a-ac84-978f4d1b386e",
        "colab": {
          "base_uri": "https://localhost:8080/",
          "height": 35
        }
      },
      "source": [
        "a_vector = c(1, 3.14159, 5.0, -1, 10)\n",
        "a_vector"
      ],
      "execution_count": 8,
      "outputs": [
        {
          "output_type": "display_data",
          "data": {
            "text/plain": [
              "[1]  1.00000  3.14159  5.00000 -1.00000 10.00000"
            ],
            "text/latex": "\\begin{enumerate*}\n\\item 1\n\\item 3.14159\n\\item 5\n\\item -1\n\\item 10\n\\end{enumerate*}\n",
            "text/markdown": "1. 1\n2. 3.14159\n3. 5\n4. -1\n5. 10\n\n\n",
            "text/html": [
              "<style>\n",
              ".list-inline {list-style: none; margin:0; padding: 0}\n",
              ".list-inline>li {display: inline-block}\n",
              ".list-inline>li:not(:last-child)::after {content: \"\\00b7\"; padding: 0 .5ex}\n",
              "</style>\n",
              "<ol class=list-inline><li>1</li><li>3.14159</li><li>5</li><li>-1</li><li>10</li></ol>\n"
            ]
          },
          "metadata": {
            "tags": []
          }
        }
      ]
    },
    {
      "cell_type": "code",
      "metadata": {
        "id": "Z6UcY-nuoXxx",
        "outputId": "04864a76-35df-447d-c44d-a0094f1e1bc3",
        "colab": {
          "base_uri": "https://localhost:8080/",
          "height": 35
        }
      },
      "source": [
        "b_vector= a_vector + c(2, 0.5, -5, 1, -10)\n",
        "b_vector"
      ],
      "execution_count": 9,
      "outputs": [
        {
          "output_type": "display_data",
          "data": {
            "text/plain": [
              "[1] 3.00000 3.64159 0.00000 0.00000 0.00000"
            ],
            "text/latex": "\\begin{enumerate*}\n\\item 3\n\\item 3.64159\n\\item 0\n\\item 0\n\\item 0\n\\end{enumerate*}\n",
            "text/markdown": "1. 3\n2. 3.64159\n3. 0\n4. 0\n5. 0\n\n\n",
            "text/html": [
              "<style>\n",
              ".list-inline {list-style: none; margin:0; padding: 0}\n",
              ".list-inline>li {display: inline-block}\n",
              ".list-inline>li:not(:last-child)::after {content: \"\\00b7\"; padding: 0 .5ex}\n",
              "</style>\n",
              "<ol class=list-inline><li>3</li><li>3.64159</li><li>0</li><li>0</li><li>0</li></ol>\n"
            ]
          },
          "metadata": {
            "tags": []
          }
        }
      ]
    },
    {
      "cell_type": "code",
      "metadata": {
        "id": "YKJA0X9poa-i",
        "outputId": "d938af80-764d-4e80-ccd5-5ecaf98bc963",
        "colab": {
          "base_uri": "https://localhost:8080/",
          "height": 225
        }
      },
      "source": [
        "#square \n",
        "3^2\n",
        "\n",
        "5-2\n",
        "5/2\n",
        "5*3\n",
        "\n",
        "#Q: 5 to the 3rd power? \n",
        "5^3\n",
        "\n",
        "# * means times\n",
        "5*5*5\n",
        "\n",
        "#natural log, No 'ln'\n",
        "log10(100)\n",
        "\n",
        "#exponetial function\n",
        "exp(pi)\n",
        "exp(0)\n",
        "\n",
        "#square-root\n",
        "sqrt(pi)\n",
        "sqrt(100)\n",
        "\n",
        "#Q, 100 to the 1/2 power\n",
        "100^0.5"
      ],
      "execution_count": 10,
      "outputs": [
        {
          "output_type": "display_data",
          "data": {
            "text/plain": [
              "[1] 9"
            ],
            "text/latex": "9",
            "text/markdown": "9",
            "text/html": [
              "9"
            ]
          },
          "metadata": {
            "tags": []
          }
        },
        {
          "output_type": "display_data",
          "data": {
            "text/plain": [
              "[1] 3"
            ],
            "text/latex": "3",
            "text/markdown": "3",
            "text/html": [
              "3"
            ]
          },
          "metadata": {
            "tags": []
          }
        },
        {
          "output_type": "display_data",
          "data": {
            "text/plain": [
              "[1] 2.5"
            ],
            "text/latex": "2.5",
            "text/markdown": "2.5",
            "text/html": [
              "2.5"
            ]
          },
          "metadata": {
            "tags": []
          }
        },
        {
          "output_type": "display_data",
          "data": {
            "text/plain": [
              "[1] 15"
            ],
            "text/latex": "15",
            "text/markdown": "15",
            "text/html": [
              "15"
            ]
          },
          "metadata": {
            "tags": []
          }
        },
        {
          "output_type": "display_data",
          "data": {
            "text/plain": [
              "[1] 125"
            ],
            "text/latex": "125",
            "text/markdown": "125",
            "text/html": [
              "125"
            ]
          },
          "metadata": {
            "tags": []
          }
        },
        {
          "output_type": "display_data",
          "data": {
            "text/plain": [
              "[1] 125"
            ],
            "text/latex": "125",
            "text/markdown": "125",
            "text/html": [
              "125"
            ]
          },
          "metadata": {
            "tags": []
          }
        },
        {
          "output_type": "display_data",
          "data": {
            "text/plain": [
              "[1] 2"
            ],
            "text/latex": "2",
            "text/markdown": "2",
            "text/html": [
              "2"
            ]
          },
          "metadata": {
            "tags": []
          }
        },
        {
          "output_type": "display_data",
          "data": {
            "text/plain": [
              "[1] 23.14069"
            ],
            "text/latex": "23.1406926327793",
            "text/markdown": "23.1406926327793",
            "text/html": [
              "23.1406926327793"
            ]
          },
          "metadata": {
            "tags": []
          }
        },
        {
          "output_type": "display_data",
          "data": {
            "text/plain": [
              "[1] 1"
            ],
            "text/latex": "1",
            "text/markdown": "1",
            "text/html": [
              "1"
            ]
          },
          "metadata": {
            "tags": []
          }
        },
        {
          "output_type": "display_data",
          "data": {
            "text/plain": [
              "[1] 1.772454"
            ],
            "text/latex": "1.77245385090552",
            "text/markdown": "1.77245385090552",
            "text/html": [
              "1.77245385090552"
            ]
          },
          "metadata": {
            "tags": []
          }
        },
        {
          "output_type": "display_data",
          "data": {
            "text/plain": [
              "[1] 10"
            ],
            "text/latex": "10",
            "text/markdown": "10",
            "text/html": [
              "10"
            ]
          },
          "metadata": {
            "tags": []
          }
        },
        {
          "output_type": "display_data",
          "data": {
            "text/plain": [
              "[1] 10"
            ],
            "text/latex": "10",
            "text/markdown": "10",
            "text/html": [
              "10"
            ]
          },
          "metadata": {
            "tags": []
          }
        }
      ]
    },
    {
      "cell_type": "code",
      "metadata": {
        "id": "_q1j_DEEocPH",
        "outputId": "843c4b18-e538-489e-e43d-9467aaba368f",
        "colab": {
          "base_uri": "https://localhost:8080/",
          "height": 52
        }
      },
      "source": [
        "#these are arrays (vectors)\n",
        "#x = seq(0,10, 0.1)\n",
        "#x;\n",
        "x <- 5:9;  # = means assignment, x will stay in memory\n",
        "x;\n",
        "1:15 #no assignment, no results stay in memory\n",
        "z <- 1:15;"
      ],
      "execution_count": 11,
      "outputs": [
        {
          "output_type": "display_data",
          "data": {
            "text/plain": [
              "[1] 5 6 7 8 9"
            ],
            "text/latex": "\\begin{enumerate*}\n\\item 5\n\\item 6\n\\item 7\n\\item 8\n\\item 9\n\\end{enumerate*}\n",
            "text/markdown": "1. 5\n2. 6\n3. 7\n4. 8\n5. 9\n\n\n",
            "text/html": [
              "<style>\n",
              ".list-inline {list-style: none; margin:0; padding: 0}\n",
              ".list-inline>li {display: inline-block}\n",
              ".list-inline>li:not(:last-child)::after {content: \"\\00b7\"; padding: 0 .5ex}\n",
              "</style>\n",
              "<ol class=list-inline><li>5</li><li>6</li><li>7</li><li>8</li><li>9</li></ol>\n"
            ]
          },
          "metadata": {
            "tags": []
          }
        },
        {
          "output_type": "display_data",
          "data": {
            "text/plain": [
              " [1]  1  2  3  4  5  6  7  8  9 10 11 12 13 14 15"
            ],
            "text/latex": "\\begin{enumerate*}\n\\item 1\n\\item 2\n\\item 3\n\\item 4\n\\item 5\n\\item 6\n\\item 7\n\\item 8\n\\item 9\n\\item 10\n\\item 11\n\\item 12\n\\item 13\n\\item 14\n\\item 15\n\\end{enumerate*}\n",
            "text/markdown": "1. 1\n2. 2\n3. 3\n4. 4\n5. 5\n6. 6\n7. 7\n8. 8\n9. 9\n10. 10\n11. 11\n12. 12\n13. 13\n14. 14\n15. 15\n\n\n",
            "text/html": [
              "<style>\n",
              ".list-inline {list-style: none; margin:0; padding: 0}\n",
              ".list-inline>li {display: inline-block}\n",
              ".list-inline>li:not(:last-child)::after {content: \"\\00b7\"; padding: 0 .5ex}\n",
              "</style>\n",
              "<ol class=list-inline><li>1</li><li>2</li><li>3</li><li>4</li><li>5</li><li>6</li><li>7</li><li>8</li><li>9</li><li>10</li><li>11</li><li>12</li><li>13</li><li>14</li><li>15</li></ol>\n"
            ]
          },
          "metadata": {
            "tags": []
          }
        }
      ]
    },
    {
      "cell_type": "code",
      "metadata": {
        "id": "a6ga2hZ1ocSI",
        "outputId": "26709ac5-060a-49fc-f5d9-fd771b231b52",
        "colab": {
          "base_uri": "https://localhost:8080/",
          "height": 52
        }
      },
      "source": [
        "x = 3:10\n",
        "x\n",
        "length(x)  #length() is an function in R\n",
        "#Q what does length() do? \n",
        "\n",
        "help(length)"
      ],
      "execution_count": 12,
      "outputs": [
        {
          "output_type": "display_data",
          "data": {
            "text/plain": [
              "[1]  3  4  5  6  7  8  9 10"
            ],
            "text/latex": "\\begin{enumerate*}\n\\item 3\n\\item 4\n\\item 5\n\\item 6\n\\item 7\n\\item 8\n\\item 9\n\\item 10\n\\end{enumerate*}\n",
            "text/markdown": "1. 3\n2. 4\n3. 5\n4. 6\n5. 7\n6. 8\n7. 9\n8. 10\n\n\n",
            "text/html": [
              "<style>\n",
              ".list-inline {list-style: none; margin:0; padding: 0}\n",
              ".list-inline>li {display: inline-block}\n",
              ".list-inline>li:not(:last-child)::after {content: \"\\00b7\"; padding: 0 .5ex}\n",
              "</style>\n",
              "<ol class=list-inline><li>3</li><li>4</li><li>5</li><li>6</li><li>7</li><li>8</li><li>9</li><li>10</li></ol>\n"
            ]
          },
          "metadata": {
            "tags": []
          }
        },
        {
          "output_type": "display_data",
          "data": {
            "text/plain": [
              "[1] 8"
            ],
            "text/latex": "8",
            "text/markdown": "8",
            "text/html": [
              "8"
            ]
          },
          "metadata": {
            "tags": []
          }
        }
      ]
    },
    {
      "cell_type": "markdown",
      "metadata": {
        "id": "iTPCkQExpeEn"
      },
      "source": [
        "Meaning of the = sign : Assignment"
      ]
    },
    {
      "cell_type": "code",
      "metadata": {
        "id": "YiLt15INocVI"
      },
      "source": [
        "x = 3:10\n",
        "x+1 #no assignment\n",
        "x = x * 2; # what happens to x?\n",
        "#The difference bw theese two lines is an important computing concept\n",
        "# x =x+1, assign a new value from righthandside to the lefthandside.\n",
        "x;"
      ],
      "execution_count": null,
      "outputs": []
    },
    {
      "cell_type": "code",
      "metadata": {
        "id": "93Av-fq4ocYp",
        "outputId": "54d70a3f-8734-4830-be11-e702d995e2e5",
        "colab": {
          "base_uri": "https://localhost:8080/",
          "height": 857
        }
      },
      "source": [
        "x = 1:10\n",
        "y = x+4\n",
        "#simple plot\n",
        "plot( y ~ x, main= \"y ~ x\" );\n",
        "plot( x ~ y, main= \"x~y\" )"
      ],
      "execution_count": 13,
      "outputs": [
        {
          "output_type": "display_data",
          "data": {
            "image/png": "[encoded data removed]",
            "text/plain": [
              "Plot with title “y ~ x”"
            ]
          },
          "metadata": {
            "tags": [],
            "image/png": {
              "width": 420,
              "height": 420
            }
          }
        },
        {
          "output_type": "display_data",
          "data": {
            "image/png": "[encoded data removed]",
            "text/plain": [
              "Plot with title “x~y”"
            ]
          },
          "metadata": {
            "tags": [],
            "image/png": {
              "width": 420,
              "height": 420
            }
          }
        }
      ]
    },
    {
      "cell_type": "code",
      "metadata": {
        "id": "RPbxPMk5psA2",
        "outputId": "cad161a7-1350-48c9-f245-7662750b571f",
        "colab": {
          "base_uri": "https://localhost:8080/",
          "height": 489
        }
      },
      "source": [
        "#this is another way of specifying an array\n",
        "x = c( 0.1, 0.3, 1, 3, 5, 10, 0.001, 0.913 );\n",
        "w = c(1, 3, 5, 7)\n",
        "x[4:6]\n",
        "x[2]\n",
        "x[c(1,5,2)]\n",
        "\n",
        "y = log(x);\n",
        "plot( y ~ x, pch=19 );"
      ],
      "execution_count": 14,
      "outputs": [
        {
          "output_type": "display_data",
          "data": {
            "text/plain": [
              "[1]  3  5 10"
            ],
            "text/latex": "\\begin{enumerate*}\n\\item 3\n\\item 5\n\\item 10\n\\end{enumerate*}\n",
            "text/markdown": "1. 3\n2. 5\n3. 10\n\n\n",
            "text/html": [
              "<style>\n",
              ".list-inline {list-style: none; margin:0; padding: 0}\n",
              ".list-inline>li {display: inline-block}\n",
              ".list-inline>li:not(:last-child)::after {content: \"\\00b7\"; padding: 0 .5ex}\n",
              "</style>\n",
              "<ol class=list-inline><li>3</li><li>5</li><li>10</li></ol>\n"
            ]
          },
          "metadata": {
            "tags": []
          }
        },
        {
          "output_type": "display_data",
          "data": {
            "text/plain": [
              "[1] 0.3"
            ],
            "text/latex": "0.3",
            "text/markdown": "0.3",
            "text/html": [
              "0.3"
            ]
          },
          "metadata": {
            "tags": []
          }
        },
        {
          "output_type": "display_data",
          "data": {
            "text/plain": [
              "[1] 0.1 5.0 0.3"
            ],
            "text/latex": "\\begin{enumerate*}\n\\item 0.1\n\\item 5\n\\item 0.3\n\\end{enumerate*}\n",
            "text/markdown": "1. 0.1\n2. 5\n3. 0.3\n\n\n",
            "text/html": [
              "<style>\n",
              ".list-inline {list-style: none; margin:0; padding: 0}\n",
              ".list-inline>li {display: inline-block}\n",
              ".list-inline>li:not(:last-child)::after {content: \"\\00b7\"; padding: 0 .5ex}\n",
              "</style>\n",
              "<ol class=list-inline><li>0.1</li><li>5</li><li>0.3</li></ol>\n"
            ]
          },
          "metadata": {
            "tags": []
          }
        },
        {
          "output_type": "display_data",
          "data": {
            "image/png": "[encoded data removed]",
            "text/plain": [
              "plot without title"
            ]
          },
          "metadata": {
            "tags": [],
            "image/png": {
              "width": 420,
              "height": 420
            }
          }
        }
      ]
    },
    {
      "cell_type": "code",
      "metadata": {
        "id": "1SCYGA9-pvGb",
        "outputId": "f99458ca-5e0b-4d7d-8951-d99ffcf45eff",
        "colab": {
          "base_uri": "https://localhost:8080/",
          "height": 437
        }
      },
      "source": [
        "mycolors = c(\"red\", \"lightblue\", \"blue\", \"gold\")\n",
        "x = 1:4\n",
        "y = x + 2\n",
        "plot( y ~ x, col=mycolors, pch=19)"
      ],
      "execution_count": 15,
      "outputs": [
        {
          "output_type": "display_data",
          "data": {
            "image/png": "[encoded data removed]",
            "text/plain": [
              "plot without title"
            ]
          },
          "metadata": {
            "tags": [],
            "image/png": {
              "width": 420,
              "height": 420
            }
          }
        }
      ]
    },
    {
      "cell_type": "code",
      "metadata": {
        "id": "Gb_vrH7upxS7"
      },
      "source": [
        ""
      ],
      "execution_count": null,
      "outputs": []
    }
  ]
}
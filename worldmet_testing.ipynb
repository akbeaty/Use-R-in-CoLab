{
  "nbformat": 4,
  "nbformat_minor": 0,
  "metadata": {
    "colab": {
      "name": "worldmet-testing.ipynb",
      "provenance": [],
      "authorship_tag": "ABX9TyMdopwJELJSk982cOTofpOW",
      "include_colab_link": true
    },
    "kernelspec": {
      "name": "ir",
      "display_name": "R"
    }
  },
  "cells": [
    {
      "cell_type": "markdown",
      "metadata": {
        "id": "view-in-github",
        "colab_type": "text"
      },
      "source": [
        "<a href=\"https://colab.research.google.com/github/hongqin/Use-R-in-CoLab/blob/master/worldmet_testing.ipynb\" target=\"_parent\"><img src=\"https://colab.research.google.com/assets/colab-badge.svg\" alt=\"Open In Colab\"/></a>"
      ]
    },
    {
      "cell_type": "code",
      "metadata": {
        "id": "eOQx23yykuRd",
        "outputId": "074ae53c-6536-4363-8e99-01fd924e8d3e",
        "colab": {
          "base_uri": "https://localhost:8080/",
          "height": 138
        }
      },
      "source": [
        "install.packages(\"worldmet\")\n"
      ],
      "execution_count": 5,
      "outputs": [
        {
          "output_type": "stream",
          "text": [
            "Installing package into ‘/usr/local/lib/R/site-library’\n",
            "(as ‘lib’ is unspecified)\n",
            "\n",
            "also installing the dependencies ‘jpeg’, ‘maps’, ‘latticeExtra’, ‘mapproj’, ‘hexbin’, ‘iterators’, ‘png’, ‘raster’, ‘sp’, ‘viridis’, ‘leaflet.providers’, ‘openair’, ‘doParallel’, ‘foreach’, ‘leaflet’, ‘zoo’\n",
            "\n",
            "\n"
          ],
          "name": "stderr"
        }
      ]
    },
    {
      "cell_type": "code",
      "metadata": {
        "id": "g5FRXaofTOxS",
        "outputId": "bbe69053-c0f7-4bde-cea1-4d9dd2b5f113",
        "colab": {
          "base_uri": "https://localhost:8080/",
          "height": 1000
        }
      },
      "source": [
        "library(\"worldmet\")\n",
        "library(worldmet)\n",
        "## user getMeta function to search for sites\n",
        "## note code to be used in importNOAA\n",
        "\n",
        "getMeta(site = \"TN\")\n",
        "##        USAF  WBAN  STATION CTRY ST CALL latitude longitude ELEV(M)\n",
        "## 1669 037720 99999 HEATHROW   UK    EGLL   51.478    -0.461    25.3\n",
        "##           BEGIN        END         code dist\n",
        "## 1669 1948-12-01 2017-12-15 037720-99999   NA\n"
      ],
      "execution_count": 8,
      "outputs": [
        {
          "output_type": "display_data",
          "data": {
            "text/plain": [
              "   usaf   wban  station                                ctry st call latitude\n",
              "1  010370 99999 SKIBOTN 2                              NO   NA NA   69.383  \n",
              "2  010780 99999 SLETTNES FYR                           NO   NA NA   71.100  \n",
              "3  010990 99999 VARDO AP / SVARTNES                    NO   NA ENSS 70.355  \n",
              "4  011320 99999 MAJAVATN V                             NO   NA NA   65.167  \n",
              "5  013450 99999 KLEVAVATNET                            NO   NA NA   60.717  \n",
              "6  013500 99999 FINSEVATN                              NO   NA NA   60.600  \n",
              "7  014190 99999 LIARVATN                               NO   NA NA   59.050  \n",
              "8  020380 99999 LATNIVAARA                             SW   NA NA   67.250  \n",
              "9  022210 99999 KORSVATTNET                            SW   NA NA   63.833  \n",
              "10 023190 99999 BORTNAN                                SW   NA NA   62.750  \n",
              "11 030440 99999 ALTNAHARRA NO2                         UK   NA NA   58.283  \n",
              "12 033540 99999 NOTTINGHAM/WATNALL                     UK   NA NA   53.000  \n",
              "13 041620 99999 VEIDIVATNAHRAUN                        IC   NA NA   64.400  \n",
              "14 083030 99999 ALFABIA MTN RANGE                      SP   NA NA   39.733  \n",
              "15 150560 99999 COTNARI                                RO   NA NA   47.367  \n",
              "16 160520 99999 PIAN ROSA (MTN TOP)                    IT   NA LIMH 45.933  \n",
              "17 256480 99999 SLAUTNOE                               RS   NA NA   63.200  \n",
              "18 261150 99999 RISTNA                                 EN   NA NA   58.917  \n",
              "19 297520 99999 NENASTNAYA                             RS   NA NA   54.750  \n",
              "20 342020 99999 GOTNJA                                 RS   NA NA   50.800  \n",
              "21 347590 99999 REMONTNOE                              RS   NA NA   46.567  \n",
              "22 353946 99999 ZVARTNOTS                              AM   NA UDYZ 40.147  \n",
              "23 371775 99999 KOPITNARI                              GG   NA UGKO 42.177  \n",
              "24 377880 99999 YEREVAN ZVARTNOTS                      AM   NA NA   40.150  \n",
              "25 421480 99999 PANTNAGAR                              IN   NA NA   29.033  \n",
              "26 424920 99999 PATNA                                  IN   NA VEPT 25.591  \n",
              "27 425710 99999 SATNA                                  IN   NA VIST 24.567  \n",
              "28 430420 99999 BHAWANIPATNA                           IN   NA NA   19.917  \n",
              "29 431100 99999 RATNAGIRI                              IN   NA NA   16.983  \n",
              "30 431490 99999 VISHAKHAPATNAM CTLZ                    IN   NA VOVZ 17.717  \n",
              "⋮  ⋮      ⋮     ⋮                                      ⋮    ⋮  ⋮    ⋮       \n",
              "36 604680 99999 BATNA                                  AG   NA DABT  35.752 \n",
              "37 688170 99999 CAPE TOWN - PORTNET                    SF   NA NA   -33.900 \n",
              "38 702510 26528 TALKEETNA AIRPORT                      US   AK PATK  62.320 \n",
              "39 702595 26559 SOLDOTNA AIRPORT                       US   AK PASX  60.476 \n",
              "40 702606 96401 CHULITNA                               US   AK PAEC  62.826 \n",
              "41 714410 99999 GRETNA (AUT)  MAN                      CA   NA CWGN  49.017 \n",
              "42 719280 99999 ROCKY MTN HOUSE (AUT)  ALTA            CA   NA CWRM  52.417 \n",
              "43 720553 99999 PORT AUTH DOWNTN MANHATTAN WALL ST HEL US   NY KJRB  40.701 \n",
              "44 720642 99999 CHEYENNE MTN AS                        US   CO KCWN  38.750 \n",
              "45 720709 99999 PUTNAM COUNTY AIRPORT                  US   OH KOWX  41.036 \n",
              "46 722108 12894 SW FLORIDA INTN AIRPORT                US   FL KRSW  26.536 \n",
              "47 722128 53899 LICONTN-LINCOLN CO RGNL AP             US   NC KIPJ  35.483 \n",
              "48 723070 13786 ELZ CTY CG/AIR STN RGNL AP             US   NC KECG  36.261 \n",
              "49 723350 13877 TRI-CITIES REGIONAL TN/VA AIRPORT      US   TN KTRI  36.480 \n",
              "50 724176 13736 MGTN RGNL-W L B HART FD AP             US   WV KMGW  39.650 \n",
              "51 725434 54789 POCONO MTNS MUNI AIRPORT               US   PA KMPO  41.139 \n",
              "52 726115 54740 HARTNESS ST (SPNGFLD) ARPT             US   VT KVSF  43.344 \n",
              "53 726375 94817 OAKLAND CO. INTNL AIRPORT              US   MI KPTK  42.665 \n",
              "54 727452 04912 CRKSTN MUNI KRKWOD FLD APT             US   MN KCKN  47.842 \n",
              "55 784880 99999 DE LA ROMANA INTNAL                    DR   NA NA    18.450 \n",
              "56 943860 99999 HERON ISLAND RES STN                   AS   NA NA   -23.450 \n",
              "57 944980 99999 LIGHTNING RIDGE CENTRAL SCOOL          AS   NA NA   -29.433 \n",
              "58 945850 99999 GLEN INNES AG RESEARCH STN             AS   NA NA   -29.700 \n",
              "59 946020 99999 ROTTNEST ISLAND                        AS   NA NA   -32.017 \n",
              "60 946030 99999 BADGINGARRA RESEARCH STN               AS   NA NA   -30.333 \n",
              "61 947070 99999 CONDOBLIN AG RESEARCH STN              AS   NA NA   -33.067 \n",
              "62 952920 99999 SOUTH JOHNSTONE EXP STN                AS   NA NA   -17.600 \n",
              "63 952950 99999 AYR DPI RESEARCH STN                   AS   NA NA   -19.617 \n",
              "64 955710 99999 GRAFTON RESEARCH STN                   AS   NA NA   -29.617 \n",
              "65 956390 99999 SALMON GUMS RES. STN                   AS   NA NA   -32.983 \n",
              "   longitude elev(m) begin      end        code         dist\n",
              "1   20.283     20.0  1973-01-01 2020-07-11 010370-99999 NA  \n",
              "2   28.233     10.0  1973-01-01 2020-09-27 010780-99999 NA  \n",
              "3   31.045     12.8  2005-01-02 2020-09-27 010990-99999 NA  \n",
              "4   13.367    319.0  2008-02-29 2020-09-27 011320-99999 NA  \n",
              "5    7.217    960.0  1973-10-07 2020-09-27 013450-99999 NA  \n",
              "6    7.533   1208.0  2003-03-30 2020-09-27 013500-99999 NA  \n",
              "7    6.117    300.0  2010-07-02 2020-09-27 014190-99999 NA  \n",
              "8   20.267    453.0  2001-06-01 2020-09-27 020380-99999 NA  \n",
              "9   13.500    717.0  1997-12-01 2020-09-27 022210-99999 NA  \n",
              "10  13.850    467.0  2001-07-01 2020-09-27 023190-99999 NA  \n",
              "11  -4.433     80.0  1993-03-02 2020-09-27 030440-99999 NA  \n",
              "12  -1.250    117.0  1973-01-01 2020-09-27 033540-99999 NA  \n",
              "13 -18.500    648.0  2007-02-26 2020-09-27 041620-99999 NA  \n",
              "14   2.717   1015.0  1973-01-01 2020-09-27 083030-99999 NA  \n",
              "15  26.933    289.0  1973-07-21 2020-09-27 150560-99999 NA  \n",
              "16   7.700   3488.0  1965-01-29 2020-09-27 160520-99999 NA  \n",
              "17 167.850     44.0  1955-05-01 2020-09-27 256480-99999 NA  \n",
              "18  22.067      9.0  1955-01-01 2020-09-27 261150-99999 NA  \n",
              "19  88.817   1183.0  1953-03-02 2020-09-27 297520-99999 NA  \n",
              "20  35.767    226.0  1959-01-01 2020-09-27 342020-99999 NA  \n",
              "21  43.667    106.0  1948-01-01 2020-09-21 347590-99999 NA  \n",
              "22  44.396    865.0  2004-07-06 2020-09-27 353946-99999 NA  \n",
              "23  42.483     68.0  2005-05-24 2020-09-27 371775-99999 NA  \n",
              "24  44.383    854.0  2001-09-16 2020-09-27 377880-99999 NA  \n",
              "25  79.467    233.0  2007-05-20 2020-09-27 421480-99999 NA  \n",
              "26  85.088     51.8  1944-01-01 2020-09-27 424920-99999 NA  \n",
              "27  80.833    317.0  1944-01-01 2020-09-27 425710-99999 NA  \n",
              "28  83.183    261.0  1981-01-03 2020-09-27 430420-99999 NA  \n",
              "29  73.333     67.0  1944-01-01 2020-09-27 431100-99999 NA  \n",
              "30  83.217      4.6  1954-01-01 2020-09-27 431490-99999 NA  \n",
              "⋮  ⋮         ⋮       ⋮          ⋮          ⋮            ⋮   \n",
              "36    6.309   822.0  1973-01-01 2020-09-27 604680-99999 NA  \n",
              "37   18.433     2.0  1998-03-01 2020-09-27 688170-99999 NA  \n",
              "38 -150.095   106.7  1973-01-01 2020-09-28 702510-26528 NA  \n",
              "39 -151.034    34.4  2006-01-01 2020-09-28 702595-26559 NA  \n",
              "40 -149.907   426.7  2006-01-01 2020-09-27 702606-96401 NA  \n",
              "41  -97.550   253.0  1981-10-26 2020-09-27 714410-99999 NA  \n",
              "42 -114.900   988.0  1955-07-02 2020-09-27 719280-99999 NA  \n",
              "43  -74.009     2.1  2016-07-20 2020-09-27 720553-99999 NA  \n",
              "44 -104.850  2114.0  2012-11-20 2020-09-27 720642-99999 NA  \n",
              "45  -83.982   232.6  2016-09-09 2020-09-27 720709-99999 NA  \n",
              "46  -81.755     9.5  2006-01-01 2020-09-28 722108-12894 NA  \n",
              "47  -81.161   266.7  2006-01-01 2020-09-29 722128-53899 NA  \n",
              "48  -76.175     4.0  2005-01-01 2020-09-29 723070-13786 NA  \n",
              "49  -82.399   456.3  2005-01-01 2020-09-28 723350-13877 NA  \n",
              "50  -79.921   378.0  1973-01-01 2020-09-28 724176-13736 NA  \n",
              "51  -75.379   584.0  2006-01-01 2020-09-29 725434-54789 NA  \n",
              "52  -72.518   176.2  2006-01-01 2020-09-29 726115-54740 NA  \n",
              "53  -83.418   297.5  2006-01-01 2020-09-28 726375-94817 NA  \n",
              "54  -96.621   274.0  2006-01-01 2020-09-28 727452-04912 NA  \n",
              "55  -68.920    94.0  2006-02-01 2020-09-27 784880-99999 NA  \n",
              "56  151.917     6.0  1981-01-01 2020-09-09 943860-99999 NA  \n",
              "57  147.983   154.0  2001-09-15 2020-09-26 944980-99999 NA  \n",
              "58  151.700  1060.0  1990-02-01 2020-09-24 945850-99999 NA  \n",
              "59  115.500    43.0  1990-02-01 2020-09-27 946020-99999 NA  \n",
              "60  115.533   275.0  1990-02-06 2020-09-27 946030-99999 NA  \n",
              "61  147.233   195.0  1965-01-01 2020-09-17 947070-99999 NA  \n",
              "62  146.000    19.0  2001-07-15 2020-09-27 952920-99999 NA  \n",
              "63  147.383    12.0  1997-01-01 2020-09-27 952950-99999 NA  \n",
              "64  152.967    26.0  2003-03-30 2020-09-27 955710-99999 NA  \n",
              "65  121.617   249.0  2001-07-01 2020-09-27 956390-99999 NA  "
            ],
            "text/latex": "A tibble: 65 × 13\n\\begin{tabular}{lllllllllllll}\n usaf & wban & station & ctry & st & call & latitude & longitude & elev(m) & begin & end & code & dist\\\\\n <chr> & <chr> & <chr> & <chr> & <chr> & <chr> & <dbl> & <dbl> & <dbl> & <date> & <date> & <chr> & <lgl>\\\\\n\\hline\n\t 010370 & 99999 & SKIBOTN 2           & NO & NA & NA   & 69.383 &  20.283 &   20.0 & 1973-01-01 & 2020-07-11 & 010370-99999 & NA\\\\\n\t 010780 & 99999 & SLETTNES FYR        & NO & NA & NA   & 71.100 &  28.233 &   10.0 & 1973-01-01 & 2020-09-27 & 010780-99999 & NA\\\\\n\t 010990 & 99999 & VARDO AP / SVARTNES & NO & NA & ENSS & 70.355 &  31.045 &   12.8 & 2005-01-02 & 2020-09-27 & 010990-99999 & NA\\\\\n\t 011320 & 99999 & MAJAVATN V          & NO & NA & NA   & 65.167 &  13.367 &  319.0 & 2008-02-29 & 2020-09-27 & 011320-99999 & NA\\\\\n\t 013450 & 99999 & KLEVAVATNET         & NO & NA & NA   & 60.717 &   7.217 &  960.0 & 1973-10-07 & 2020-09-27 & 013450-99999 & NA\\\\\n\t 013500 & 99999 & FINSEVATN           & NO & NA & NA   & 60.600 &   7.533 & 1208.0 & 2003-03-30 & 2020-09-27 & 013500-99999 & NA\\\\\n\t 014190 & 99999 & LIARVATN            & NO & NA & NA   & 59.050 &   6.117 &  300.0 & 2010-07-02 & 2020-09-27 & 014190-99999 & NA\\\\\n\t 020380 & 99999 & LATNIVAARA          & SW & NA & NA   & 67.250 &  20.267 &  453.0 & 2001-06-01 & 2020-09-27 & 020380-99999 & NA\\\\\n\t 022210 & 99999 & KORSVATTNET         & SW & NA & NA   & 63.833 &  13.500 &  717.0 & 1997-12-01 & 2020-09-27 & 022210-99999 & NA\\\\\n\t 023190 & 99999 & BORTNAN             & SW & NA & NA   & 62.750 &  13.850 &  467.0 & 2001-07-01 & 2020-09-27 & 023190-99999 & NA\\\\\n\t 030440 & 99999 & ALTNAHARRA NO2      & UK & NA & NA   & 58.283 &  -4.433 &   80.0 & 1993-03-02 & 2020-09-27 & 030440-99999 & NA\\\\\n\t 033540 & 99999 & NOTTINGHAM/WATNALL  & UK & NA & NA   & 53.000 &  -1.250 &  117.0 & 1973-01-01 & 2020-09-27 & 033540-99999 & NA\\\\\n\t 041620 & 99999 & VEIDIVATNAHRAUN     & IC & NA & NA   & 64.400 & -18.500 &  648.0 & 2007-02-26 & 2020-09-27 & 041620-99999 & NA\\\\\n\t 083030 & 99999 & ALFABIA MTN RANGE   & SP & NA & NA   & 39.733 &   2.717 & 1015.0 & 1973-01-01 & 2020-09-27 & 083030-99999 & NA\\\\\n\t 150560 & 99999 & COTNARI             & RO & NA & NA   & 47.367 &  26.933 &  289.0 & 1973-07-21 & 2020-09-27 & 150560-99999 & NA\\\\\n\t 160520 & 99999 & PIAN ROSA (MTN TOP) & IT & NA & LIMH & 45.933 &   7.700 & 3488.0 & 1965-01-29 & 2020-09-27 & 160520-99999 & NA\\\\\n\t 256480 & 99999 & SLAUTNOE            & RS & NA & NA   & 63.200 & 167.850 &   44.0 & 1955-05-01 & 2020-09-27 & 256480-99999 & NA\\\\\n\t 261150 & 99999 & RISTNA              & EN & NA & NA   & 58.917 &  22.067 &    9.0 & 1955-01-01 & 2020-09-27 & 261150-99999 & NA\\\\\n\t 297520 & 99999 & NENASTNAYA          & RS & NA & NA   & 54.750 &  88.817 & 1183.0 & 1953-03-02 & 2020-09-27 & 297520-99999 & NA\\\\\n\t 342020 & 99999 & GOTNJA              & RS & NA & NA   & 50.800 &  35.767 &  226.0 & 1959-01-01 & 2020-09-27 & 342020-99999 & NA\\\\\n\t 347590 & 99999 & REMONTNOE           & RS & NA & NA   & 46.567 &  43.667 &  106.0 & 1948-01-01 & 2020-09-21 & 347590-99999 & NA\\\\\n\t 353946 & 99999 & ZVARTNOTS           & AM & NA & UDYZ & 40.147 &  44.396 &  865.0 & 2004-07-06 & 2020-09-27 & 353946-99999 & NA\\\\\n\t 371775 & 99999 & KOPITNARI           & GG & NA & UGKO & 42.177 &  42.483 &   68.0 & 2005-05-24 & 2020-09-27 & 371775-99999 & NA\\\\\n\t 377880 & 99999 & YEREVAN ZVARTNOTS   & AM & NA & NA   & 40.150 &  44.383 &  854.0 & 2001-09-16 & 2020-09-27 & 377880-99999 & NA\\\\\n\t 421480 & 99999 & PANTNAGAR           & IN & NA & NA   & 29.033 &  79.467 &  233.0 & 2007-05-20 & 2020-09-27 & 421480-99999 & NA\\\\\n\t 424920 & 99999 & PATNA               & IN & NA & VEPT & 25.591 &  85.088 &   51.8 & 1944-01-01 & 2020-09-27 & 424920-99999 & NA\\\\\n\t 425710 & 99999 & SATNA               & IN & NA & VIST & 24.567 &  80.833 &  317.0 & 1944-01-01 & 2020-09-27 & 425710-99999 & NA\\\\\n\t 430420 & 99999 & BHAWANIPATNA        & IN & NA & NA   & 19.917 &  83.183 &  261.0 & 1981-01-03 & 2020-09-27 & 430420-99999 & NA\\\\\n\t 431100 & 99999 & RATNAGIRI           & IN & NA & NA   & 16.983 &  73.333 &   67.0 & 1944-01-01 & 2020-09-27 & 431100-99999 & NA\\\\\n\t 431490 & 99999 & VISHAKHAPATNAM CTLZ & IN & NA & VOVZ & 17.717 &  83.217 &    4.6 & 1954-01-01 & 2020-09-27 & 431490-99999 & NA\\\\\n\t ⋮ & ⋮ & ⋮ & ⋮ & ⋮ & ⋮ & ⋮ & ⋮ & ⋮ & ⋮ & ⋮ & ⋮ & ⋮\\\\\n\t 604680 & 99999 & BATNA                                  & AG & NA & DABT &  35.752 &    6.309 &  822.0 & 1973-01-01 & 2020-09-27 & 604680-99999 & NA\\\\\n\t 688170 & 99999 & CAPE TOWN - PORTNET                    & SF & NA & NA   & -33.900 &   18.433 &    2.0 & 1998-03-01 & 2020-09-27 & 688170-99999 & NA\\\\\n\t 702510 & 26528 & TALKEETNA AIRPORT                      & US & AK & PATK &  62.320 & -150.095 &  106.7 & 1973-01-01 & 2020-09-28 & 702510-26528 & NA\\\\\n\t 702595 & 26559 & SOLDOTNA AIRPORT                       & US & AK & PASX &  60.476 & -151.034 &   34.4 & 2006-01-01 & 2020-09-28 & 702595-26559 & NA\\\\\n\t 702606 & 96401 & CHULITNA                               & US & AK & PAEC &  62.826 & -149.907 &  426.7 & 2006-01-01 & 2020-09-27 & 702606-96401 & NA\\\\\n\t 714410 & 99999 & GRETNA (AUT)  MAN                      & CA & NA & CWGN &  49.017 &  -97.550 &  253.0 & 1981-10-26 & 2020-09-27 & 714410-99999 & NA\\\\\n\t 719280 & 99999 & ROCKY MTN HOUSE (AUT)  ALTA            & CA & NA & CWRM &  52.417 & -114.900 &  988.0 & 1955-07-02 & 2020-09-27 & 719280-99999 & NA\\\\\n\t 720553 & 99999 & PORT AUTH DOWNTN MANHATTAN WALL ST HEL & US & NY & KJRB &  40.701 &  -74.009 &    2.1 & 2016-07-20 & 2020-09-27 & 720553-99999 & NA\\\\\n\t 720642 & 99999 & CHEYENNE MTN AS                        & US & CO & KCWN &  38.750 & -104.850 & 2114.0 & 2012-11-20 & 2020-09-27 & 720642-99999 & NA\\\\\n\t 720709 & 99999 & PUTNAM COUNTY AIRPORT                  & US & OH & KOWX &  41.036 &  -83.982 &  232.6 & 2016-09-09 & 2020-09-27 & 720709-99999 & NA\\\\\n\t 722108 & 12894 & SW FLORIDA INTN AIRPORT                & US & FL & KRSW &  26.536 &  -81.755 &    9.5 & 2006-01-01 & 2020-09-28 & 722108-12894 & NA\\\\\n\t 722128 & 53899 & LICONTN-LINCOLN CO RGNL AP             & US & NC & KIPJ &  35.483 &  -81.161 &  266.7 & 2006-01-01 & 2020-09-29 & 722128-53899 & NA\\\\\n\t 723070 & 13786 & ELZ CTY CG/AIR STN RGNL AP             & US & NC & KECG &  36.261 &  -76.175 &    4.0 & 2005-01-01 & 2020-09-29 & 723070-13786 & NA\\\\\n\t 723350 & 13877 & TRI-CITIES REGIONAL TN/VA AIRPORT      & US & TN & KTRI &  36.480 &  -82.399 &  456.3 & 2005-01-01 & 2020-09-28 & 723350-13877 & NA\\\\\n\t 724176 & 13736 & MGTN RGNL-W L B HART FD AP             & US & WV & KMGW &  39.650 &  -79.921 &  378.0 & 1973-01-01 & 2020-09-28 & 724176-13736 & NA\\\\\n\t 725434 & 54789 & POCONO MTNS MUNI AIRPORT               & US & PA & KMPO &  41.139 &  -75.379 &  584.0 & 2006-01-01 & 2020-09-29 & 725434-54789 & NA\\\\\n\t 726115 & 54740 & HARTNESS ST (SPNGFLD) ARPT             & US & VT & KVSF &  43.344 &  -72.518 &  176.2 & 2006-01-01 & 2020-09-29 & 726115-54740 & NA\\\\\n\t 726375 & 94817 & OAKLAND CO. INTNL AIRPORT              & US & MI & KPTK &  42.665 &  -83.418 &  297.5 & 2006-01-01 & 2020-09-28 & 726375-94817 & NA\\\\\n\t 727452 & 04912 & CRKSTN MUNI KRKWOD FLD APT             & US & MN & KCKN &  47.842 &  -96.621 &  274.0 & 2006-01-01 & 2020-09-28 & 727452-04912 & NA\\\\\n\t 784880 & 99999 & DE LA ROMANA INTNAL                    & DR & NA & NA   &  18.450 &  -68.920 &   94.0 & 2006-02-01 & 2020-09-27 & 784880-99999 & NA\\\\\n\t 943860 & 99999 & HERON ISLAND RES STN                   & AS & NA & NA   & -23.450 &  151.917 &    6.0 & 1981-01-01 & 2020-09-09 & 943860-99999 & NA\\\\\n\t 944980 & 99999 & LIGHTNING RIDGE CENTRAL SCOOL          & AS & NA & NA   & -29.433 &  147.983 &  154.0 & 2001-09-15 & 2020-09-26 & 944980-99999 & NA\\\\\n\t 945850 & 99999 & GLEN INNES AG RESEARCH STN             & AS & NA & NA   & -29.700 &  151.700 & 1060.0 & 1990-02-01 & 2020-09-24 & 945850-99999 & NA\\\\\n\t 946020 & 99999 & ROTTNEST ISLAND                        & AS & NA & NA   & -32.017 &  115.500 &   43.0 & 1990-02-01 & 2020-09-27 & 946020-99999 & NA\\\\\n\t 946030 & 99999 & BADGINGARRA RESEARCH STN               & AS & NA & NA   & -30.333 &  115.533 &  275.0 & 1990-02-06 & 2020-09-27 & 946030-99999 & NA\\\\\n\t 947070 & 99999 & CONDOBLIN AG RESEARCH STN              & AS & NA & NA   & -33.067 &  147.233 &  195.0 & 1965-01-01 & 2020-09-17 & 947070-99999 & NA\\\\\n\t 952920 & 99999 & SOUTH JOHNSTONE EXP STN                & AS & NA & NA   & -17.600 &  146.000 &   19.0 & 2001-07-15 & 2020-09-27 & 952920-99999 & NA\\\\\n\t 952950 & 99999 & AYR DPI RESEARCH STN                   & AS & NA & NA   & -19.617 &  147.383 &   12.0 & 1997-01-01 & 2020-09-27 & 952950-99999 & NA\\\\\n\t 955710 & 99999 & GRAFTON RESEARCH STN                   & AS & NA & NA   & -29.617 &  152.967 &   26.0 & 2003-03-30 & 2020-09-27 & 955710-99999 & NA\\\\\n\t 956390 & 99999 & SALMON GUMS RES. STN                   & AS & NA & NA   & -32.983 &  121.617 &  249.0 & 2001-07-01 & 2020-09-27 & 956390-99999 & NA\\\\\n\\end{tabular}\n",
            "text/markdown": "\nA tibble: 65 × 13\n\n| usaf &lt;chr&gt; | wban &lt;chr&gt; | station &lt;chr&gt; | ctry &lt;chr&gt; | st &lt;chr&gt; | call &lt;chr&gt; | latitude &lt;dbl&gt; | longitude &lt;dbl&gt; | elev(m) &lt;dbl&gt; | begin &lt;date&gt; | end &lt;date&gt; | code &lt;chr&gt; | dist &lt;lgl&gt; |\n|---|---|---|---|---|---|---|---|---|---|---|---|---|\n| 010370 | 99999 | SKIBOTN 2           | NO | NA | NA   | 69.383 |  20.283 |   20.0 | 1973-01-01 | 2020-07-11 | 010370-99999 | NA |\n| 010780 | 99999 | SLETTNES FYR        | NO | NA | NA   | 71.100 |  28.233 |   10.0 | 1973-01-01 | 2020-09-27 | 010780-99999 | NA |\n| 010990 | 99999 | VARDO AP / SVARTNES | NO | NA | ENSS | 70.355 |  31.045 |   12.8 | 2005-01-02 | 2020-09-27 | 010990-99999 | NA |\n| 011320 | 99999 | MAJAVATN V          | NO | NA | NA   | 65.167 |  13.367 |  319.0 | 2008-02-29 | 2020-09-27 | 011320-99999 | NA |\n| 013450 | 99999 | KLEVAVATNET         | NO | NA | NA   | 60.717 |   7.217 |  960.0 | 1973-10-07 | 2020-09-27 | 013450-99999 | NA |\n| 013500 | 99999 | FINSEVATN           | NO | NA | NA   | 60.600 |   7.533 | 1208.0 | 2003-03-30 | 2020-09-27 | 013500-99999 | NA |\n| 014190 | 99999 | LIARVATN            | NO | NA | NA   | 59.050 |   6.117 |  300.0 | 2010-07-02 | 2020-09-27 | 014190-99999 | NA |\n| 020380 | 99999 | LATNIVAARA          | SW | NA | NA   | 67.250 |  20.267 |  453.0 | 2001-06-01 | 2020-09-27 | 020380-99999 | NA |\n| 022210 | 99999 | KORSVATTNET         | SW | NA | NA   | 63.833 |  13.500 |  717.0 | 1997-12-01 | 2020-09-27 | 022210-99999 | NA |\n| 023190 | 99999 | BORTNAN             | SW | NA | NA   | 62.750 |  13.850 |  467.0 | 2001-07-01 | 2020-09-27 | 023190-99999 | NA |\n| 030440 | 99999 | ALTNAHARRA NO2      | UK | NA | NA   | 58.283 |  -4.433 |   80.0 | 1993-03-02 | 2020-09-27 | 030440-99999 | NA |\n| 033540 | 99999 | NOTTINGHAM/WATNALL  | UK | NA | NA   | 53.000 |  -1.250 |  117.0 | 1973-01-01 | 2020-09-27 | 033540-99999 | NA |\n| 041620 | 99999 | VEIDIVATNAHRAUN     | IC | NA | NA   | 64.400 | -18.500 |  648.0 | 2007-02-26 | 2020-09-27 | 041620-99999 | NA |\n| 083030 | 99999 | ALFABIA MTN RANGE   | SP | NA | NA   | 39.733 |   2.717 | 1015.0 | 1973-01-01 | 2020-09-27 | 083030-99999 | NA |\n| 150560 | 99999 | COTNARI             | RO | NA | NA   | 47.367 |  26.933 |  289.0 | 1973-07-21 | 2020-09-27 | 150560-99999 | NA |\n| 160520 | 99999 | PIAN ROSA (MTN TOP) | IT | NA | LIMH | 45.933 |   7.700 | 3488.0 | 1965-01-29 | 2020-09-27 | 160520-99999 | NA |\n| 256480 | 99999 | SLAUTNOE            | RS | NA | NA   | 63.200 | 167.850 |   44.0 | 1955-05-01 | 2020-09-27 | 256480-99999 | NA |\n| 261150 | 99999 | RISTNA              | EN | NA | NA   | 58.917 |  22.067 |    9.0 | 1955-01-01 | 2020-09-27 | 261150-99999 | NA |\n| 297520 | 99999 | NENASTNAYA          | RS | NA | NA   | 54.750 |  88.817 | 1183.0 | 1953-03-02 | 2020-09-27 | 297520-99999 | NA |\n| 342020 | 99999 | GOTNJA              | RS | NA | NA   | 50.800 |  35.767 |  226.0 | 1959-01-01 | 2020-09-27 | 342020-99999 | NA |\n| 347590 | 99999 | REMONTNOE           | RS | NA | NA   | 46.567 |  43.667 |  106.0 | 1948-01-01 | 2020-09-21 | 347590-99999 | NA |\n| 353946 | 99999 | ZVARTNOTS           | AM | NA | UDYZ | 40.147 |  44.396 |  865.0 | 2004-07-06 | 2020-09-27 | 353946-99999 | NA |\n| 371775 | 99999 | KOPITNARI           | GG | NA | UGKO | 42.177 |  42.483 |   68.0 | 2005-05-24 | 2020-09-27 | 371775-99999 | NA |\n| 377880 | 99999 | YEREVAN ZVARTNOTS   | AM | NA | NA   | 40.150 |  44.383 |  854.0 | 2001-09-16 | 2020-09-27 | 377880-99999 | NA |\n| 421480 | 99999 | PANTNAGAR           | IN | NA | NA   | 29.033 |  79.467 |  233.0 | 2007-05-20 | 2020-09-27 | 421480-99999 | NA |\n| 424920 | 99999 | PATNA               | IN | NA | VEPT | 25.591 |  85.088 |   51.8 | 1944-01-01 | 2020-09-27 | 424920-99999 | NA |\n| 425710 | 99999 | SATNA               | IN | NA | VIST | 24.567 |  80.833 |  317.0 | 1944-01-01 | 2020-09-27 | 425710-99999 | NA |\n| 430420 | 99999 | BHAWANIPATNA        | IN | NA | NA   | 19.917 |  83.183 |  261.0 | 1981-01-03 | 2020-09-27 | 430420-99999 | NA |\n| 431100 | 99999 | RATNAGIRI           | IN | NA | NA   | 16.983 |  73.333 |   67.0 | 1944-01-01 | 2020-09-27 | 431100-99999 | NA |\n| 431490 | 99999 | VISHAKHAPATNAM CTLZ | IN | NA | VOVZ | 17.717 |  83.217 |    4.6 | 1954-01-01 | 2020-09-27 | 431490-99999 | NA |\n| ⋮ | ⋮ | ⋮ | ⋮ | ⋮ | ⋮ | ⋮ | ⋮ | ⋮ | ⋮ | ⋮ | ⋮ | ⋮ |\n| 604680 | 99999 | BATNA                                  | AG | NA | DABT |  35.752 |    6.309 |  822.0 | 1973-01-01 | 2020-09-27 | 604680-99999 | NA |\n| 688170 | 99999 | CAPE TOWN - PORTNET                    | SF | NA | NA   | -33.900 |   18.433 |    2.0 | 1998-03-01 | 2020-09-27 | 688170-99999 | NA |\n| 702510 | 26528 | TALKEETNA AIRPORT                      | US | AK | PATK |  62.320 | -150.095 |  106.7 | 1973-01-01 | 2020-09-28 | 702510-26528 | NA |\n| 702595 | 26559 | SOLDOTNA AIRPORT                       | US | AK | PASX |  60.476 | -151.034 |   34.4 | 2006-01-01 | 2020-09-28 | 702595-26559 | NA |\n| 702606 | 96401 | CHULITNA                               | US | AK | PAEC |  62.826 | -149.907 |  426.7 | 2006-01-01 | 2020-09-27 | 702606-96401 | NA |\n| 714410 | 99999 | GRETNA (AUT)  MAN                      | CA | NA | CWGN |  49.017 |  -97.550 |  253.0 | 1981-10-26 | 2020-09-27 | 714410-99999 | NA |\n| 719280 | 99999 | ROCKY MTN HOUSE (AUT)  ALTA            | CA | NA | CWRM |  52.417 | -114.900 |  988.0 | 1955-07-02 | 2020-09-27 | 719280-99999 | NA |\n| 720553 | 99999 | PORT AUTH DOWNTN MANHATTAN WALL ST HEL | US | NY | KJRB |  40.701 |  -74.009 |    2.1 | 2016-07-20 | 2020-09-27 | 720553-99999 | NA |\n| 720642 | 99999 | CHEYENNE MTN AS                        | US | CO | KCWN |  38.750 | -104.850 | 2114.0 | 2012-11-20 | 2020-09-27 | 720642-99999 | NA |\n| 720709 | 99999 | PUTNAM COUNTY AIRPORT                  | US | OH | KOWX |  41.036 |  -83.982 |  232.6 | 2016-09-09 | 2020-09-27 | 720709-99999 | NA |\n| 722108 | 12894 | SW FLORIDA INTN AIRPORT                | US | FL | KRSW |  26.536 |  -81.755 |    9.5 | 2006-01-01 | 2020-09-28 | 722108-12894 | NA |\n| 722128 | 53899 | LICONTN-LINCOLN CO RGNL AP             | US | NC | KIPJ |  35.483 |  -81.161 |  266.7 | 2006-01-01 | 2020-09-29 | 722128-53899 | NA |\n| 723070 | 13786 | ELZ CTY CG/AIR STN RGNL AP             | US | NC | KECG |  36.261 |  -76.175 |    4.0 | 2005-01-01 | 2020-09-29 | 723070-13786 | NA |\n| 723350 | 13877 | TRI-CITIES REGIONAL TN/VA AIRPORT      | US | TN | KTRI |  36.480 |  -82.399 |  456.3 | 2005-01-01 | 2020-09-28 | 723350-13877 | NA |\n| 724176 | 13736 | MGTN RGNL-W L B HART FD AP             | US | WV | KMGW |  39.650 |  -79.921 |  378.0 | 1973-01-01 | 2020-09-28 | 724176-13736 | NA |\n| 725434 | 54789 | POCONO MTNS MUNI AIRPORT               | US | PA | KMPO |  41.139 |  -75.379 |  584.0 | 2006-01-01 | 2020-09-29 | 725434-54789 | NA |\n| 726115 | 54740 | HARTNESS ST (SPNGFLD) ARPT             | US | VT | KVSF |  43.344 |  -72.518 |  176.2 | 2006-01-01 | 2020-09-29 | 726115-54740 | NA |\n| 726375 | 94817 | OAKLAND CO. INTNL AIRPORT              | US | MI | KPTK |  42.665 |  -83.418 |  297.5 | 2006-01-01 | 2020-09-28 | 726375-94817 | NA |\n| 727452 | 04912 | CRKSTN MUNI KRKWOD FLD APT             | US | MN | KCKN |  47.842 |  -96.621 |  274.0 | 2006-01-01 | 2020-09-28 | 727452-04912 | NA |\n| 784880 | 99999 | DE LA ROMANA INTNAL                    | DR | NA | NA   |  18.450 |  -68.920 |   94.0 | 2006-02-01 | 2020-09-27 | 784880-99999 | NA |\n| 943860 | 99999 | HERON ISLAND RES STN                   | AS | NA | NA   | -23.450 |  151.917 |    6.0 | 1981-01-01 | 2020-09-09 | 943860-99999 | NA |\n| 944980 | 99999 | LIGHTNING RIDGE CENTRAL SCOOL          | AS | NA | NA   | -29.433 |  147.983 |  154.0 | 2001-09-15 | 2020-09-26 | 944980-99999 | NA |\n| 945850 | 99999 | GLEN INNES AG RESEARCH STN             | AS | NA | NA   | -29.700 |  151.700 | 1060.0 | 1990-02-01 | 2020-09-24 | 945850-99999 | NA |\n| 946020 | 99999 | ROTTNEST ISLAND                        | AS | NA | NA   | -32.017 |  115.500 |   43.0 | 1990-02-01 | 2020-09-27 | 946020-99999 | NA |\n| 946030 | 99999 | BADGINGARRA RESEARCH STN               | AS | NA | NA   | -30.333 |  115.533 |  275.0 | 1990-02-06 | 2020-09-27 | 946030-99999 | NA |\n| 947070 | 99999 | CONDOBLIN AG RESEARCH STN              | AS | NA | NA   | -33.067 |  147.233 |  195.0 | 1965-01-01 | 2020-09-17 | 947070-99999 | NA |\n| 952920 | 99999 | SOUTH JOHNSTONE EXP STN                | AS | NA | NA   | -17.600 |  146.000 |   19.0 | 2001-07-15 | 2020-09-27 | 952920-99999 | NA |\n| 952950 | 99999 | AYR DPI RESEARCH STN                   | AS | NA | NA   | -19.617 |  147.383 |   12.0 | 1997-01-01 | 2020-09-27 | 952950-99999 | NA |\n| 955710 | 99999 | GRAFTON RESEARCH STN                   | AS | NA | NA   | -29.617 |  152.967 |   26.0 | 2003-03-30 | 2020-09-27 | 955710-99999 | NA |\n| 956390 | 99999 | SALMON GUMS RES. STN                   | AS | NA | NA   | -32.983 |  121.617 |  249.0 | 2001-07-01 | 2020-09-27 | 956390-99999 | NA |\n\n",
            "text/html": [
              "<table>\n",
              "<caption>A tibble: 65 × 13</caption>\n",
              "<thead>\n",
              "\t<tr><th scope=col>usaf</th><th scope=col>wban</th><th scope=col>station</th><th scope=col>ctry</th><th scope=col>st</th><th scope=col>call</th><th scope=col>latitude</th><th scope=col>longitude</th><th scope=col>elev(m)</th><th scope=col>begin</th><th scope=col>end</th><th scope=col>code</th><th scope=col>dist</th></tr>\n",
              "\t<tr><th scope=col>&lt;chr&gt;</th><th scope=col>&lt;chr&gt;</th><th scope=col>&lt;chr&gt;</th><th scope=col>&lt;chr&gt;</th><th scope=col>&lt;chr&gt;</th><th scope=col>&lt;chr&gt;</th><th scope=col>&lt;dbl&gt;</th><th scope=col>&lt;dbl&gt;</th><th scope=col>&lt;dbl&gt;</th><th scope=col>&lt;date&gt;</th><th scope=col>&lt;date&gt;</th><th scope=col>&lt;chr&gt;</th><th scope=col>&lt;lgl&gt;</th></tr>\n",
              "</thead>\n",
              "<tbody>\n",
              "\t<tr><td>010370</td><td>99999</td><td>SKIBOTN 2          </td><td>NO</td><td>NA</td><td>NA  </td><td>69.383</td><td> 20.283</td><td>  20.0</td><td>1973-01-01</td><td>2020-07-11</td><td>010370-99999</td><td>NA</td></tr>\n",
              "\t<tr><td>010780</td><td>99999</td><td>SLETTNES FYR       </td><td>NO</td><td>NA</td><td>NA  </td><td>71.100</td><td> 28.233</td><td>  10.0</td><td>1973-01-01</td><td>2020-09-27</td><td>010780-99999</td><td>NA</td></tr>\n",
              "\t<tr><td>010990</td><td>99999</td><td>VARDO AP / SVARTNES</td><td>NO</td><td>NA</td><td>ENSS</td><td>70.355</td><td> 31.045</td><td>  12.8</td><td>2005-01-02</td><td>2020-09-27</td><td>010990-99999</td><td>NA</td></tr>\n",
              "\t<tr><td>011320</td><td>99999</td><td>MAJAVATN V         </td><td>NO</td><td>NA</td><td>NA  </td><td>65.167</td><td> 13.367</td><td> 319.0</td><td>2008-02-29</td><td>2020-09-27</td><td>011320-99999</td><td>NA</td></tr>\n",
              "\t<tr><td>013450</td><td>99999</td><td>KLEVAVATNET        </td><td>NO</td><td>NA</td><td>NA  </td><td>60.717</td><td>  7.217</td><td> 960.0</td><td>1973-10-07</td><td>2020-09-27</td><td>013450-99999</td><td>NA</td></tr>\n",
              "\t<tr><td>013500</td><td>99999</td><td>FINSEVATN          </td><td>NO</td><td>NA</td><td>NA  </td><td>60.600</td><td>  7.533</td><td>1208.0</td><td>2003-03-30</td><td>2020-09-27</td><td>013500-99999</td><td>NA</td></tr>\n",
              "\t<tr><td>014190</td><td>99999</td><td>LIARVATN           </td><td>NO</td><td>NA</td><td>NA  </td><td>59.050</td><td>  6.117</td><td> 300.0</td><td>2010-07-02</td><td>2020-09-27</td><td>014190-99999</td><td>NA</td></tr>\n",
              "\t<tr><td>020380</td><td>99999</td><td>LATNIVAARA         </td><td>SW</td><td>NA</td><td>NA  </td><td>67.250</td><td> 20.267</td><td> 453.0</td><td>2001-06-01</td><td>2020-09-27</td><td>020380-99999</td><td>NA</td></tr>\n",
              "\t<tr><td>022210</td><td>99999</td><td>KORSVATTNET        </td><td>SW</td><td>NA</td><td>NA  </td><td>63.833</td><td> 13.500</td><td> 717.0</td><td>1997-12-01</td><td>2020-09-27</td><td>022210-99999</td><td>NA</td></tr>\n",
              "\t<tr><td>023190</td><td>99999</td><td>BORTNAN            </td><td>SW</td><td>NA</td><td>NA  </td><td>62.750</td><td> 13.850</td><td> 467.0</td><td>2001-07-01</td><td>2020-09-27</td><td>023190-99999</td><td>NA</td></tr>\n",
              "\t<tr><td>030440</td><td>99999</td><td>ALTNAHARRA NO2     </td><td>UK</td><td>NA</td><td>NA  </td><td>58.283</td><td> -4.433</td><td>  80.0</td><td>1993-03-02</td><td>2020-09-27</td><td>030440-99999</td><td>NA</td></tr>\n",
              "\t<tr><td>033540</td><td>99999</td><td>NOTTINGHAM/WATNALL </td><td>UK</td><td>NA</td><td>NA  </td><td>53.000</td><td> -1.250</td><td> 117.0</td><td>1973-01-01</td><td>2020-09-27</td><td>033540-99999</td><td>NA</td></tr>\n",
              "\t<tr><td>041620</td><td>99999</td><td>VEIDIVATNAHRAUN    </td><td>IC</td><td>NA</td><td>NA  </td><td>64.400</td><td>-18.500</td><td> 648.0</td><td>2007-02-26</td><td>2020-09-27</td><td>041620-99999</td><td>NA</td></tr>\n",
              "\t<tr><td>083030</td><td>99999</td><td>ALFABIA MTN RANGE  </td><td>SP</td><td>NA</td><td>NA  </td><td>39.733</td><td>  2.717</td><td>1015.0</td><td>1973-01-01</td><td>2020-09-27</td><td>083030-99999</td><td>NA</td></tr>\n",
              "\t<tr><td>150560</td><td>99999</td><td>COTNARI            </td><td>RO</td><td>NA</td><td>NA  </td><td>47.367</td><td> 26.933</td><td> 289.0</td><td>1973-07-21</td><td>2020-09-27</td><td>150560-99999</td><td>NA</td></tr>\n",
              "\t<tr><td>160520</td><td>99999</td><td>PIAN ROSA (MTN TOP)</td><td>IT</td><td>NA</td><td>LIMH</td><td>45.933</td><td>  7.700</td><td>3488.0</td><td>1965-01-29</td><td>2020-09-27</td><td>160520-99999</td><td>NA</td></tr>\n",
              "\t<tr><td>256480</td><td>99999</td><td>SLAUTNOE           </td><td>RS</td><td>NA</td><td>NA  </td><td>63.200</td><td>167.850</td><td>  44.0</td><td>1955-05-01</td><td>2020-09-27</td><td>256480-99999</td><td>NA</td></tr>\n",
              "\t<tr><td>261150</td><td>99999</td><td>RISTNA             </td><td>EN</td><td>NA</td><td>NA  </td><td>58.917</td><td> 22.067</td><td>   9.0</td><td>1955-01-01</td><td>2020-09-27</td><td>261150-99999</td><td>NA</td></tr>\n",
              "\t<tr><td>297520</td><td>99999</td><td>NENASTNAYA         </td><td>RS</td><td>NA</td><td>NA  </td><td>54.750</td><td> 88.817</td><td>1183.0</td><td>1953-03-02</td><td>2020-09-27</td><td>297520-99999</td><td>NA</td></tr>\n",
              "\t<tr><td>342020</td><td>99999</td><td>GOTNJA             </td><td>RS</td><td>NA</td><td>NA  </td><td>50.800</td><td> 35.767</td><td> 226.0</td><td>1959-01-01</td><td>2020-09-27</td><td>342020-99999</td><td>NA</td></tr>\n",
              "\t<tr><td>347590</td><td>99999</td><td>REMONTNOE          </td><td>RS</td><td>NA</td><td>NA  </td><td>46.567</td><td> 43.667</td><td> 106.0</td><td>1948-01-01</td><td>2020-09-21</td><td>347590-99999</td><td>NA</td></tr>\n",
              "\t<tr><td>353946</td><td>99999</td><td>ZVARTNOTS          </td><td>AM</td><td>NA</td><td>UDYZ</td><td>40.147</td><td> 44.396</td><td> 865.0</td><td>2004-07-06</td><td>2020-09-27</td><td>353946-99999</td><td>NA</td></tr>\n",
              "\t<tr><td>371775</td><td>99999</td><td>KOPITNARI          </td><td>GG</td><td>NA</td><td>UGKO</td><td>42.177</td><td> 42.483</td><td>  68.0</td><td>2005-05-24</td><td>2020-09-27</td><td>371775-99999</td><td>NA</td></tr>\n",
              "\t<tr><td>377880</td><td>99999</td><td>YEREVAN ZVARTNOTS  </td><td>AM</td><td>NA</td><td>NA  </td><td>40.150</td><td> 44.383</td><td> 854.0</td><td>2001-09-16</td><td>2020-09-27</td><td>377880-99999</td><td>NA</td></tr>\n",
              "\t<tr><td>421480</td><td>99999</td><td>PANTNAGAR          </td><td>IN</td><td>NA</td><td>NA  </td><td>29.033</td><td> 79.467</td><td> 233.0</td><td>2007-05-20</td><td>2020-09-27</td><td>421480-99999</td><td>NA</td></tr>\n",
              "\t<tr><td>424920</td><td>99999</td><td>PATNA              </td><td>IN</td><td>NA</td><td>VEPT</td><td>25.591</td><td> 85.088</td><td>  51.8</td><td>1944-01-01</td><td>2020-09-27</td><td>424920-99999</td><td>NA</td></tr>\n",
              "\t<tr><td>425710</td><td>99999</td><td>SATNA              </td><td>IN</td><td>NA</td><td>VIST</td><td>24.567</td><td> 80.833</td><td> 317.0</td><td>1944-01-01</td><td>2020-09-27</td><td>425710-99999</td><td>NA</td></tr>\n",
              "\t<tr><td>430420</td><td>99999</td><td>BHAWANIPATNA       </td><td>IN</td><td>NA</td><td>NA  </td><td>19.917</td><td> 83.183</td><td> 261.0</td><td>1981-01-03</td><td>2020-09-27</td><td>430420-99999</td><td>NA</td></tr>\n",
              "\t<tr><td>431100</td><td>99999</td><td>RATNAGIRI          </td><td>IN</td><td>NA</td><td>NA  </td><td>16.983</td><td> 73.333</td><td>  67.0</td><td>1944-01-01</td><td>2020-09-27</td><td>431100-99999</td><td>NA</td></tr>\n",
              "\t<tr><td>431490</td><td>99999</td><td>VISHAKHAPATNAM CTLZ</td><td>IN</td><td>NA</td><td>VOVZ</td><td>17.717</td><td> 83.217</td><td>   4.6</td><td>1954-01-01</td><td>2020-09-27</td><td>431490-99999</td><td>NA</td></tr>\n",
              "\t<tr><td>⋮</td><td>⋮</td><td>⋮</td><td>⋮</td><td>⋮</td><td>⋮</td><td>⋮</td><td>⋮</td><td>⋮</td><td>⋮</td><td>⋮</td><td>⋮</td><td>⋮</td></tr>\n",
              "\t<tr><td>604680</td><td>99999</td><td>BATNA                                 </td><td>AG</td><td>NA</td><td>DABT</td><td> 35.752</td><td>   6.309</td><td> 822.0</td><td>1973-01-01</td><td>2020-09-27</td><td>604680-99999</td><td>NA</td></tr>\n",
              "\t<tr><td>688170</td><td>99999</td><td>CAPE TOWN - PORTNET                   </td><td>SF</td><td>NA</td><td>NA  </td><td>-33.900</td><td>  18.433</td><td>   2.0</td><td>1998-03-01</td><td>2020-09-27</td><td>688170-99999</td><td>NA</td></tr>\n",
              "\t<tr><td>702510</td><td>26528</td><td>TALKEETNA AIRPORT                     </td><td>US</td><td>AK</td><td>PATK</td><td> 62.320</td><td>-150.095</td><td> 106.7</td><td>1973-01-01</td><td>2020-09-28</td><td>702510-26528</td><td>NA</td></tr>\n",
              "\t<tr><td>702595</td><td>26559</td><td>SOLDOTNA AIRPORT                      </td><td>US</td><td>AK</td><td>PASX</td><td> 60.476</td><td>-151.034</td><td>  34.4</td><td>2006-01-01</td><td>2020-09-28</td><td>702595-26559</td><td>NA</td></tr>\n",
              "\t<tr><td>702606</td><td>96401</td><td>CHULITNA                              </td><td>US</td><td>AK</td><td>PAEC</td><td> 62.826</td><td>-149.907</td><td> 426.7</td><td>2006-01-01</td><td>2020-09-27</td><td>702606-96401</td><td>NA</td></tr>\n",
              "\t<tr><td>714410</td><td>99999</td><td>GRETNA (AUT)  MAN                     </td><td>CA</td><td>NA</td><td>CWGN</td><td> 49.017</td><td> -97.550</td><td> 253.0</td><td>1981-10-26</td><td>2020-09-27</td><td>714410-99999</td><td>NA</td></tr>\n",
              "\t<tr><td>719280</td><td>99999</td><td>ROCKY MTN HOUSE (AUT)  ALTA           </td><td>CA</td><td>NA</td><td>CWRM</td><td> 52.417</td><td>-114.900</td><td> 988.0</td><td>1955-07-02</td><td>2020-09-27</td><td>719280-99999</td><td>NA</td></tr>\n",
              "\t<tr><td>720553</td><td>99999</td><td>PORT AUTH DOWNTN MANHATTAN WALL ST HEL</td><td>US</td><td>NY</td><td>KJRB</td><td> 40.701</td><td> -74.009</td><td>   2.1</td><td>2016-07-20</td><td>2020-09-27</td><td>720553-99999</td><td>NA</td></tr>\n",
              "\t<tr><td>720642</td><td>99999</td><td>CHEYENNE MTN AS                       </td><td>US</td><td>CO</td><td>KCWN</td><td> 38.750</td><td>-104.850</td><td>2114.0</td><td>2012-11-20</td><td>2020-09-27</td><td>720642-99999</td><td>NA</td></tr>\n",
              "\t<tr><td>720709</td><td>99999</td><td>PUTNAM COUNTY AIRPORT                 </td><td>US</td><td>OH</td><td>KOWX</td><td> 41.036</td><td> -83.982</td><td> 232.6</td><td>2016-09-09</td><td>2020-09-27</td><td>720709-99999</td><td>NA</td></tr>\n",
              "\t<tr><td>722108</td><td>12894</td><td>SW FLORIDA INTN AIRPORT               </td><td>US</td><td>FL</td><td>KRSW</td><td> 26.536</td><td> -81.755</td><td>   9.5</td><td>2006-01-01</td><td>2020-09-28</td><td>722108-12894</td><td>NA</td></tr>\n",
              "\t<tr><td>722128</td><td>53899</td><td>LICONTN-LINCOLN CO RGNL AP            </td><td>US</td><td>NC</td><td>KIPJ</td><td> 35.483</td><td> -81.161</td><td> 266.7</td><td>2006-01-01</td><td>2020-09-29</td><td>722128-53899</td><td>NA</td></tr>\n",
              "\t<tr><td>723070</td><td>13786</td><td>ELZ CTY CG/AIR STN RGNL AP            </td><td>US</td><td>NC</td><td>KECG</td><td> 36.261</td><td> -76.175</td><td>   4.0</td><td>2005-01-01</td><td>2020-09-29</td><td>723070-13786</td><td>NA</td></tr>\n",
              "\t<tr><td>723350</td><td>13877</td><td>TRI-CITIES REGIONAL TN/VA AIRPORT     </td><td>US</td><td>TN</td><td>KTRI</td><td> 36.480</td><td> -82.399</td><td> 456.3</td><td>2005-01-01</td><td>2020-09-28</td><td>723350-13877</td><td>NA</td></tr>\n",
              "\t<tr><td>724176</td><td>13736</td><td>MGTN RGNL-W L B HART FD AP            </td><td>US</td><td>WV</td><td>KMGW</td><td> 39.650</td><td> -79.921</td><td> 378.0</td><td>1973-01-01</td><td>2020-09-28</td><td>724176-13736</td><td>NA</td></tr>\n",
              "\t<tr><td>725434</td><td>54789</td><td>POCONO MTNS MUNI AIRPORT              </td><td>US</td><td>PA</td><td>KMPO</td><td> 41.139</td><td> -75.379</td><td> 584.0</td><td>2006-01-01</td><td>2020-09-29</td><td>725434-54789</td><td>NA</td></tr>\n",
              "\t<tr><td>726115</td><td>54740</td><td>HARTNESS ST (SPNGFLD) ARPT            </td><td>US</td><td>VT</td><td>KVSF</td><td> 43.344</td><td> -72.518</td><td> 176.2</td><td>2006-01-01</td><td>2020-09-29</td><td>726115-54740</td><td>NA</td></tr>\n",
              "\t<tr><td>726375</td><td>94817</td><td>OAKLAND CO. INTNL AIRPORT             </td><td>US</td><td>MI</td><td>KPTK</td><td> 42.665</td><td> -83.418</td><td> 297.5</td><td>2006-01-01</td><td>2020-09-28</td><td>726375-94817</td><td>NA</td></tr>\n",
              "\t<tr><td>727452</td><td>04912</td><td>CRKSTN MUNI KRKWOD FLD APT            </td><td>US</td><td>MN</td><td>KCKN</td><td> 47.842</td><td> -96.621</td><td> 274.0</td><td>2006-01-01</td><td>2020-09-28</td><td>727452-04912</td><td>NA</td></tr>\n",
              "\t<tr><td>784880</td><td>99999</td><td>DE LA ROMANA INTNAL                   </td><td>DR</td><td>NA</td><td>NA  </td><td> 18.450</td><td> -68.920</td><td>  94.0</td><td>2006-02-01</td><td>2020-09-27</td><td>784880-99999</td><td>NA</td></tr>\n",
              "\t<tr><td>943860</td><td>99999</td><td>HERON ISLAND RES STN                  </td><td>AS</td><td>NA</td><td>NA  </td><td>-23.450</td><td> 151.917</td><td>   6.0</td><td>1981-01-01</td><td>2020-09-09</td><td>943860-99999</td><td>NA</td></tr>\n",
              "\t<tr><td>944980</td><td>99999</td><td>LIGHTNING RIDGE CENTRAL SCOOL         </td><td>AS</td><td>NA</td><td>NA  </td><td>-29.433</td><td> 147.983</td><td> 154.0</td><td>2001-09-15</td><td>2020-09-26</td><td>944980-99999</td><td>NA</td></tr>\n",
              "\t<tr><td>945850</td><td>99999</td><td>GLEN INNES AG RESEARCH STN            </td><td>AS</td><td>NA</td><td>NA  </td><td>-29.700</td><td> 151.700</td><td>1060.0</td><td>1990-02-01</td><td>2020-09-24</td><td>945850-99999</td><td>NA</td></tr>\n",
              "\t<tr><td>946020</td><td>99999</td><td>ROTTNEST ISLAND                       </td><td>AS</td><td>NA</td><td>NA  </td><td>-32.017</td><td> 115.500</td><td>  43.0</td><td>1990-02-01</td><td>2020-09-27</td><td>946020-99999</td><td>NA</td></tr>\n",
              "\t<tr><td>946030</td><td>99999</td><td>BADGINGARRA RESEARCH STN              </td><td>AS</td><td>NA</td><td>NA  </td><td>-30.333</td><td> 115.533</td><td> 275.0</td><td>1990-02-06</td><td>2020-09-27</td><td>946030-99999</td><td>NA</td></tr>\n",
              "\t<tr><td>947070</td><td>99999</td><td>CONDOBLIN AG RESEARCH STN             </td><td>AS</td><td>NA</td><td>NA  </td><td>-33.067</td><td> 147.233</td><td> 195.0</td><td>1965-01-01</td><td>2020-09-17</td><td>947070-99999</td><td>NA</td></tr>\n",
              "\t<tr><td>952920</td><td>99999</td><td>SOUTH JOHNSTONE EXP STN               </td><td>AS</td><td>NA</td><td>NA  </td><td>-17.600</td><td> 146.000</td><td>  19.0</td><td>2001-07-15</td><td>2020-09-27</td><td>952920-99999</td><td>NA</td></tr>\n",
              "\t<tr><td>952950</td><td>99999</td><td>AYR DPI RESEARCH STN                  </td><td>AS</td><td>NA</td><td>NA  </td><td>-19.617</td><td> 147.383</td><td>  12.0</td><td>1997-01-01</td><td>2020-09-27</td><td>952950-99999</td><td>NA</td></tr>\n",
              "\t<tr><td>955710</td><td>99999</td><td>GRAFTON RESEARCH STN                  </td><td>AS</td><td>NA</td><td>NA  </td><td>-29.617</td><td> 152.967</td><td>  26.0</td><td>2003-03-30</td><td>2020-09-27</td><td>955710-99999</td><td>NA</td></tr>\n",
              "\t<tr><td>956390</td><td>99999</td><td>SALMON GUMS RES. STN                  </td><td>AS</td><td>NA</td><td>NA  </td><td>-32.983</td><td> 121.617</td><td> 249.0</td><td>2001-07-01</td><td>2020-09-27</td><td>956390-99999</td><td>NA</td></tr>\n",
              "</tbody>\n",
              "</table>\n"
            ]
          },
          "metadata": {
            "tags": []
          }
        }
      ]
    },
    {
      "cell_type": "code",
      "metadata": {
        "id": "VRZVnCcIobRf",
        "outputId": "3388cdfe-42f2-4949-c201-0477e58b2bd3",
        "colab": {
          "base_uri": "https://localhost:8080/",
          "height": 275
        }
      },
      "source": [
        "info <- getMeta(lat = 35, lon = -85)\n",
        "info"
      ],
      "execution_count": 11,
      "outputs": [
        {
          "output_type": "display_data",
          "data": {
            "text/plain": [
              "   usaf   wban  station                                 ctry st call latitude\n",
              "1  723240 13882 LOVELL FIELD AIRPORT                    US   TN KCHA 35.034  \n",
              "2  722154 53885 DALTON MUNICIPAL AIRPORT                US   GA KDNN 34.722  \n",
              "3  723200 93801 RICHARD B RUSSELL AIRPORT               US   GA KRMG 34.348  \n",
              "4  999999 63862 VALLEY HEAD 1 SSW                       US   AL NA   34.565  \n",
              "5  A00013 63847 ISBELL FIELD AIRPORT                    US   AL K4A9 34.474  \n",
              "6  722109 00355 CHEROKEE COUNTY AIRPORT                 US   GA KCNI 34.317  \n",
              "7  720409 99999 BLAIRSVILLE AIRPORT                     US   GA KDZJ 34.850  \n",
              "8  999999 63896 SCOTTSBORO 2 NE                         US   AL NA   34.694  \n",
              "9  720856 00284 SCOTTSBORO MUNICIPAL AIRPORT WORD FIELD US   AL K4A6 34.689  \n",
              "10 722156 53873 CARTERSVILLE AIRPORT                    US   GA KVPC 34.123  \n",
              "   longitude elev(m) begin      end        code         longr     latr     \n",
              "1  -85.200   204.2   1973-01-01 2020-09-28 723240-13882 -1.487021 0.6114587\n",
              "2  -84.869   216.4   2006-01-01 2020-09-29 722154-53885 -1.481243 0.6060132\n",
              "3  -85.161   194.8   1978-01-01 2020-09-28 723200-93801 -1.486340 0.5994857\n",
              "4  -85.617   310.9   2006-05-04 2020-09-28 999999-63862 -1.494299 0.6032731\n",
              "5  -85.721   267.3   2006-01-01 2020-09-28 A00013-63847 -1.496114 0.6016848\n",
              "6  -84.417   372.2   2005-01-01 2020-09-28 722109-00355 -1.473355 0.5989446\n",
              "7  -83.983   582.0   2008-01-01 2020-09-27 720409-99999 -1.465780 0.6082472\n",
              "8  -86.000   193.9   2006-08-16 2020-09-28 999999-63896 -1.500983 0.6055245\n",
              "9  -86.006   198.1   2010-11-30 2020-09-28 720856-00284 -1.501088 0.6054373\n",
              "10 -84.849   232.6   2006-01-01 2020-09-28 722156-53873 -1.480894 0.5955587\n",
              "   dist    \n",
              "1  18.60156\n",
              "2  33.14247\n",
              "3  73.97890\n",
              "4  74.26151\n",
              "5  88.09877\n",
              "6  92.79616\n",
              "7  94.20665\n",
              "8  97.39199\n",
              "9  98.10241\n",
              "10 98.49332"
            ],
            "text/latex": "A tibble: 10 × 15\n\\begin{tabular}{lllllllllllllll}\n usaf & wban & station & ctry & st & call & latitude & longitude & elev(m) & begin & end & code & longr & latr & dist\\\\\n <chr> & <chr> & <chr> & <chr> & <chr> & <chr> & <dbl> & <dbl> & <dbl> & <date> & <date> & <chr> & <dbl> & <dbl> & <dbl>\\\\\n\\hline\n\t 723240 & 13882 & LOVELL FIELD AIRPORT                    & US & TN & KCHA & 35.034 & -85.200 & 204.2 & 1973-01-01 & 2020-09-28 & 723240-13882 & -1.487021 & 0.6114587 & 18.60156\\\\\n\t 722154 & 53885 & DALTON MUNICIPAL AIRPORT                & US & GA & KDNN & 34.722 & -84.869 & 216.4 & 2006-01-01 & 2020-09-29 & 722154-53885 & -1.481243 & 0.6060132 & 33.14247\\\\\n\t 723200 & 93801 & RICHARD B RUSSELL AIRPORT               & US & GA & KRMG & 34.348 & -85.161 & 194.8 & 1978-01-01 & 2020-09-28 & 723200-93801 & -1.486340 & 0.5994857 & 73.97890\\\\\n\t 999999 & 63862 & VALLEY HEAD 1 SSW                       & US & AL & NA   & 34.565 & -85.617 & 310.9 & 2006-05-04 & 2020-09-28 & 999999-63862 & -1.494299 & 0.6032731 & 74.26151\\\\\n\t A00013 & 63847 & ISBELL FIELD AIRPORT                    & US & AL & K4A9 & 34.474 & -85.721 & 267.3 & 2006-01-01 & 2020-09-28 & A00013-63847 & -1.496114 & 0.6016848 & 88.09877\\\\\n\t 722109 & 00355 & CHEROKEE COUNTY AIRPORT                 & US & GA & KCNI & 34.317 & -84.417 & 372.2 & 2005-01-01 & 2020-09-28 & 722109-00355 & -1.473355 & 0.5989446 & 92.79616\\\\\n\t 720409 & 99999 & BLAIRSVILLE AIRPORT                     & US & GA & KDZJ & 34.850 & -83.983 & 582.0 & 2008-01-01 & 2020-09-27 & 720409-99999 & -1.465780 & 0.6082472 & 94.20665\\\\\n\t 999999 & 63896 & SCOTTSBORO 2 NE                         & US & AL & NA   & 34.694 & -86.000 & 193.9 & 2006-08-16 & 2020-09-28 & 999999-63896 & -1.500983 & 0.6055245 & 97.39199\\\\\n\t 720856 & 00284 & SCOTTSBORO MUNICIPAL AIRPORT WORD FIELD & US & AL & K4A6 & 34.689 & -86.006 & 198.1 & 2010-11-30 & 2020-09-28 & 720856-00284 & -1.501088 & 0.6054373 & 98.10241\\\\\n\t 722156 & 53873 & CARTERSVILLE AIRPORT                    & US & GA & KVPC & 34.123 & -84.849 & 232.6 & 2006-01-01 & 2020-09-28 & 722156-53873 & -1.480894 & 0.5955587 & 98.49332\\\\\n\\end{tabular}\n",
            "text/markdown": "\nA tibble: 10 × 15\n\n| usaf &lt;chr&gt; | wban &lt;chr&gt; | station &lt;chr&gt; | ctry &lt;chr&gt; | st &lt;chr&gt; | call &lt;chr&gt; | latitude &lt;dbl&gt; | longitude &lt;dbl&gt; | elev(m) &lt;dbl&gt; | begin &lt;date&gt; | end &lt;date&gt; | code &lt;chr&gt; | longr &lt;dbl&gt; | latr &lt;dbl&gt; | dist &lt;dbl&gt; |\n|---|---|---|---|---|---|---|---|---|---|---|---|---|---|---|\n| 723240 | 13882 | LOVELL FIELD AIRPORT                    | US | TN | KCHA | 35.034 | -85.200 | 204.2 | 1973-01-01 | 2020-09-28 | 723240-13882 | -1.487021 | 0.6114587 | 18.60156 |\n| 722154 | 53885 | DALTON MUNICIPAL AIRPORT                | US | GA | KDNN | 34.722 | -84.869 | 216.4 | 2006-01-01 | 2020-09-29 | 722154-53885 | -1.481243 | 0.6060132 | 33.14247 |\n| 723200 | 93801 | RICHARD B RUSSELL AIRPORT               | US | GA | KRMG | 34.348 | -85.161 | 194.8 | 1978-01-01 | 2020-09-28 | 723200-93801 | -1.486340 | 0.5994857 | 73.97890 |\n| 999999 | 63862 | VALLEY HEAD 1 SSW                       | US | AL | NA   | 34.565 | -85.617 | 310.9 | 2006-05-04 | 2020-09-28 | 999999-63862 | -1.494299 | 0.6032731 | 74.26151 |\n| A00013 | 63847 | ISBELL FIELD AIRPORT                    | US | AL | K4A9 | 34.474 | -85.721 | 267.3 | 2006-01-01 | 2020-09-28 | A00013-63847 | -1.496114 | 0.6016848 | 88.09877 |\n| 722109 | 00355 | CHEROKEE COUNTY AIRPORT                 | US | GA | KCNI | 34.317 | -84.417 | 372.2 | 2005-01-01 | 2020-09-28 | 722109-00355 | -1.473355 | 0.5989446 | 92.79616 |\n| 720409 | 99999 | BLAIRSVILLE AIRPORT                     | US | GA | KDZJ | 34.850 | -83.983 | 582.0 | 2008-01-01 | 2020-09-27 | 720409-99999 | -1.465780 | 0.6082472 | 94.20665 |\n| 999999 | 63896 | SCOTTSBORO 2 NE                         | US | AL | NA   | 34.694 | -86.000 | 193.9 | 2006-08-16 | 2020-09-28 | 999999-63896 | -1.500983 | 0.6055245 | 97.39199 |\n| 720856 | 00284 | SCOTTSBORO MUNICIPAL AIRPORT WORD FIELD | US | AL | K4A6 | 34.689 | -86.006 | 198.1 | 2010-11-30 | 2020-09-28 | 720856-00284 | -1.501088 | 0.6054373 | 98.10241 |\n| 722156 | 53873 | CARTERSVILLE AIRPORT                    | US | GA | KVPC | 34.123 | -84.849 | 232.6 | 2006-01-01 | 2020-09-28 | 722156-53873 | -1.480894 | 0.5955587 | 98.49332 |\n\n",
            "text/html": [
              "<table>\n",
              "<caption>A tibble: 10 × 15</caption>\n",
              "<thead>\n",
              "\t<tr><th scope=col>usaf</th><th scope=col>wban</th><th scope=col>station</th><th scope=col>ctry</th><th scope=col>st</th><th scope=col>call</th><th scope=col>latitude</th><th scope=col>longitude</th><th scope=col>elev(m)</th><th scope=col>begin</th><th scope=col>end</th><th scope=col>code</th><th scope=col>longr</th><th scope=col>latr</th><th scope=col>dist</th></tr>\n",
              "\t<tr><th scope=col>&lt;chr&gt;</th><th scope=col>&lt;chr&gt;</th><th scope=col>&lt;chr&gt;</th><th scope=col>&lt;chr&gt;</th><th scope=col>&lt;chr&gt;</th><th scope=col>&lt;chr&gt;</th><th scope=col>&lt;dbl&gt;</th><th scope=col>&lt;dbl&gt;</th><th scope=col>&lt;dbl&gt;</th><th scope=col>&lt;date&gt;</th><th scope=col>&lt;date&gt;</th><th scope=col>&lt;chr&gt;</th><th scope=col>&lt;dbl&gt;</th><th scope=col>&lt;dbl&gt;</th><th scope=col>&lt;dbl&gt;</th></tr>\n",
              "</thead>\n",
              "<tbody>\n",
              "\t<tr><td>723240</td><td>13882</td><td>LOVELL FIELD AIRPORT                   </td><td>US</td><td>TN</td><td>KCHA</td><td>35.034</td><td>-85.200</td><td>204.2</td><td>1973-01-01</td><td>2020-09-28</td><td>723240-13882</td><td>-1.487021</td><td>0.6114587</td><td>18.60156</td></tr>\n",
              "\t<tr><td>722154</td><td>53885</td><td>DALTON MUNICIPAL AIRPORT               </td><td>US</td><td>GA</td><td>KDNN</td><td>34.722</td><td>-84.869</td><td>216.4</td><td>2006-01-01</td><td>2020-09-29</td><td>722154-53885</td><td>-1.481243</td><td>0.6060132</td><td>33.14247</td></tr>\n",
              "\t<tr><td>723200</td><td>93801</td><td>RICHARD B RUSSELL AIRPORT              </td><td>US</td><td>GA</td><td>KRMG</td><td>34.348</td><td>-85.161</td><td>194.8</td><td>1978-01-01</td><td>2020-09-28</td><td>723200-93801</td><td>-1.486340</td><td>0.5994857</td><td>73.97890</td></tr>\n",
              "\t<tr><td>999999</td><td>63862</td><td>VALLEY HEAD 1 SSW                      </td><td>US</td><td>AL</td><td>NA  </td><td>34.565</td><td>-85.617</td><td>310.9</td><td>2006-05-04</td><td>2020-09-28</td><td>999999-63862</td><td>-1.494299</td><td>0.6032731</td><td>74.26151</td></tr>\n",
              "\t<tr><td>A00013</td><td>63847</td><td>ISBELL FIELD AIRPORT                   </td><td>US</td><td>AL</td><td>K4A9</td><td>34.474</td><td>-85.721</td><td>267.3</td><td>2006-01-01</td><td>2020-09-28</td><td>A00013-63847</td><td>-1.496114</td><td>0.6016848</td><td>88.09877</td></tr>\n",
              "\t<tr><td>722109</td><td>00355</td><td>CHEROKEE COUNTY AIRPORT                </td><td>US</td><td>GA</td><td>KCNI</td><td>34.317</td><td>-84.417</td><td>372.2</td><td>2005-01-01</td><td>2020-09-28</td><td>722109-00355</td><td>-1.473355</td><td>0.5989446</td><td>92.79616</td></tr>\n",
              "\t<tr><td>720409</td><td>99999</td><td>BLAIRSVILLE AIRPORT                    </td><td>US</td><td>GA</td><td>KDZJ</td><td>34.850</td><td>-83.983</td><td>582.0</td><td>2008-01-01</td><td>2020-09-27</td><td>720409-99999</td><td>-1.465780</td><td>0.6082472</td><td>94.20665</td></tr>\n",
              "\t<tr><td>999999</td><td>63896</td><td>SCOTTSBORO 2 NE                        </td><td>US</td><td>AL</td><td>NA  </td><td>34.694</td><td>-86.000</td><td>193.9</td><td>2006-08-16</td><td>2020-09-28</td><td>999999-63896</td><td>-1.500983</td><td>0.6055245</td><td>97.39199</td></tr>\n",
              "\t<tr><td>720856</td><td>00284</td><td>SCOTTSBORO MUNICIPAL AIRPORT WORD FIELD</td><td>US</td><td>AL</td><td>K4A6</td><td>34.689</td><td>-86.006</td><td>198.1</td><td>2010-11-30</td><td>2020-09-28</td><td>720856-00284</td><td>-1.501088</td><td>0.6054373</td><td>98.10241</td></tr>\n",
              "\t<tr><td>722156</td><td>53873</td><td>CARTERSVILLE AIRPORT                   </td><td>US</td><td>GA</td><td>KVPC</td><td>34.123</td><td>-84.849</td><td>232.6</td><td>2006-01-01</td><td>2020-09-28</td><td>722156-53873</td><td>-1.480894</td><td>0.5955587</td><td>98.49332</td></tr>\n",
              "</tbody>\n",
              "</table>\n"
            ]
          },
          "metadata": {
            "tags": []
          }
        }
      ]
    },
    {
      "cell_type": "code",
      "metadata": {
        "id": "MwyHPDOHojFe"
      },
      "source": [
        ""
      ],
      "execution_count": null,
      "outputs": []
    }
  ]
}
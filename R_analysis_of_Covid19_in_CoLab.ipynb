{
  "nbformat": 4,
  "nbformat_minor": 0,
  "metadata": {
    "colab": {
      "name": "R analysis of Covid19 in CoLab.ipynb",
      "provenance": [],
      "collapsed_sections": [],
      "toc_visible": true
    },
    "kernelspec": {
      "name": "ir",
      "display_name": "R"
    }
  },
  "cells": [
    {
      "cell_type": "markdown",
      "metadata": {
        "id": "mF9d1XRjOYkh",
        "colab_type": "text"
      },
      "source": [
        "#Welcome\n",
        "This is a short tutorial for using R to explore Covid19 data using Google CoLab <br>\n",
        "Hong Qin <br>\n",
        "September 18, 2020"
      ]
    },
    {
      "cell_type": "markdown",
      "metadata": {
        "id": "RUkzRmmEPFol",
        "colab_type": "text"
      },
      "source": [
        "# Warm up exercises"
      ]
    },
    {
      "cell_type": "markdown",
      "metadata": {
        "id": "AI31CZTcP-tr",
        "colab_type": "text"
      },
      "source": [
        "## Load libries"
      ]
    },
    {
      "cell_type": "code",
      "metadata": {
        "id": "z5ptIUvflz8F",
        "colab_type": "code",
        "colab": {
          "base_uri": "https://localhost:8080/",
          "height": 168
        },
        "outputId": "df7fa2dd-a5ec-45bb-c20c-c76a0a84c69c"
      },
      "source": [
        "library(tidyverse)\n",
        "library(ggplot2)\n",
        "library(dplyr)\n",
        "library(lubridate)"
      ],
      "execution_count": 47,
      "outputs": [
        {
          "output_type": "stream",
          "text": [
            "\n",
            "Attaching package: ‘lubridate’\n",
            "\n",
            "\n",
            "The following objects are masked from ‘package:base’:\n",
            "\n",
            "    date, intersect, setdiff, union\n",
            "\n",
            "\n"
          ],
          "name": "stderr"
        }
      ]
    },
    {
      "cell_type": "markdown",
      "metadata": {
        "id": "naBNpWgdQBHs",
        "colab_type": "text"
      },
      "source": [
        "## Simple calculator"
      ]
    },
    {
      "cell_type": "code",
      "metadata": {
        "id": "swUtrRkyPKtd",
        "colab_type": "code",
        "colab": {
          "base_uri": "https://localhost:8080/",
          "height": 67
        },
        "outputId": "8bffc998-a09f-4e0f-a942-77b60a7f3f81"
      },
      "source": [
        "2 + 4\n",
        "pi\n",
        "log10(pi)"
      ],
      "execution_count": 46,
      "outputs": [
        {
          "output_type": "display_data",
          "data": {
            "text/plain": [
              "[1] 6"
            ],
            "text/latex": "6",
            "text/markdown": "6",
            "text/html": [
              "6"
            ]
          },
          "metadata": {
            "tags": []
          }
        },
        {
          "output_type": "display_data",
          "data": {
            "text/plain": [
              "[1] 3.141593"
            ],
            "text/latex": "3.14159265358979",
            "text/markdown": "3.14159265358979",
            "text/html": [
              "3.14159265358979"
            ]
          },
          "metadata": {
            "tags": []
          }
        },
        {
          "output_type": "display_data",
          "data": {
            "text/plain": [
              "[1] 0.4971499"
            ],
            "text/latex": "0.497149872694134",
            "text/markdown": "0.497149872694134",
            "text/html": [
              "0.497149872694134"
            ]
          },
          "metadata": {
            "tags": []
          }
        }
      ]
    },
    {
      "cell_type": "markdown",
      "metadata": {
        "id": "SJ1yVFReQEIo",
        "colab_type": "text"
      },
      "source": [
        "## Plots"
      ]
    },
    {
      "cell_type": "code",
      "metadata": {
        "id": "jiuRJOI8l9My",
        "colab_type": "code",
        "colab": {
          "base_uri": "https://localhost:8080/",
          "height": 437
        },
        "outputId": "9d6b5ade-d472-4471-c298-00de03557889"
      },
      "source": [
        "x = rnorm(100)\n",
        "y = x + rnorm(100)/10\n",
        "m = lm( y ~ x)\n",
        "plot( y ~ x)\n",
        "abline(m, col='red')"
      ],
      "execution_count": 1,
      "outputs": [
        {
          "output_type": "display_data",
          "data": {
            "image/png": "[encoded data removed]",
            "text/plain": [
              "plot without title"
            ]
          },
          "metadata": {
            "tags": [],
            "image/png": {
              "width": 420,
              "height": 420
            }
          }
        }
      ]
    },
    {
      "cell_type": "code",
      "metadata": {
        "id": "pfvnZZ9HmCi2",
        "colab_type": "code",
        "colab": {
          "base_uri": "https://localhost:8080/",
          "height": 437
        },
        "outputId": "f92693c6-5ca1-4aee-bb25-e92a4bc6804e"
      },
      "source": [
        "mydata = tibble(cbind(x,y))\n",
        "ggplot(mydata, aes(x=x, y=y, col=\"red\")) + geom_line()"
      ],
      "execution_count": 39,
      "outputs": [
        {
          "output_type": "display_data",
          "data": {
            "image/png": "[encoded data removed]",
            "text/plain": [
              "plot without title"
            ]
          },
          "metadata": {
            "tags": [],
            "image/png": {
              "width": 420,
              "height": 420
            }
          }
        }
      ]
    },
    {
      "cell_type": "markdown",
      "metadata": {
        "id": "Pa7qbIOPSixa",
        "colab_type": "text"
      },
      "source": [
        "## Looking for helps"
      ]
    },
    {
      "cell_type": "code",
      "metadata": {
        "id": "A4kFR72uSk_k",
        "colab_type": "code",
        "colab": {}
      },
      "source": [
        "?date"
      ],
      "execution_count": 49,
      "outputs": []
    },
    {
      "cell_type": "code",
      "metadata": {
        "id": "cCT-pkhwW4T2",
        "colab_type": "code",
        "colab": {}
      },
      "source": [
        "help(read_csv)"
      ],
      "execution_count": 50,
      "outputs": []
    },
    {
      "cell_type": "markdown",
      "metadata": {
        "id": "6nUw5dNwOSq5",
        "colab_type": "text"
      },
      "source": [
        "# Load data from JHU GitHub site"
      ]
    },
    {
      "cell_type": "code",
      "metadata": {
        "id": "d6lG1JiMmYqN",
        "colab_type": "code",
        "colab": {
          "base_uri": "https://localhost:8080/",
          "height": 434
        },
        "outputId": "f69ba8f2-28a9-4b0d-a934-60a6dd128d73"
      },
      "source": [
        "# load JHU covid19 data set with tidyverse read_csv\n",
        "tb = read_csv(url(\"https://raw.githubusercontent.com/CSSEGISandData/COVID-19/master/csse_covid_19_data/csse_covid_19_time_series/time_series_covid19_confirmed_US.csv\"))\n",
        "#str(tb.jhu) #this is a tibble\n",
        "head(tb)"
      ],
      "execution_count": 12,
      "outputs": [
        {
          "output_type": "stream",
          "text": [
            "Parsed with column specification:\n",
            "cols(\n",
            "  .default = col_double(),\n",
            "  iso2 = \u001b[31mcol_character()\u001b[39m,\n",
            "  iso3 = \u001b[31mcol_character()\u001b[39m,\n",
            "  Admin2 = \u001b[31mcol_character()\u001b[39m,\n",
            "  Province_State = \u001b[31mcol_character()\u001b[39m,\n",
            "  Country_Region = \u001b[31mcol_character()\u001b[39m,\n",
            "  Combined_Key = \u001b[31mcol_character()\u001b[39m\n",
            ")\n",
            "\n",
            "See spec(...) for full column specifications.\n",
            "\n"
          ],
          "name": "stderr"
        },
        {
          "output_type": "display_data",
          "data": {
            "text/plain": [
              "  UID      iso2 iso3 code3 FIPS Admin2  Province_State Country_Region Lat     \n",
              "1 84001001 US   USA  840   1001 Autauga Alabama        US             32.53953\n",
              "2 84001003 US   USA  840   1003 Baldwin Alabama        US             30.72775\n",
              "3 84001005 US   USA  840   1005 Barbour Alabama        US             31.86826\n",
              "4 84001007 US   USA  840   1007 Bibb    Alabama        US             32.99642\n",
              "5 84001009 US   USA  840   1009 Blount  Alabama        US             33.98211\n",
              "6 84001011 US   USA  840   1011 Bullock Alabama        US             32.10031\n",
              "  Long_     ⋯ 9/8/20 9/9/20 9/10/20 9/11/20 9/12/20 9/13/20 9/14/20 9/15/20\n",
              "1 -86.64408 ⋯ 1385   1398   1413    1420    1432    1442    1447    1585   \n",
              "2 -87.72207 ⋯ 4609   4639   4678    4722    4752    4781    4800    4978   \n",
              "3 -85.38713 ⋯  617    618    618     618     620     622     626     801   \n",
              "4 -87.12511 ⋯  562    564    566     574     576     578     581     610   \n",
              "5 -86.56791 ⋯ 1071   1082   1099    1109    1114    1121    1128    1464   \n",
              "6 -85.71266 ⋯  545    548    550     551     552     558     558     580   \n",
              "  9/16/20 9/17/20\n",
              "1 1619    1624   \n",
              "2 5003    5021   \n",
              "3  809     809   \n",
              "4  612     617   \n",
              "5 1487    1504   \n",
              "6  583     585   "
            ],
            "text/latex": "A tibble: 6 × 251\n\\begin{tabular}{lllllllllllllllllllll}\n UID & iso2 & iso3 & code3 & FIPS & Admin2 & Province\\_State & Country\\_Region & Lat & Long\\_ & ⋯ & 9/8/20 & 9/9/20 & 9/10/20 & 9/11/20 & 9/12/20 & 9/13/20 & 9/14/20 & 9/15/20 & 9/16/20 & 9/17/20\\\\\n <dbl> & <chr> & <chr> & <dbl> & <dbl> & <chr> & <chr> & <chr> & <dbl> & <dbl> & ⋯ & <dbl> & <dbl> & <dbl> & <dbl> & <dbl> & <dbl> & <dbl> & <dbl> & <dbl> & <dbl>\\\\\n\\hline\n\t 84001001 & US & USA & 840 & 1001 & Autauga & Alabama & US & 32.53953 & -86.64408 & ⋯ & 1385 & 1398 & 1413 & 1420 & 1432 & 1442 & 1447 & 1585 & 1619 & 1624\\\\\n\t 84001003 & US & USA & 840 & 1003 & Baldwin & Alabama & US & 30.72775 & -87.72207 & ⋯ & 4609 & 4639 & 4678 & 4722 & 4752 & 4781 & 4800 & 4978 & 5003 & 5021\\\\\n\t 84001005 & US & USA & 840 & 1005 & Barbour & Alabama & US & 31.86826 & -85.38713 & ⋯ &  617 &  618 &  618 &  618 &  620 &  622 &  626 &  801 &  809 &  809\\\\\n\t 84001007 & US & USA & 840 & 1007 & Bibb    & Alabama & US & 32.99642 & -87.12511 & ⋯ &  562 &  564 &  566 &  574 &  576 &  578 &  581 &  610 &  612 &  617\\\\\n\t 84001009 & US & USA & 840 & 1009 & Blount  & Alabama & US & 33.98211 & -86.56791 & ⋯ & 1071 & 1082 & 1099 & 1109 & 1114 & 1121 & 1128 & 1464 & 1487 & 1504\\\\\n\t 84001011 & US & USA & 840 & 1011 & Bullock & Alabama & US & 32.10031 & -85.71266 & ⋯ &  545 &  548 &  550 &  551 &  552 &  558 &  558 &  580 &  583 &  585\\\\\n\\end{tabular}\n",
            "text/markdown": "\nA tibble: 6 × 251\n\n| UID &lt;dbl&gt; | iso2 &lt;chr&gt; | iso3 &lt;chr&gt; | code3 &lt;dbl&gt; | FIPS &lt;dbl&gt; | Admin2 &lt;chr&gt; | Province_State &lt;chr&gt; | Country_Region &lt;chr&gt; | Lat &lt;dbl&gt; | Long_ &lt;dbl&gt; | ⋯ ⋯ | 9/8/20 &lt;dbl&gt; | 9/9/20 &lt;dbl&gt; | 9/10/20 &lt;dbl&gt; | 9/11/20 &lt;dbl&gt; | 9/12/20 &lt;dbl&gt; | 9/13/20 &lt;dbl&gt; | 9/14/20 &lt;dbl&gt; | 9/15/20 &lt;dbl&gt; | 9/16/20 &lt;dbl&gt; | 9/17/20 &lt;dbl&gt; |\n|---|---|---|---|---|---|---|---|---|---|---|---|---|---|---|---|---|---|---|---|---|\n| 84001001 | US | USA | 840 | 1001 | Autauga | Alabama | US | 32.53953 | -86.64408 | ⋯ | 1385 | 1398 | 1413 | 1420 | 1432 | 1442 | 1447 | 1585 | 1619 | 1624 |\n| 84001003 | US | USA | 840 | 1003 | Baldwin | Alabama | US | 30.72775 | -87.72207 | ⋯ | 4609 | 4639 | 4678 | 4722 | 4752 | 4781 | 4800 | 4978 | 5003 | 5021 |\n| 84001005 | US | USA | 840 | 1005 | Barbour | Alabama | US | 31.86826 | -85.38713 | ⋯ |  617 |  618 |  618 |  618 |  620 |  622 |  626 |  801 |  809 |  809 |\n| 84001007 | US | USA | 840 | 1007 | Bibb    | Alabama | US | 32.99642 | -87.12511 | ⋯ |  562 |  564 |  566 |  574 |  576 |  578 |  581 |  610 |  612 |  617 |\n| 84001009 | US | USA | 840 | 1009 | Blount  | Alabama | US | 33.98211 | -86.56791 | ⋯ | 1071 | 1082 | 1099 | 1109 | 1114 | 1121 | 1128 | 1464 | 1487 | 1504 |\n| 84001011 | US | USA | 840 | 1011 | Bullock | Alabama | US | 32.10031 | -85.71266 | ⋯ |  545 |  548 |  550 |  551 |  552 |  558 |  558 |  580 |  583 |  585 |\n\n",
            "text/html": [
              "<table>\n",
              "<caption>A tibble: 6 × 251</caption>\n",
              "<thead>\n",
              "\t<tr><th scope=col>UID</th><th scope=col>iso2</th><th scope=col>iso3</th><th scope=col>code3</th><th scope=col>FIPS</th><th scope=col>Admin2</th><th scope=col>Province_State</th><th scope=col>Country_Region</th><th scope=col>Lat</th><th scope=col>Long_</th><th scope=col>⋯</th><th scope=col>9/8/20</th><th scope=col>9/9/20</th><th scope=col>9/10/20</th><th scope=col>9/11/20</th><th scope=col>9/12/20</th><th scope=col>9/13/20</th><th scope=col>9/14/20</th><th scope=col>9/15/20</th><th scope=col>9/16/20</th><th scope=col>9/17/20</th></tr>\n",
              "\t<tr><th scope=col>&lt;dbl&gt;</th><th scope=col>&lt;chr&gt;</th><th scope=col>&lt;chr&gt;</th><th scope=col>&lt;dbl&gt;</th><th scope=col>&lt;dbl&gt;</th><th scope=col>&lt;chr&gt;</th><th scope=col>&lt;chr&gt;</th><th scope=col>&lt;chr&gt;</th><th scope=col>&lt;dbl&gt;</th><th scope=col>&lt;dbl&gt;</th><th scope=col>⋯</th><th scope=col>&lt;dbl&gt;</th><th scope=col>&lt;dbl&gt;</th><th scope=col>&lt;dbl&gt;</th><th scope=col>&lt;dbl&gt;</th><th scope=col>&lt;dbl&gt;</th><th scope=col>&lt;dbl&gt;</th><th scope=col>&lt;dbl&gt;</th><th scope=col>&lt;dbl&gt;</th><th scope=col>&lt;dbl&gt;</th><th scope=col>&lt;dbl&gt;</th></tr>\n",
              "</thead>\n",
              "<tbody>\n",
              "\t<tr><td>84001001</td><td>US</td><td>USA</td><td>840</td><td>1001</td><td>Autauga</td><td>Alabama</td><td>US</td><td>32.53953</td><td>-86.64408</td><td>⋯</td><td>1385</td><td>1398</td><td>1413</td><td>1420</td><td>1432</td><td>1442</td><td>1447</td><td>1585</td><td>1619</td><td>1624</td></tr>\n",
              "\t<tr><td>84001003</td><td>US</td><td>USA</td><td>840</td><td>1003</td><td>Baldwin</td><td>Alabama</td><td>US</td><td>30.72775</td><td>-87.72207</td><td>⋯</td><td>4609</td><td>4639</td><td>4678</td><td>4722</td><td>4752</td><td>4781</td><td>4800</td><td>4978</td><td>5003</td><td>5021</td></tr>\n",
              "\t<tr><td>84001005</td><td>US</td><td>USA</td><td>840</td><td>1005</td><td>Barbour</td><td>Alabama</td><td>US</td><td>31.86826</td><td>-85.38713</td><td>⋯</td><td> 617</td><td> 618</td><td> 618</td><td> 618</td><td> 620</td><td> 622</td><td> 626</td><td> 801</td><td> 809</td><td> 809</td></tr>\n",
              "\t<tr><td>84001007</td><td>US</td><td>USA</td><td>840</td><td>1007</td><td>Bibb   </td><td>Alabama</td><td>US</td><td>32.99642</td><td>-87.12511</td><td>⋯</td><td> 562</td><td> 564</td><td> 566</td><td> 574</td><td> 576</td><td> 578</td><td> 581</td><td> 610</td><td> 612</td><td> 617</td></tr>\n",
              "\t<tr><td>84001009</td><td>US</td><td>USA</td><td>840</td><td>1009</td><td>Blount </td><td>Alabama</td><td>US</td><td>33.98211</td><td>-86.56791</td><td>⋯</td><td>1071</td><td>1082</td><td>1099</td><td>1109</td><td>1114</td><td>1121</td><td>1128</td><td>1464</td><td>1487</td><td>1504</td></tr>\n",
              "\t<tr><td>84001011</td><td>US</td><td>USA</td><td>840</td><td>1011</td><td>Bullock</td><td>Alabama</td><td>US</td><td>32.10031</td><td>-85.71266</td><td>⋯</td><td> 545</td><td> 548</td><td> 550</td><td> 551</td><td> 552</td><td> 558</td><td> 558</td><td> 580</td><td> 583</td><td> 585</td></tr>\n",
              "</tbody>\n",
              "</table>\n"
            ]
          },
          "metadata": {
            "tags": []
          }
        }
      ]
    },
    {
      "cell_type": "markdown",
      "metadata": {
        "id": "MyFp-X43ODax",
        "colab_type": "text"
      },
      "source": [
        "# How to do pick rows, columns, and cells? "
      ]
    },
    {
      "cell_type": "code",
      "metadata": {
        "id": "YtuXLm0KLaj2",
        "colab_type": "code",
        "colab": {
          "base_uri": "https://localhost:8080/",
          "height": 115
        },
        "outputId": "54b34e4a-f3ef-4cca-c4a9-8fee9e1dd48e"
      },
      "source": [
        "# pick first row\n",
        "tb[1,] "
      ],
      "execution_count": 13,
      "outputs": [
        {
          "output_type": "display_data",
          "data": {
            "text/plain": [
              "  UID      iso2 iso3 code3 FIPS Admin2  Province_State Country_Region Lat     \n",
              "1 84001001 US   USA  840   1001 Autauga Alabama        US             32.53953\n",
              "  Long_     ⋯ 9/8/20 9/9/20 9/10/20 9/11/20 9/12/20 9/13/20 9/14/20 9/15/20\n",
              "1 -86.64408 ⋯ 1385   1398   1413    1420    1432    1442    1447    1585   \n",
              "  9/16/20 9/17/20\n",
              "1 1619    1624   "
            ],
            "text/latex": "A tibble: 1 × 251\n\\begin{tabular}{lllllllllllllllllllll}\n UID & iso2 & iso3 & code3 & FIPS & Admin2 & Province\\_State & Country\\_Region & Lat & Long\\_ & ⋯ & 9/8/20 & 9/9/20 & 9/10/20 & 9/11/20 & 9/12/20 & 9/13/20 & 9/14/20 & 9/15/20 & 9/16/20 & 9/17/20\\\\\n <dbl> & <chr> & <chr> & <dbl> & <dbl> & <chr> & <chr> & <chr> & <dbl> & <dbl> & ⋯ & <dbl> & <dbl> & <dbl> & <dbl> & <dbl> & <dbl> & <dbl> & <dbl> & <dbl> & <dbl>\\\\\n\\hline\n\t 84001001 & US & USA & 840 & 1001 & Autauga & Alabama & US & 32.53953 & -86.64408 & ⋯ & 1385 & 1398 & 1413 & 1420 & 1432 & 1442 & 1447 & 1585 & 1619 & 1624\\\\\n\\end{tabular}\n",
            "text/markdown": "\nA tibble: 1 × 251\n\n| UID &lt;dbl&gt; | iso2 &lt;chr&gt; | iso3 &lt;chr&gt; | code3 &lt;dbl&gt; | FIPS &lt;dbl&gt; | Admin2 &lt;chr&gt; | Province_State &lt;chr&gt; | Country_Region &lt;chr&gt; | Lat &lt;dbl&gt; | Long_ &lt;dbl&gt; | ⋯ ⋯ | 9/8/20 &lt;dbl&gt; | 9/9/20 &lt;dbl&gt; | 9/10/20 &lt;dbl&gt; | 9/11/20 &lt;dbl&gt; | 9/12/20 &lt;dbl&gt; | 9/13/20 &lt;dbl&gt; | 9/14/20 &lt;dbl&gt; | 9/15/20 &lt;dbl&gt; | 9/16/20 &lt;dbl&gt; | 9/17/20 &lt;dbl&gt; |\n|---|---|---|---|---|---|---|---|---|---|---|---|---|---|---|---|---|---|---|---|---|\n| 84001001 | US | USA | 840 | 1001 | Autauga | Alabama | US | 32.53953 | -86.64408 | ⋯ | 1385 | 1398 | 1413 | 1420 | 1432 | 1442 | 1447 | 1585 | 1619 | 1624 |\n\n",
            "text/html": [
              "<table>\n",
              "<caption>A tibble: 1 × 251</caption>\n",
              "<thead>\n",
              "\t<tr><th scope=col>UID</th><th scope=col>iso2</th><th scope=col>iso3</th><th scope=col>code3</th><th scope=col>FIPS</th><th scope=col>Admin2</th><th scope=col>Province_State</th><th scope=col>Country_Region</th><th scope=col>Lat</th><th scope=col>Long_</th><th scope=col>⋯</th><th scope=col>9/8/20</th><th scope=col>9/9/20</th><th scope=col>9/10/20</th><th scope=col>9/11/20</th><th scope=col>9/12/20</th><th scope=col>9/13/20</th><th scope=col>9/14/20</th><th scope=col>9/15/20</th><th scope=col>9/16/20</th><th scope=col>9/17/20</th></tr>\n",
              "\t<tr><th scope=col>&lt;dbl&gt;</th><th scope=col>&lt;chr&gt;</th><th scope=col>&lt;chr&gt;</th><th scope=col>&lt;dbl&gt;</th><th scope=col>&lt;dbl&gt;</th><th scope=col>&lt;chr&gt;</th><th scope=col>&lt;chr&gt;</th><th scope=col>&lt;chr&gt;</th><th scope=col>&lt;dbl&gt;</th><th scope=col>&lt;dbl&gt;</th><th scope=col>⋯</th><th scope=col>&lt;dbl&gt;</th><th scope=col>&lt;dbl&gt;</th><th scope=col>&lt;dbl&gt;</th><th scope=col>&lt;dbl&gt;</th><th scope=col>&lt;dbl&gt;</th><th scope=col>&lt;dbl&gt;</th><th scope=col>&lt;dbl&gt;</th><th scope=col>&lt;dbl&gt;</th><th scope=col>&lt;dbl&gt;</th><th scope=col>&lt;dbl&gt;</th></tr>\n",
              "</thead>\n",
              "<tbody>\n",
              "\t<tr><td>84001001</td><td>US</td><td>USA</td><td>840</td><td>1001</td><td>Autauga</td><td>Alabama</td><td>US</td><td>32.53953</td><td>-86.64408</td><td>⋯</td><td>1385</td><td>1398</td><td>1413</td><td>1420</td><td>1432</td><td>1442</td><td>1447</td><td>1585</td><td>1619</td><td>1624</td></tr>\n",
              "</tbody>\n",
              "</table>\n"
            ]
          },
          "metadata": {
            "tags": []
          }
        }
      ]
    },
    {
      "cell_type": "code",
      "metadata": {
        "id": "IShItoo5Lkx_",
        "colab_type": "code",
        "colab": {
          "base_uri": "https://localhost:8080/",
          "height": 292
        },
        "outputId": "0f09ab04-3920-4f85-b233-d80bd323b681"
      },
      "source": [
        "# pick first column and  first 10 rows\n",
        "tb[ 1:10, 1]"
      ],
      "execution_count": 16,
      "outputs": [
        {
          "output_type": "display_data",
          "data": {
            "text/plain": [
              "   UID     \n",
              "1  84001001\n",
              "2  84001003\n",
              "3  84001005\n",
              "4  84001007\n",
              "5  84001009\n",
              "6  84001011\n",
              "7  84001013\n",
              "8  84001015\n",
              "9  84001017\n",
              "10 84001019"
            ],
            "text/latex": "A tibble: 10 × 1\n\\begin{tabular}{l}\n UID\\\\\n <dbl>\\\\\n\\hline\n\t 84001001\\\\\n\t 84001003\\\\\n\t 84001005\\\\\n\t 84001007\\\\\n\t 84001009\\\\\n\t 84001011\\\\\n\t 84001013\\\\\n\t 84001015\\\\\n\t 84001017\\\\\n\t 84001019\\\\\n\\end{tabular}\n",
            "text/markdown": "\nA tibble: 10 × 1\n\n| UID &lt;dbl&gt; |\n|---|\n| 84001001 |\n| 84001003 |\n| 84001005 |\n| 84001007 |\n| 84001009 |\n| 84001011 |\n| 84001013 |\n| 84001015 |\n| 84001017 |\n| 84001019 |\n\n",
            "text/html": [
              "<table>\n",
              "<caption>A tibble: 10 × 1</caption>\n",
              "<thead>\n",
              "\t<tr><th scope=col>UID</th></tr>\n",
              "\t<tr><th scope=col>&lt;dbl&gt;</th></tr>\n",
              "</thead>\n",
              "<tbody>\n",
              "\t<tr><td>84001001</td></tr>\n",
              "\t<tr><td>84001003</td></tr>\n",
              "\t<tr><td>84001005</td></tr>\n",
              "\t<tr><td>84001007</td></tr>\n",
              "\t<tr><td>84001009</td></tr>\n",
              "\t<tr><td>84001011</td></tr>\n",
              "\t<tr><td>84001013</td></tr>\n",
              "\t<tr><td>84001015</td></tr>\n",
              "\t<tr><td>84001017</td></tr>\n",
              "\t<tr><td>84001019</td></tr>\n",
              "</tbody>\n",
              "</table>\n"
            ]
          },
          "metadata": {
            "tags": []
          }
        }
      ]
    },
    {
      "cell_type": "code",
      "metadata": {
        "id": "5iu7E8szL06o",
        "colab_type": "code",
        "colab": {
          "base_uri": "https://localhost:8080/",
          "height": 175
        },
        "outputId": "47a03323-7dbb-4e4f-d759-9324620ceb3e"
      },
      "source": [
        "# The daily cases data started on the 12th column\n",
        "tb[ 1:5, 1:12]"
      ],
      "execution_count": 19,
      "outputs": [
        {
          "output_type": "display_data",
          "data": {
            "text/plain": [
              "  UID      iso2 iso3 code3 FIPS Admin2  Province_State Country_Region Lat     \n",
              "1 84001001 US   USA  840   1001 Autauga Alabama        US             32.53953\n",
              "2 84001003 US   USA  840   1003 Baldwin Alabama        US             30.72775\n",
              "3 84001005 US   USA  840   1005 Barbour Alabama        US             31.86826\n",
              "4 84001007 US   USA  840   1007 Bibb    Alabama        US             32.99642\n",
              "5 84001009 US   USA  840   1009 Blount  Alabama        US             33.98211\n",
              "  Long_     Combined_Key         1/22/20\n",
              "1 -86.64408 Autauga, Alabama, US 0      \n",
              "2 -87.72207 Baldwin, Alabama, US 0      \n",
              "3 -85.38713 Barbour, Alabama, US 0      \n",
              "4 -87.12511 Bibb, Alabama, US    0      \n",
              "5 -86.56791 Blount, Alabama, US  0      "
            ],
            "text/latex": "A tibble: 5 × 12\n\\begin{tabular}{llllllllllll}\n UID & iso2 & iso3 & code3 & FIPS & Admin2 & Province\\_State & Country\\_Region & Lat & Long\\_ & Combined\\_Key & 1/22/20\\\\\n <dbl> & <chr> & <chr> & <dbl> & <dbl> & <chr> & <chr> & <chr> & <dbl> & <dbl> & <chr> & <dbl>\\\\\n\\hline\n\t 84001001 & US & USA & 840 & 1001 & Autauga & Alabama & US & 32.53953 & -86.64408 & Autauga, Alabama, US & 0\\\\\n\t 84001003 & US & USA & 840 & 1003 & Baldwin & Alabama & US & 30.72775 & -87.72207 & Baldwin, Alabama, US & 0\\\\\n\t 84001005 & US & USA & 840 & 1005 & Barbour & Alabama & US & 31.86826 & -85.38713 & Barbour, Alabama, US & 0\\\\\n\t 84001007 & US & USA & 840 & 1007 & Bibb    & Alabama & US & 32.99642 & -87.12511 & Bibb, Alabama, US    & 0\\\\\n\t 84001009 & US & USA & 840 & 1009 & Blount  & Alabama & US & 33.98211 & -86.56791 & Blount, Alabama, US  & 0\\\\\n\\end{tabular}\n",
            "text/markdown": "\nA tibble: 5 × 12\n\n| UID &lt;dbl&gt; | iso2 &lt;chr&gt; | iso3 &lt;chr&gt; | code3 &lt;dbl&gt; | FIPS &lt;dbl&gt; | Admin2 &lt;chr&gt; | Province_State &lt;chr&gt; | Country_Region &lt;chr&gt; | Lat &lt;dbl&gt; | Long_ &lt;dbl&gt; | Combined_Key &lt;chr&gt; | 1/22/20 &lt;dbl&gt; |\n|---|---|---|---|---|---|---|---|---|---|---|---|\n| 84001001 | US | USA | 840 | 1001 | Autauga | Alabama | US | 32.53953 | -86.64408 | Autauga, Alabama, US | 0 |\n| 84001003 | US | USA | 840 | 1003 | Baldwin | Alabama | US | 30.72775 | -87.72207 | Baldwin, Alabama, US | 0 |\n| 84001005 | US | USA | 840 | 1005 | Barbour | Alabama | US | 31.86826 | -85.38713 | Barbour, Alabama, US | 0 |\n| 84001007 | US | USA | 840 | 1007 | Bibb    | Alabama | US | 32.99642 | -87.12511 | Bibb, Alabama, US    | 0 |\n| 84001009 | US | USA | 840 | 1009 | Blount  | Alabama | US | 33.98211 | -86.56791 | Blount, Alabama, US  | 0 |\n\n",
            "text/html": [
              "<table>\n",
              "<caption>A tibble: 5 × 12</caption>\n",
              "<thead>\n",
              "\t<tr><th scope=col>UID</th><th scope=col>iso2</th><th scope=col>iso3</th><th scope=col>code3</th><th scope=col>FIPS</th><th scope=col>Admin2</th><th scope=col>Province_State</th><th scope=col>Country_Region</th><th scope=col>Lat</th><th scope=col>Long_</th><th scope=col>Combined_Key</th><th scope=col>1/22/20</th></tr>\n",
              "\t<tr><th scope=col>&lt;dbl&gt;</th><th scope=col>&lt;chr&gt;</th><th scope=col>&lt;chr&gt;</th><th scope=col>&lt;dbl&gt;</th><th scope=col>&lt;dbl&gt;</th><th scope=col>&lt;chr&gt;</th><th scope=col>&lt;chr&gt;</th><th scope=col>&lt;chr&gt;</th><th scope=col>&lt;dbl&gt;</th><th scope=col>&lt;dbl&gt;</th><th scope=col>&lt;chr&gt;</th><th scope=col>&lt;dbl&gt;</th></tr>\n",
              "</thead>\n",
              "<tbody>\n",
              "\t<tr><td>84001001</td><td>US</td><td>USA</td><td>840</td><td>1001</td><td>Autauga</td><td>Alabama</td><td>US</td><td>32.53953</td><td>-86.64408</td><td>Autauga, Alabama, US</td><td>0</td></tr>\n",
              "\t<tr><td>84001003</td><td>US</td><td>USA</td><td>840</td><td>1003</td><td>Baldwin</td><td>Alabama</td><td>US</td><td>30.72775</td><td>-87.72207</td><td>Baldwin, Alabama, US</td><td>0</td></tr>\n",
              "\t<tr><td>84001005</td><td>US</td><td>USA</td><td>840</td><td>1005</td><td>Barbour</td><td>Alabama</td><td>US</td><td>31.86826</td><td>-85.38713</td><td>Barbour, Alabama, US</td><td>0</td></tr>\n",
              "\t<tr><td>84001007</td><td>US</td><td>USA</td><td>840</td><td>1007</td><td>Bibb   </td><td>Alabama</td><td>US</td><td>32.99642</td><td>-87.12511</td><td>Bibb, Alabama, US   </td><td>0</td></tr>\n",
              "\t<tr><td>84001009</td><td>US</td><td>USA</td><td>840</td><td>1009</td><td>Blount </td><td>Alabama</td><td>US</td><td>33.98211</td><td>-86.56791</td><td>Blount, Alabama, US </td><td>0</td></tr>\n",
              "</tbody>\n",
              "</table>\n"
            ]
          },
          "metadata": {
            "tags": []
          }
        }
      ]
    },
    {
      "cell_type": "code",
      "metadata": {
        "id": "g8pigN_3MEZf",
        "colab_type": "code",
        "colab": {
          "base_uri": "https://localhost:8080/",
          "height": 50
        },
        "outputId": "ccee3a88-a76c-422d-a555-fbb7cb5a1005"
      },
      "source": [
        "# how many columns? \n",
        "length(tb[1,])\n",
        "print(paste( \"There are \", length(tb[1,]), \" columns\"))"
      ],
      "execution_count": 22,
      "outputs": [
        {
          "output_type": "display_data",
          "data": {
            "text/plain": [
              "[1] 251"
            ],
            "text/latex": "251",
            "text/markdown": "251",
            "text/html": [
              "251"
            ]
          },
          "metadata": {
            "tags": []
          }
        },
        {
          "output_type": "stream",
          "text": [
            "[1] \"There are  251  columns\"\n"
          ],
          "name": "stdout"
        }
      ]
    },
    {
      "cell_type": "code",
      "metadata": {
        "id": "1FMx8GjNmrtw",
        "colab_type": "code",
        "colab": {
          "base_uri": "https://localhost:8080/",
          "height": 195
        },
        "outputId": "4e9cfb20-aa26-4cca-d8cc-83a773963973"
      },
      "source": [
        "# view the first 5 rows in all data columns\n",
        "tb[1:5 , 12:length(tb[1,])  ]"
      ],
      "execution_count": 58,
      "outputs": [
        {
          "output_type": "display_data",
          "data": {
            "text/plain": [
              "  1/22/20 1/23/20 1/24/20 1/25/20 1/26/20 1/27/20 1/28/20 1/29/20 1/30/20\n",
              "1 0       0       0       0       0       0       0       0       0      \n",
              "2 0       0       0       0       0       0       0       0       0      \n",
              "3 0       0       0       0       0       0       0       0       0      \n",
              "4 0       0       0       0       0       0       0       0       0      \n",
              "5 0       0       0       0       0       0       0       0       0      \n",
              "  1/31/20 ⋯ 9/8/20 9/9/20 9/10/20 9/11/20 9/12/20 9/13/20 9/14/20 9/15/20\n",
              "1 0       ⋯ 1385   1398   1413    1420    1432    1442    1447    1585   \n",
              "2 0       ⋯ 4609   4639   4678    4722    4752    4781    4800    4978   \n",
              "3 0       ⋯  617    618    618     618     620     622     626     801   \n",
              "4 0       ⋯  562    564    566     574     576     578     581     610   \n",
              "5 0       ⋯ 1071   1082   1099    1109    1114    1121    1128    1464   \n",
              "  9/16/20 9/17/20\n",
              "1 1619    1624   \n",
              "2 5003    5021   \n",
              "3  809     809   \n",
              "4  612     617   \n",
              "5 1487    1504   "
            ],
            "text/latex": "A tibble: 5 × 240\n\\begin{tabular}{lllllllllllllllllllll}\n 1/22/20 & 1/23/20 & 1/24/20 & 1/25/20 & 1/26/20 & 1/27/20 & 1/28/20 & 1/29/20 & 1/30/20 & 1/31/20 & ⋯ & 9/8/20 & 9/9/20 & 9/10/20 & 9/11/20 & 9/12/20 & 9/13/20 & 9/14/20 & 9/15/20 & 9/16/20 & 9/17/20\\\\\n <dbl> & <dbl> & <dbl> & <dbl> & <dbl> & <dbl> & <dbl> & <dbl> & <dbl> & <dbl> & ⋯ & <dbl> & <dbl> & <dbl> & <dbl> & <dbl> & <dbl> & <dbl> & <dbl> & <dbl> & <dbl>\\\\\n\\hline\n\t 0 & 0 & 0 & 0 & 0 & 0 & 0 & 0 & 0 & 0 & ⋯ & 1385 & 1398 & 1413 & 1420 & 1432 & 1442 & 1447 & 1585 & 1619 & 1624\\\\\n\t 0 & 0 & 0 & 0 & 0 & 0 & 0 & 0 & 0 & 0 & ⋯ & 4609 & 4639 & 4678 & 4722 & 4752 & 4781 & 4800 & 4978 & 5003 & 5021\\\\\n\t 0 & 0 & 0 & 0 & 0 & 0 & 0 & 0 & 0 & 0 & ⋯ &  617 &  618 &  618 &  618 &  620 &  622 &  626 &  801 &  809 &  809\\\\\n\t 0 & 0 & 0 & 0 & 0 & 0 & 0 & 0 & 0 & 0 & ⋯ &  562 &  564 &  566 &  574 &  576 &  578 &  581 &  610 &  612 &  617\\\\\n\t 0 & 0 & 0 & 0 & 0 & 0 & 0 & 0 & 0 & 0 & ⋯ & 1071 & 1082 & 1099 & 1109 & 1114 & 1121 & 1128 & 1464 & 1487 & 1504\\\\\n\\end{tabular}\n",
            "text/markdown": "\nA tibble: 5 × 240\n\n| 1/22/20 &lt;dbl&gt; | 1/23/20 &lt;dbl&gt; | 1/24/20 &lt;dbl&gt; | 1/25/20 &lt;dbl&gt; | 1/26/20 &lt;dbl&gt; | 1/27/20 &lt;dbl&gt; | 1/28/20 &lt;dbl&gt; | 1/29/20 &lt;dbl&gt; | 1/30/20 &lt;dbl&gt; | 1/31/20 &lt;dbl&gt; | ⋯ ⋯ | 9/8/20 &lt;dbl&gt; | 9/9/20 &lt;dbl&gt; | 9/10/20 &lt;dbl&gt; | 9/11/20 &lt;dbl&gt; | 9/12/20 &lt;dbl&gt; | 9/13/20 &lt;dbl&gt; | 9/14/20 &lt;dbl&gt; | 9/15/20 &lt;dbl&gt; | 9/16/20 &lt;dbl&gt; | 9/17/20 &lt;dbl&gt; |\n|---|---|---|---|---|---|---|---|---|---|---|---|---|---|---|---|---|---|---|---|---|\n| 0 | 0 | 0 | 0 | 0 | 0 | 0 | 0 | 0 | 0 | ⋯ | 1385 | 1398 | 1413 | 1420 | 1432 | 1442 | 1447 | 1585 | 1619 | 1624 |\n| 0 | 0 | 0 | 0 | 0 | 0 | 0 | 0 | 0 | 0 | ⋯ | 4609 | 4639 | 4678 | 4722 | 4752 | 4781 | 4800 | 4978 | 5003 | 5021 |\n| 0 | 0 | 0 | 0 | 0 | 0 | 0 | 0 | 0 | 0 | ⋯ |  617 |  618 |  618 |  618 |  620 |  622 |  626 |  801 |  809 |  809 |\n| 0 | 0 | 0 | 0 | 0 | 0 | 0 | 0 | 0 | 0 | ⋯ |  562 |  564 |  566 |  574 |  576 |  578 |  581 |  610 |  612 |  617 |\n| 0 | 0 | 0 | 0 | 0 | 0 | 0 | 0 | 0 | 0 | ⋯ | 1071 | 1082 | 1099 | 1109 | 1114 | 1121 | 1128 | 1464 | 1487 | 1504 |\n\n",
            "text/html": [
              "<table>\n",
              "<caption>A tibble: 5 × 240</caption>\n",
              "<thead>\n",
              "\t<tr><th scope=col>1/22/20</th><th scope=col>1/23/20</th><th scope=col>1/24/20</th><th scope=col>1/25/20</th><th scope=col>1/26/20</th><th scope=col>1/27/20</th><th scope=col>1/28/20</th><th scope=col>1/29/20</th><th scope=col>1/30/20</th><th scope=col>1/31/20</th><th scope=col>⋯</th><th scope=col>9/8/20</th><th scope=col>9/9/20</th><th scope=col>9/10/20</th><th scope=col>9/11/20</th><th scope=col>9/12/20</th><th scope=col>9/13/20</th><th scope=col>9/14/20</th><th scope=col>9/15/20</th><th scope=col>9/16/20</th><th scope=col>9/17/20</th></tr>\n",
              "\t<tr><th scope=col>&lt;dbl&gt;</th><th scope=col>&lt;dbl&gt;</th><th scope=col>&lt;dbl&gt;</th><th scope=col>&lt;dbl&gt;</th><th scope=col>&lt;dbl&gt;</th><th scope=col>&lt;dbl&gt;</th><th scope=col>&lt;dbl&gt;</th><th scope=col>&lt;dbl&gt;</th><th scope=col>&lt;dbl&gt;</th><th scope=col>&lt;dbl&gt;</th><th scope=col>⋯</th><th scope=col>&lt;dbl&gt;</th><th scope=col>&lt;dbl&gt;</th><th scope=col>&lt;dbl&gt;</th><th scope=col>&lt;dbl&gt;</th><th scope=col>&lt;dbl&gt;</th><th scope=col>&lt;dbl&gt;</th><th scope=col>&lt;dbl&gt;</th><th scope=col>&lt;dbl&gt;</th><th scope=col>&lt;dbl&gt;</th><th scope=col>&lt;dbl&gt;</th></tr>\n",
              "</thead>\n",
              "<tbody>\n",
              "\t<tr><td>0</td><td>0</td><td>0</td><td>0</td><td>0</td><td>0</td><td>0</td><td>0</td><td>0</td><td>0</td><td>⋯</td><td>1385</td><td>1398</td><td>1413</td><td>1420</td><td>1432</td><td>1442</td><td>1447</td><td>1585</td><td>1619</td><td>1624</td></tr>\n",
              "\t<tr><td>0</td><td>0</td><td>0</td><td>0</td><td>0</td><td>0</td><td>0</td><td>0</td><td>0</td><td>0</td><td>⋯</td><td>4609</td><td>4639</td><td>4678</td><td>4722</td><td>4752</td><td>4781</td><td>4800</td><td>4978</td><td>5003</td><td>5021</td></tr>\n",
              "\t<tr><td>0</td><td>0</td><td>0</td><td>0</td><td>0</td><td>0</td><td>0</td><td>0</td><td>0</td><td>0</td><td>⋯</td><td> 617</td><td> 618</td><td> 618</td><td> 618</td><td> 620</td><td> 622</td><td> 626</td><td> 801</td><td> 809</td><td> 809</td></tr>\n",
              "\t<tr><td>0</td><td>0</td><td>0</td><td>0</td><td>0</td><td>0</td><td>0</td><td>0</td><td>0</td><td>0</td><td>⋯</td><td> 562</td><td> 564</td><td> 566</td><td> 574</td><td> 576</td><td> 578</td><td> 581</td><td> 610</td><td> 612</td><td> 617</td></tr>\n",
              "\t<tr><td>0</td><td>0</td><td>0</td><td>0</td><td>0</td><td>0</td><td>0</td><td>0</td><td>0</td><td>0</td><td>⋯</td><td>1071</td><td>1082</td><td>1099</td><td>1109</td><td>1114</td><td>1121</td><td>1128</td><td>1464</td><td>1487</td><td>1504</td></tr>\n",
              "</tbody>\n",
              "</table>\n"
            ]
          },
          "metadata": {
            "tags": []
          }
        }
      ]
    },
    {
      "cell_type": "markdown",
      "metadata": {
        "id": "9kjb-7_CaDno",
        "colab_type": "text"
      },
      "source": [
        "## selection columns of daily cases"
      ]
    },
    {
      "cell_type": "code",
      "metadata": {
        "id": "znRY8na8dbJN",
        "colab_type": "code",
        "colab": {
          "base_uri": "https://localhost:8080/",
          "height": 1000
        },
        "outputId": "132ec518-31bb-47db-8b8a-f29ee4731556"
      },
      "source": [
        "tb %>% select(12:length(tb[1,]))"
      ],
      "execution_count": 120,
      "outputs": [
        {
          "output_type": "display_data",
          "data": {
            "text/plain": [
              "     1/22/20 1/23/20 1/24/20 1/25/20 1/26/20 1/27/20 1/28/20 1/29/20 1/30/20\n",
              "1    0       0       0       0       0       0       0       0       0      \n",
              "2    0       0       0       0       0       0       0       0       0      \n",
              "3    0       0       0       0       0       0       0       0       0      \n",
              "4    0       0       0       0       0       0       0       0       0      \n",
              "5    0       0       0       0       0       0       0       0       0      \n",
              "6    0       0       0       0       0       0       0       0       0      \n",
              "7    0       0       0       0       0       0       0       0       0      \n",
              "8    0       0       0       0       0       0       0       0       0      \n",
              "9    0       0       0       0       0       0       0       0       0      \n",
              "10   0       0       0       0       0       0       0       0       0      \n",
              "11   0       0       0       0       0       0       0       0       0      \n",
              "12   0       0       0       0       0       0       0       0       0      \n",
              "13   0       0       0       0       0       0       0       0       0      \n",
              "14   0       0       0       0       0       0       0       0       0      \n",
              "15   0       0       0       0       0       0       0       0       0      \n",
              "16   0       0       0       0       0       0       0       0       0      \n",
              "17   0       0       0       0       0       0       0       0       0      \n",
              "18   0       0       0       0       0       0       0       0       0      \n",
              "19   0       0       0       0       0       0       0       0       0      \n",
              "20   0       0       0       0       0       0       0       0       0      \n",
              "21   0       0       0       0       0       0       0       0       0      \n",
              "22   0       0       0       0       0       0       0       0       0      \n",
              "23   0       0       0       0       0       0       0       0       0      \n",
              "24   0       0       0       0       0       0       0       0       0      \n",
              "25   0       0       0       0       0       0       0       0       0      \n",
              "26   0       0       0       0       0       0       0       0       0      \n",
              "27   0       0       0       0       0       0       0       0       0      \n",
              "28   0       0       0       0       0       0       0       0       0      \n",
              "29   0       0       0       0       0       0       0       0       0      \n",
              "30   0       0       0       0       0       0       0       0       0      \n",
              "⋮    ⋮       ⋮       ⋮       ⋮       ⋮       ⋮       ⋮       ⋮       ⋮      \n",
              "3311 0       0       0       0       0       0       0       0       0      \n",
              "3312 0       0       0       0       0       0       0       0       0      \n",
              "3313 0       0       0       0       0       0       0       0       0      \n",
              "3314 0       0       0       0       0       0       0       0       0      \n",
              "3315 0       0       0       0       0       0       0       0       0      \n",
              "3316 0       0       0       0       0       0       0       0       0      \n",
              "3317 0       0       0       0       0       0       0       0       0      \n",
              "3318 0       0       0       0       0       0       0       0       0      \n",
              "3319 0       0       0       0       0       0       0       0       0      \n",
              "3320 0       0       0       0       0       0       0       0       0      \n",
              "3321 0       0       0       0       0       0       0       0       0      \n",
              "3322 0       0       0       0       0       0       0       0       0      \n",
              "3323 0       0       0       0       0       0       0       0       0      \n",
              "3324 0       0       0       0       0       0       0       0       0      \n",
              "3325 0       0       0       0       0       0       0       0       0      \n",
              "3326 0       0       0       0       0       0       0       0       0      \n",
              "3327 0       0       0       0       0       0       0       0       0      \n",
              "3328 0       0       0       0       0       0       0       0       0      \n",
              "3329 0       0       0       0       0       0       0       0       0      \n",
              "3330 0       0       0       0       0       0       0       0       0      \n",
              "3331 0       0       0       0       0       0       0       0       0      \n",
              "3332 0       0       0       0       0       0       0       0       0      \n",
              "3333 0       0       0       0       0       0       0       0       0      \n",
              "3334 0       0       0       0       0       0       0       0       0      \n",
              "3335 0       0       0       0       0       0       0       0       0      \n",
              "3336 0       0       0       0       0       0       0       0       0      \n",
              "3337 0       0       0       0       0       0       0       0       0      \n",
              "3338 0       0       0       0       0       0       0       0       0      \n",
              "3339 0       0       0       0       0       0       0       0       0      \n",
              "3340 0       0       0       0       0       0       0       0       0      \n",
              "     1/31/20 ⋯ 9/8/20 9/9/20 9/10/20 9/11/20 9/12/20 9/13/20 9/14/20 9/15/20\n",
              "1    0       ⋯ 1385   1398   1413    1420    1432    1442    1447    1585   \n",
              "2    0       ⋯ 4609   4639   4678    4722    4752    4781    4800    4978   \n",
              "3    0       ⋯  617    618    618     618     620     622     626     801   \n",
              "4    0       ⋯  562    564    566     574     576     578     581     610   \n",
              "5    0       ⋯ 1071   1082   1099    1109    1114    1121    1128    1464   \n",
              "6    0       ⋯  545    548    550     551     552     558     558     580   \n",
              "7    0       ⋯  859    862    863     863     865     866     867     900   \n",
              "8    0       ⋯ 2602   2615   2652    2679    2728    2773    2790    3110   \n",
              "9    0       ⋯  857    858    858     862     863     863     864    1097   \n",
              "10   0       ⋯  367    371    376     380     392     407     407     518   \n",
              "11   0       ⋯ 1172   1176   1198    1216    1234    1244    1251    1409   \n",
              "12   0       ⋯  325    326    327     328     328     331     331     341   \n",
              "13   0       ⋯  932    933    934     933     935     935     936    1042   \n",
              "14   0       ⋯  402    413    415     418     421     435     443     486   \n",
              "15   0       ⋯  239    244    248     260     269     281     285     297   \n",
              "16   0       ⋯  985   1012   1024    1030    1038    1044    1047    1226   \n",
              "17   0       ⋯ 1486   1492   1500    1503    1507    1513    1515    1550   \n",
              "18   0       ⋯  438    439    439     441     443     444     444     512   \n",
              "19   0       ⋯  111    112    111     113     114     117     117     151   \n",
              "20   0       ⋯  818    821    828     837     838     842     845    1256   \n",
              "21   0       ⋯  405    410    412     416     417     421     421     508   \n",
              "22   0       ⋯ 1483   1494   1495    1501    1506    1524    1528    1775   \n",
              "23   0       ⋯ 1032   1058   1072    1078    1087    1091    1094    1261   \n",
              "24   0       ⋯ 1450   1455   1462    1470    1473    1475    1475    1721   \n",
              "25   0       ⋯ 2114   2118   2128    2136    2142    2155    2159    2284   \n",
              "26   0       ⋯ 2145   2162   2170    2180    2188    2213    2223    2449   \n",
              "27   0       ⋯ 1262   1270   1276    1279    1288    1300    1302    1527   \n",
              "28   0       ⋯ 2784   2810   2825    2844    2855    2886    2899    3217   \n",
              "29   0       ⋯  320    321    327     336     341     353     357     400   \n",
              "30   0       ⋯ 1601   1622   1624    1633    1642    1662    1662    1693   \n",
              "⋮    ⋮       ⋱ ⋮      ⋮      ⋮       ⋮       ⋮       ⋮       ⋮       ⋮      \n",
              "3311 0       ⋯ 5873   5886   5941    6011    6053    6115    6131    6170   \n",
              "3312 0       ⋯  778    783    789     798     806     812     815     821   \n",
              "3313 0       ⋯  200    202    211     222     229     233     238     243   \n",
              "3314 0       ⋯ 1730   1748   1778    1861    1926    1996    2019    2100   \n",
              "3315 0       ⋯  531    538    541     555     563     575     579     590   \n",
              "3316 0       ⋯  200    208    212     217     220     234     253     263   \n",
              "3317 0       ⋯   51     51     51      51      51      51      51      51   \n",
              "3318 0       ⋯  210    213    214     218     221     222     223     223   \n",
              "3319 0       ⋯  192    193    193     195     194     194     196     196   \n",
              "3320 0       ⋯   50     54     59      60      61      62      65      68   \n",
              "3321 0       ⋯   15     15     17      20      20      23      23      27   \n",
              "3322 0       ⋯  612    614    616     619     623     625     630     632   \n",
              "3323 0       ⋯   67     68     69      69      69      69      71      73   \n",
              "3324 0       ⋯   31     31     31      30      31      30      30      30   \n",
              "3325 0       ⋯   28     29     29      29      29      29      29      29   \n",
              "3326 0       ⋯  592    597    604     616     619     624     624     627   \n",
              "3327 0       ⋯  118    120    121     123     123     124     123     124   \n",
              "3328 0       ⋯  322    330    335     347     356     368     372     377   \n",
              "3329 0       ⋯    3      3      3       3       3       3       3       3   \n",
              "3330 0       ⋯    0      0      0       0       0       0       0       0   \n",
              "3331 0       ⋯  173    179    182     184     187     187     186     187   \n",
              "3332 0       ⋯    7      7      7       9       9       9      10      12   \n",
              "3333 0       ⋯  180    182    191     197     199     203     210     213   \n",
              "3334 0       ⋯   50     51     51      53      53      54      54      62   \n",
              "3335 0       ⋯  314    316    319     320     320     318     317     317   \n",
              "3336 0       ⋯  450    451    453     462     465     470     476     478   \n",
              "3337 0       ⋯  309    308    310     310     310     311     312     312   \n",
              "3338 0       ⋯    0      0      0       0       0       2       2       2   \n",
              "3339 0       ⋯  111    111    111     111     111     111     111     111   \n",
              "3340 0       ⋯   20     21     21      21      23      23      23      23   \n",
              "     9/16/20 9/17/20\n",
              "1    1619    1624   \n",
              "2    5003    5021   \n",
              "3     809     809   \n",
              "4     612     617   \n",
              "5    1487    1504   \n",
              "6     583     585   \n",
              "7     901     902   \n",
              "8    3165    3211   \n",
              "9    1107    1106   \n",
              "10    526     528   \n",
              "11   1428    1433   \n",
              "12    342     342   \n",
              "13   1043    1044   \n",
              "14    505     518   \n",
              "15    305     311   \n",
              "16   1235    1238   \n",
              "17   1560    1572   \n",
              "18    516     516   \n",
              "19    157     157   \n",
              "20   1272    1270   \n",
              "21    507     515   \n",
              "22   1797    1800   \n",
              "23   1274    1280   \n",
              "24   1725    1725   \n",
              "25   2293    2301   \n",
              "26   2468    2475   \n",
              "27   1538    1543   \n",
              "28   3247    3263   \n",
              "29    408     412   \n",
              "30   1703    1727   \n",
              "⋮    ⋮       ⋮      \n",
              "3311 6240    6287   \n",
              "3312  831     841   \n",
              "3313  245     248   \n",
              "3314 2168    2252   \n",
              "3315  616     627   \n",
              "3316  281     301   \n",
              "3317   51      51   \n",
              "3318  227     230   \n",
              "3319  200     205   \n",
              "3320   80      85   \n",
              "3321   32      32   \n",
              "3322  640     646   \n",
              "3323   74      74   \n",
              "3324   31      32   \n",
              "3325   29      29   \n",
              "3326  631     635   \n",
              "3327  127     131   \n",
              "3328  404     419   \n",
              "3329    3       3   \n",
              "3330    0       0   \n",
              "3331  196     199   \n",
              "3332   16      18   \n",
              "3333  224     226   \n",
              "3334   65      67   \n",
              "3335  317     320   \n",
              "3336  481     487   \n",
              "3337  323     327   \n",
              "3338    0       0   \n",
              "3339  111     112   \n",
              "3340   23      23   "
            ],
            "text/latex": "A tibble: 3340 × 240\n\\begin{tabular}{lllllllllllllllllllll}\n 1/22/20 & 1/23/20 & 1/24/20 & 1/25/20 & 1/26/20 & 1/27/20 & 1/28/20 & 1/29/20 & 1/30/20 & 1/31/20 & ⋯ & 9/8/20 & 9/9/20 & 9/10/20 & 9/11/20 & 9/12/20 & 9/13/20 & 9/14/20 & 9/15/20 & 9/16/20 & 9/17/20\\\\\n <dbl> & <dbl> & <dbl> & <dbl> & <dbl> & <dbl> & <dbl> & <dbl> & <dbl> & <dbl> & ⋯ & <dbl> & <dbl> & <dbl> & <dbl> & <dbl> & <dbl> & <dbl> & <dbl> & <dbl> & <dbl>\\\\\n\\hline\n\t 0 & 0 & 0 & 0 & 0 & 0 & 0 & 0 & 0 & 0 & ⋯ & 1385 & 1398 & 1413 & 1420 & 1432 & 1442 & 1447 & 1585 & 1619 & 1624\\\\\n\t 0 & 0 & 0 & 0 & 0 & 0 & 0 & 0 & 0 & 0 & ⋯ & 4609 & 4639 & 4678 & 4722 & 4752 & 4781 & 4800 & 4978 & 5003 & 5021\\\\\n\t 0 & 0 & 0 & 0 & 0 & 0 & 0 & 0 & 0 & 0 & ⋯ &  617 &  618 &  618 &  618 &  620 &  622 &  626 &  801 &  809 &  809\\\\\n\t 0 & 0 & 0 & 0 & 0 & 0 & 0 & 0 & 0 & 0 & ⋯ &  562 &  564 &  566 &  574 &  576 &  578 &  581 &  610 &  612 &  617\\\\\n\t 0 & 0 & 0 & 0 & 0 & 0 & 0 & 0 & 0 & 0 & ⋯ & 1071 & 1082 & 1099 & 1109 & 1114 & 1121 & 1128 & 1464 & 1487 & 1504\\\\\n\t 0 & 0 & 0 & 0 & 0 & 0 & 0 & 0 & 0 & 0 & ⋯ &  545 &  548 &  550 &  551 &  552 &  558 &  558 &  580 &  583 &  585\\\\\n\t 0 & 0 & 0 & 0 & 0 & 0 & 0 & 0 & 0 & 0 & ⋯ &  859 &  862 &  863 &  863 &  865 &  866 &  867 &  900 &  901 &  902\\\\\n\t 0 & 0 & 0 & 0 & 0 & 0 & 0 & 0 & 0 & 0 & ⋯ & 2602 & 2615 & 2652 & 2679 & 2728 & 2773 & 2790 & 3110 & 3165 & 3211\\\\\n\t 0 & 0 & 0 & 0 & 0 & 0 & 0 & 0 & 0 & 0 & ⋯ &  857 &  858 &  858 &  862 &  863 &  863 &  864 & 1097 & 1107 & 1106\\\\\n\t 0 & 0 & 0 & 0 & 0 & 0 & 0 & 0 & 0 & 0 & ⋯ &  367 &  371 &  376 &  380 &  392 &  407 &  407 &  518 &  526 &  528\\\\\n\t 0 & 0 & 0 & 0 & 0 & 0 & 0 & 0 & 0 & 0 & ⋯ & 1172 & 1176 & 1198 & 1216 & 1234 & 1244 & 1251 & 1409 & 1428 & 1433\\\\\n\t 0 & 0 & 0 & 0 & 0 & 0 & 0 & 0 & 0 & 0 & ⋯ &  325 &  326 &  327 &  328 &  328 &  331 &  331 &  341 &  342 &  342\\\\\n\t 0 & 0 & 0 & 0 & 0 & 0 & 0 & 0 & 0 & 0 & ⋯ &  932 &  933 &  934 &  933 &  935 &  935 &  936 & 1042 & 1043 & 1044\\\\\n\t 0 & 0 & 0 & 0 & 0 & 0 & 0 & 0 & 0 & 0 & ⋯ &  402 &  413 &  415 &  418 &  421 &  435 &  443 &  486 &  505 &  518\\\\\n\t 0 & 0 & 0 & 0 & 0 & 0 & 0 & 0 & 0 & 0 & ⋯ &  239 &  244 &  248 &  260 &  269 &  281 &  285 &  297 &  305 &  311\\\\\n\t 0 & 0 & 0 & 0 & 0 & 0 & 0 & 0 & 0 & 0 & ⋯ &  985 & 1012 & 1024 & 1030 & 1038 & 1044 & 1047 & 1226 & 1235 & 1238\\\\\n\t 0 & 0 & 0 & 0 & 0 & 0 & 0 & 0 & 0 & 0 & ⋯ & 1486 & 1492 & 1500 & 1503 & 1507 & 1513 & 1515 & 1550 & 1560 & 1572\\\\\n\t 0 & 0 & 0 & 0 & 0 & 0 & 0 & 0 & 0 & 0 & ⋯ &  438 &  439 &  439 &  441 &  443 &  444 &  444 &  512 &  516 &  516\\\\\n\t 0 & 0 & 0 & 0 & 0 & 0 & 0 & 0 & 0 & 0 & ⋯ &  111 &  112 &  111 &  113 &  114 &  117 &  117 &  151 &  157 &  157\\\\\n\t 0 & 0 & 0 & 0 & 0 & 0 & 0 & 0 & 0 & 0 & ⋯ &  818 &  821 &  828 &  837 &  838 &  842 &  845 & 1256 & 1272 & 1270\\\\\n\t 0 & 0 & 0 & 0 & 0 & 0 & 0 & 0 & 0 & 0 & ⋯ &  405 &  410 &  412 &  416 &  417 &  421 &  421 &  508 &  507 &  515\\\\\n\t 0 & 0 & 0 & 0 & 0 & 0 & 0 & 0 & 0 & 0 & ⋯ & 1483 & 1494 & 1495 & 1501 & 1506 & 1524 & 1528 & 1775 & 1797 & 1800\\\\\n\t 0 & 0 & 0 & 0 & 0 & 0 & 0 & 0 & 0 & 0 & ⋯ & 1032 & 1058 & 1072 & 1078 & 1087 & 1091 & 1094 & 1261 & 1274 & 1280\\\\\n\t 0 & 0 & 0 & 0 & 0 & 0 & 0 & 0 & 0 & 0 & ⋯ & 1450 & 1455 & 1462 & 1470 & 1473 & 1475 & 1475 & 1721 & 1725 & 1725\\\\\n\t 0 & 0 & 0 & 0 & 0 & 0 & 0 & 0 & 0 & 0 & ⋯ & 2114 & 2118 & 2128 & 2136 & 2142 & 2155 & 2159 & 2284 & 2293 & 2301\\\\\n\t 0 & 0 & 0 & 0 & 0 & 0 & 0 & 0 & 0 & 0 & ⋯ & 2145 & 2162 & 2170 & 2180 & 2188 & 2213 & 2223 & 2449 & 2468 & 2475\\\\\n\t 0 & 0 & 0 & 0 & 0 & 0 & 0 & 0 & 0 & 0 & ⋯ & 1262 & 1270 & 1276 & 1279 & 1288 & 1300 & 1302 & 1527 & 1538 & 1543\\\\\n\t 0 & 0 & 0 & 0 & 0 & 0 & 0 & 0 & 0 & 0 & ⋯ & 2784 & 2810 & 2825 & 2844 & 2855 & 2886 & 2899 & 3217 & 3247 & 3263\\\\\n\t 0 & 0 & 0 & 0 & 0 & 0 & 0 & 0 & 0 & 0 & ⋯ &  320 &  321 &  327 &  336 &  341 &  353 &  357 &  400 &  408 &  412\\\\\n\t 0 & 0 & 0 & 0 & 0 & 0 & 0 & 0 & 0 & 0 & ⋯ & 1601 & 1622 & 1624 & 1633 & 1642 & 1662 & 1662 & 1693 & 1703 & 1727\\\\\n\t ⋮ & ⋮ & ⋮ & ⋮ & ⋮ & ⋮ & ⋮ & ⋮ & ⋮ & ⋮ & ⋱ & ⋮ & ⋮ & ⋮ & ⋮ & ⋮ & ⋮ & ⋮ & ⋮ & ⋮ & ⋮\\\\\n\t 0 & 0 & 0 & 0 & 0 & 0 & 0 & 0 & 0 & 0 & ⋯ & 5873 & 5886 & 5941 & 6011 & 6053 & 6115 & 6131 & 6170 & 6240 & 6287\\\\\n\t 0 & 0 & 0 & 0 & 0 & 0 & 0 & 0 & 0 & 0 & ⋯ &  778 &  783 &  789 &  798 &  806 &  812 &  815 &  821 &  831 &  841\\\\\n\t 0 & 0 & 0 & 0 & 0 & 0 & 0 & 0 & 0 & 0 & ⋯ &  200 &  202 &  211 &  222 &  229 &  233 &  238 &  243 &  245 &  248\\\\\n\t 0 & 0 & 0 & 0 & 0 & 0 & 0 & 0 & 0 & 0 & ⋯ & 1730 & 1748 & 1778 & 1861 & 1926 & 1996 & 2019 & 2100 & 2168 & 2252\\\\\n\t 0 & 0 & 0 & 0 & 0 & 0 & 0 & 0 & 0 & 0 & ⋯ &  531 &  538 &  541 &  555 &  563 &  575 &  579 &  590 &  616 &  627\\\\\n\t 0 & 0 & 0 & 0 & 0 & 0 & 0 & 0 & 0 & 0 & ⋯ &  200 &  208 &  212 &  217 &  220 &  234 &  253 &  263 &  281 &  301\\\\\n\t 0 & 0 & 0 & 0 & 0 & 0 & 0 & 0 & 0 & 0 & ⋯ &   51 &   51 &   51 &   51 &   51 &   51 &   51 &   51 &   51 &   51\\\\\n\t 0 & 0 & 0 & 0 & 0 & 0 & 0 & 0 & 0 & 0 & ⋯ &  210 &  213 &  214 &  218 &  221 &  222 &  223 &  223 &  227 &  230\\\\\n\t 0 & 0 & 0 & 0 & 0 & 0 & 0 & 0 & 0 & 0 & ⋯ &  192 &  193 &  193 &  195 &  194 &  194 &  196 &  196 &  200 &  205\\\\\n\t 0 & 0 & 0 & 0 & 0 & 0 & 0 & 0 & 0 & 0 & ⋯ &   50 &   54 &   59 &   60 &   61 &   62 &   65 &   68 &   80 &   85\\\\\n\t 0 & 0 & 0 & 0 & 0 & 0 & 0 & 0 & 0 & 0 & ⋯ &   15 &   15 &   17 &   20 &   20 &   23 &   23 &   27 &   32 &   32\\\\\n\t 0 & 0 & 0 & 0 & 0 & 0 & 0 & 0 & 0 & 0 & ⋯ &  612 &  614 &  616 &  619 &  623 &  625 &  630 &  632 &  640 &  646\\\\\n\t 0 & 0 & 0 & 0 & 0 & 0 & 0 & 0 & 0 & 0 & ⋯ &   67 &   68 &   69 &   69 &   69 &   69 &   71 &   73 &   74 &   74\\\\\n\t 0 & 0 & 0 & 0 & 0 & 0 & 0 & 0 & 0 & 0 & ⋯ &   31 &   31 &   31 &   30 &   31 &   30 &   30 &   30 &   31 &   32\\\\\n\t 0 & 0 & 0 & 0 & 0 & 0 & 0 & 0 & 0 & 0 & ⋯ &   28 &   29 &   29 &   29 &   29 &   29 &   29 &   29 &   29 &   29\\\\\n\t 0 & 0 & 0 & 0 & 0 & 0 & 0 & 0 & 0 & 0 & ⋯ &  592 &  597 &  604 &  616 &  619 &  624 &  624 &  627 &  631 &  635\\\\\n\t 0 & 0 & 0 & 0 & 0 & 0 & 0 & 0 & 0 & 0 & ⋯ &  118 &  120 &  121 &  123 &  123 &  124 &  123 &  124 &  127 &  131\\\\\n\t 0 & 0 & 0 & 0 & 0 & 0 & 0 & 0 & 0 & 0 & ⋯ &  322 &  330 &  335 &  347 &  356 &  368 &  372 &  377 &  404 &  419\\\\\n\t 0 & 0 & 0 & 0 & 0 & 0 & 0 & 0 & 0 & 0 & ⋯ &    3 &    3 &    3 &    3 &    3 &    3 &    3 &    3 &    3 &    3\\\\\n\t 0 & 0 & 0 & 0 & 0 & 0 & 0 & 0 & 0 & 0 & ⋯ &    0 &    0 &    0 &    0 &    0 &    0 &    0 &    0 &    0 &    0\\\\\n\t 0 & 0 & 0 & 0 & 0 & 0 & 0 & 0 & 0 & 0 & ⋯ &  173 &  179 &  182 &  184 &  187 &  187 &  186 &  187 &  196 &  199\\\\\n\t 0 & 0 & 0 & 0 & 0 & 0 & 0 & 0 & 0 & 0 & ⋯ &    7 &    7 &    7 &    9 &    9 &    9 &   10 &   12 &   16 &   18\\\\\n\t 0 & 0 & 0 & 0 & 0 & 0 & 0 & 0 & 0 & 0 & ⋯ &  180 &  182 &  191 &  197 &  199 &  203 &  210 &  213 &  224 &  226\\\\\n\t 0 & 0 & 0 & 0 & 0 & 0 & 0 & 0 & 0 & 0 & ⋯ &   50 &   51 &   51 &   53 &   53 &   54 &   54 &   62 &   65 &   67\\\\\n\t 0 & 0 & 0 & 0 & 0 & 0 & 0 & 0 & 0 & 0 & ⋯ &  314 &  316 &  319 &  320 &  320 &  318 &  317 &  317 &  317 &  320\\\\\n\t 0 & 0 & 0 & 0 & 0 & 0 & 0 & 0 & 0 & 0 & ⋯ &  450 &  451 &  453 &  462 &  465 &  470 &  476 &  478 &  481 &  487\\\\\n\t 0 & 0 & 0 & 0 & 0 & 0 & 0 & 0 & 0 & 0 & ⋯ &  309 &  308 &  310 &  310 &  310 &  311 &  312 &  312 &  323 &  327\\\\\n\t 0 & 0 & 0 & 0 & 0 & 0 & 0 & 0 & 0 & 0 & ⋯ &    0 &    0 &    0 &    0 &    0 &    2 &    2 &    2 &    0 &    0\\\\\n\t 0 & 0 & 0 & 0 & 0 & 0 & 0 & 0 & 0 & 0 & ⋯ &  111 &  111 &  111 &  111 &  111 &  111 &  111 &  111 &  111 &  112\\\\\n\t 0 & 0 & 0 & 0 & 0 & 0 & 0 & 0 & 0 & 0 & ⋯ &   20 &   21 &   21 &   21 &   23 &   23 &   23 &   23 &   23 &   23\\\\\n\\end{tabular}\n",
            "text/markdown": "\nA tibble: 3340 × 240\n\n| 1/22/20 &lt;dbl&gt; | 1/23/20 &lt;dbl&gt; | 1/24/20 &lt;dbl&gt; | 1/25/20 &lt;dbl&gt; | 1/26/20 &lt;dbl&gt; | 1/27/20 &lt;dbl&gt; | 1/28/20 &lt;dbl&gt; | 1/29/20 &lt;dbl&gt; | 1/30/20 &lt;dbl&gt; | 1/31/20 &lt;dbl&gt; | ⋯ ⋯ | 9/8/20 &lt;dbl&gt; | 9/9/20 &lt;dbl&gt; | 9/10/20 &lt;dbl&gt; | 9/11/20 &lt;dbl&gt; | 9/12/20 &lt;dbl&gt; | 9/13/20 &lt;dbl&gt; | 9/14/20 &lt;dbl&gt; | 9/15/20 &lt;dbl&gt; | 9/16/20 &lt;dbl&gt; | 9/17/20 &lt;dbl&gt; |\n|---|---|---|---|---|---|---|---|---|---|---|---|---|---|---|---|---|---|---|---|---|\n| 0 | 0 | 0 | 0 | 0 | 0 | 0 | 0 | 0 | 0 | ⋯ | 1385 | 1398 | 1413 | 1420 | 1432 | 1442 | 1447 | 1585 | 1619 | 1624 |\n| 0 | 0 | 0 | 0 | 0 | 0 | 0 | 0 | 0 | 0 | ⋯ | 4609 | 4639 | 4678 | 4722 | 4752 | 4781 | 4800 | 4978 | 5003 | 5021 |\n| 0 | 0 | 0 | 0 | 0 | 0 | 0 | 0 | 0 | 0 | ⋯ |  617 |  618 |  618 |  618 |  620 |  622 |  626 |  801 |  809 |  809 |\n| 0 | 0 | 0 | 0 | 0 | 0 | 0 | 0 | 0 | 0 | ⋯ |  562 |  564 |  566 |  574 |  576 |  578 |  581 |  610 |  612 |  617 |\n| 0 | 0 | 0 | 0 | 0 | 0 | 0 | 0 | 0 | 0 | ⋯ | 1071 | 1082 | 1099 | 1109 | 1114 | 1121 | 1128 | 1464 | 1487 | 1504 |\n| 0 | 0 | 0 | 0 | 0 | 0 | 0 | 0 | 0 | 0 | ⋯ |  545 |  548 |  550 |  551 |  552 |  558 |  558 |  580 |  583 |  585 |\n| 0 | 0 | 0 | 0 | 0 | 0 | 0 | 0 | 0 | 0 | ⋯ |  859 |  862 |  863 |  863 |  865 |  866 |  867 |  900 |  901 |  902 |\n| 0 | 0 | 0 | 0 | 0 | 0 | 0 | 0 | 0 | 0 | ⋯ | 2602 | 2615 | 2652 | 2679 | 2728 | 2773 | 2790 | 3110 | 3165 | 3211 |\n| 0 | 0 | 0 | 0 | 0 | 0 | 0 | 0 | 0 | 0 | ⋯ |  857 |  858 |  858 |  862 |  863 |  863 |  864 | 1097 | 1107 | 1106 |\n| 0 | 0 | 0 | 0 | 0 | 0 | 0 | 0 | 0 | 0 | ⋯ |  367 |  371 |  376 |  380 |  392 |  407 |  407 |  518 |  526 |  528 |\n| 0 | 0 | 0 | 0 | 0 | 0 | 0 | 0 | 0 | 0 | ⋯ | 1172 | 1176 | 1198 | 1216 | 1234 | 1244 | 1251 | 1409 | 1428 | 1433 |\n| 0 | 0 | 0 | 0 | 0 | 0 | 0 | 0 | 0 | 0 | ⋯ |  325 |  326 |  327 |  328 |  328 |  331 |  331 |  341 |  342 |  342 |\n| 0 | 0 | 0 | 0 | 0 | 0 | 0 | 0 | 0 | 0 | ⋯ |  932 |  933 |  934 |  933 |  935 |  935 |  936 | 1042 | 1043 | 1044 |\n| 0 | 0 | 0 | 0 | 0 | 0 | 0 | 0 | 0 | 0 | ⋯ |  402 |  413 |  415 |  418 |  421 |  435 |  443 |  486 |  505 |  518 |\n| 0 | 0 | 0 | 0 | 0 | 0 | 0 | 0 | 0 | 0 | ⋯ |  239 |  244 |  248 |  260 |  269 |  281 |  285 |  297 |  305 |  311 |\n| 0 | 0 | 0 | 0 | 0 | 0 | 0 | 0 | 0 | 0 | ⋯ |  985 | 1012 | 1024 | 1030 | 1038 | 1044 | 1047 | 1226 | 1235 | 1238 |\n| 0 | 0 | 0 | 0 | 0 | 0 | 0 | 0 | 0 | 0 | ⋯ | 1486 | 1492 | 1500 | 1503 | 1507 | 1513 | 1515 | 1550 | 1560 | 1572 |\n| 0 | 0 | 0 | 0 | 0 | 0 | 0 | 0 | 0 | 0 | ⋯ |  438 |  439 |  439 |  441 |  443 |  444 |  444 |  512 |  516 |  516 |\n| 0 | 0 | 0 | 0 | 0 | 0 | 0 | 0 | 0 | 0 | ⋯ |  111 |  112 |  111 |  113 |  114 |  117 |  117 |  151 |  157 |  157 |\n| 0 | 0 | 0 | 0 | 0 | 0 | 0 | 0 | 0 | 0 | ⋯ |  818 |  821 |  828 |  837 |  838 |  842 |  845 | 1256 | 1272 | 1270 |\n| 0 | 0 | 0 | 0 | 0 | 0 | 0 | 0 | 0 | 0 | ⋯ |  405 |  410 |  412 |  416 |  417 |  421 |  421 |  508 |  507 |  515 |\n| 0 | 0 | 0 | 0 | 0 | 0 | 0 | 0 | 0 | 0 | ⋯ | 1483 | 1494 | 1495 | 1501 | 1506 | 1524 | 1528 | 1775 | 1797 | 1800 |\n| 0 | 0 | 0 | 0 | 0 | 0 | 0 | 0 | 0 | 0 | ⋯ | 1032 | 1058 | 1072 | 1078 | 1087 | 1091 | 1094 | 1261 | 1274 | 1280 |\n| 0 | 0 | 0 | 0 | 0 | 0 | 0 | 0 | 0 | 0 | ⋯ | 1450 | 1455 | 1462 | 1470 | 1473 | 1475 | 1475 | 1721 | 1725 | 1725 |\n| 0 | 0 | 0 | 0 | 0 | 0 | 0 | 0 | 0 | 0 | ⋯ | 2114 | 2118 | 2128 | 2136 | 2142 | 2155 | 2159 | 2284 | 2293 | 2301 |\n| 0 | 0 | 0 | 0 | 0 | 0 | 0 | 0 | 0 | 0 | ⋯ | 2145 | 2162 | 2170 | 2180 | 2188 | 2213 | 2223 | 2449 | 2468 | 2475 |\n| 0 | 0 | 0 | 0 | 0 | 0 | 0 | 0 | 0 | 0 | ⋯ | 1262 | 1270 | 1276 | 1279 | 1288 | 1300 | 1302 | 1527 | 1538 | 1543 |\n| 0 | 0 | 0 | 0 | 0 | 0 | 0 | 0 | 0 | 0 | ⋯ | 2784 | 2810 | 2825 | 2844 | 2855 | 2886 | 2899 | 3217 | 3247 | 3263 |\n| 0 | 0 | 0 | 0 | 0 | 0 | 0 | 0 | 0 | 0 | ⋯ |  320 |  321 |  327 |  336 |  341 |  353 |  357 |  400 |  408 |  412 |\n| 0 | 0 | 0 | 0 | 0 | 0 | 0 | 0 | 0 | 0 | ⋯ | 1601 | 1622 | 1624 | 1633 | 1642 | 1662 | 1662 | 1693 | 1703 | 1727 |\n| ⋮ | ⋮ | ⋮ | ⋮ | ⋮ | ⋮ | ⋮ | ⋮ | ⋮ | ⋮ | ⋱ | ⋮ | ⋮ | ⋮ | ⋮ | ⋮ | ⋮ | ⋮ | ⋮ | ⋮ | ⋮ |\n| 0 | 0 | 0 | 0 | 0 | 0 | 0 | 0 | 0 | 0 | ⋯ | 5873 | 5886 | 5941 | 6011 | 6053 | 6115 | 6131 | 6170 | 6240 | 6287 |\n| 0 | 0 | 0 | 0 | 0 | 0 | 0 | 0 | 0 | 0 | ⋯ |  778 |  783 |  789 |  798 |  806 |  812 |  815 |  821 |  831 |  841 |\n| 0 | 0 | 0 | 0 | 0 | 0 | 0 | 0 | 0 | 0 | ⋯ |  200 |  202 |  211 |  222 |  229 |  233 |  238 |  243 |  245 |  248 |\n| 0 | 0 | 0 | 0 | 0 | 0 | 0 | 0 | 0 | 0 | ⋯ | 1730 | 1748 | 1778 | 1861 | 1926 | 1996 | 2019 | 2100 | 2168 | 2252 |\n| 0 | 0 | 0 | 0 | 0 | 0 | 0 | 0 | 0 | 0 | ⋯ |  531 |  538 |  541 |  555 |  563 |  575 |  579 |  590 |  616 |  627 |\n| 0 | 0 | 0 | 0 | 0 | 0 | 0 | 0 | 0 | 0 | ⋯ |  200 |  208 |  212 |  217 |  220 |  234 |  253 |  263 |  281 |  301 |\n| 0 | 0 | 0 | 0 | 0 | 0 | 0 | 0 | 0 | 0 | ⋯ |   51 |   51 |   51 |   51 |   51 |   51 |   51 |   51 |   51 |   51 |\n| 0 | 0 | 0 | 0 | 0 | 0 | 0 | 0 | 0 | 0 | ⋯ |  210 |  213 |  214 |  218 |  221 |  222 |  223 |  223 |  227 |  230 |\n| 0 | 0 | 0 | 0 | 0 | 0 | 0 | 0 | 0 | 0 | ⋯ |  192 |  193 |  193 |  195 |  194 |  194 |  196 |  196 |  200 |  205 |\n| 0 | 0 | 0 | 0 | 0 | 0 | 0 | 0 | 0 | 0 | ⋯ |   50 |   54 |   59 |   60 |   61 |   62 |   65 |   68 |   80 |   85 |\n| 0 | 0 | 0 | 0 | 0 | 0 | 0 | 0 | 0 | 0 | ⋯ |   15 |   15 |   17 |   20 |   20 |   23 |   23 |   27 |   32 |   32 |\n| 0 | 0 | 0 | 0 | 0 | 0 | 0 | 0 | 0 | 0 | ⋯ |  612 |  614 |  616 |  619 |  623 |  625 |  630 |  632 |  640 |  646 |\n| 0 | 0 | 0 | 0 | 0 | 0 | 0 | 0 | 0 | 0 | ⋯ |   67 |   68 |   69 |   69 |   69 |   69 |   71 |   73 |   74 |   74 |\n| 0 | 0 | 0 | 0 | 0 | 0 | 0 | 0 | 0 | 0 | ⋯ |   31 |   31 |   31 |   30 |   31 |   30 |   30 |   30 |   31 |   32 |\n| 0 | 0 | 0 | 0 | 0 | 0 | 0 | 0 | 0 | 0 | ⋯ |   28 |   29 |   29 |   29 |   29 |   29 |   29 |   29 |   29 |   29 |\n| 0 | 0 | 0 | 0 | 0 | 0 | 0 | 0 | 0 | 0 | ⋯ |  592 |  597 |  604 |  616 |  619 |  624 |  624 |  627 |  631 |  635 |\n| 0 | 0 | 0 | 0 | 0 | 0 | 0 | 0 | 0 | 0 | ⋯ |  118 |  120 |  121 |  123 |  123 |  124 |  123 |  124 |  127 |  131 |\n| 0 | 0 | 0 | 0 | 0 | 0 | 0 | 0 | 0 | 0 | ⋯ |  322 |  330 |  335 |  347 |  356 |  368 |  372 |  377 |  404 |  419 |\n| 0 | 0 | 0 | 0 | 0 | 0 | 0 | 0 | 0 | 0 | ⋯ |    3 |    3 |    3 |    3 |    3 |    3 |    3 |    3 |    3 |    3 |\n| 0 | 0 | 0 | 0 | 0 | 0 | 0 | 0 | 0 | 0 | ⋯ |    0 |    0 |    0 |    0 |    0 |    0 |    0 |    0 |    0 |    0 |\n| 0 | 0 | 0 | 0 | 0 | 0 | 0 | 0 | 0 | 0 | ⋯ |  173 |  179 |  182 |  184 |  187 |  187 |  186 |  187 |  196 |  199 |\n| 0 | 0 | 0 | 0 | 0 | 0 | 0 | 0 | 0 | 0 | ⋯ |    7 |    7 |    7 |    9 |    9 |    9 |   10 |   12 |   16 |   18 |\n| 0 | 0 | 0 | 0 | 0 | 0 | 0 | 0 | 0 | 0 | ⋯ |  180 |  182 |  191 |  197 |  199 |  203 |  210 |  213 |  224 |  226 |\n| 0 | 0 | 0 | 0 | 0 | 0 | 0 | 0 | 0 | 0 | ⋯ |   50 |   51 |   51 |   53 |   53 |   54 |   54 |   62 |   65 |   67 |\n| 0 | 0 | 0 | 0 | 0 | 0 | 0 | 0 | 0 | 0 | ⋯ |  314 |  316 |  319 |  320 |  320 |  318 |  317 |  317 |  317 |  320 |\n| 0 | 0 | 0 | 0 | 0 | 0 | 0 | 0 | 0 | 0 | ⋯ |  450 |  451 |  453 |  462 |  465 |  470 |  476 |  478 |  481 |  487 |\n| 0 | 0 | 0 | 0 | 0 | 0 | 0 | 0 | 0 | 0 | ⋯ |  309 |  308 |  310 |  310 |  310 |  311 |  312 |  312 |  323 |  327 |\n| 0 | 0 | 0 | 0 | 0 | 0 | 0 | 0 | 0 | 0 | ⋯ |    0 |    0 |    0 |    0 |    0 |    2 |    2 |    2 |    0 |    0 |\n| 0 | 0 | 0 | 0 | 0 | 0 | 0 | 0 | 0 | 0 | ⋯ |  111 |  111 |  111 |  111 |  111 |  111 |  111 |  111 |  111 |  112 |\n| 0 | 0 | 0 | 0 | 0 | 0 | 0 | 0 | 0 | 0 | ⋯ |   20 |   21 |   21 |   21 |   23 |   23 |   23 |   23 |   23 |   23 |\n\n",
            "text/html": [
              "<table>\n",
              "<caption>A tibble: 3340 × 240</caption>\n",
              "<thead>\n",
              "\t<tr><th scope=col>1/22/20</th><th scope=col>1/23/20</th><th scope=col>1/24/20</th><th scope=col>1/25/20</th><th scope=col>1/26/20</th><th scope=col>1/27/20</th><th scope=col>1/28/20</th><th scope=col>1/29/20</th><th scope=col>1/30/20</th><th scope=col>1/31/20</th><th scope=col>⋯</th><th scope=col>9/8/20</th><th scope=col>9/9/20</th><th scope=col>9/10/20</th><th scope=col>9/11/20</th><th scope=col>9/12/20</th><th scope=col>9/13/20</th><th scope=col>9/14/20</th><th scope=col>9/15/20</th><th scope=col>9/16/20</th><th scope=col>9/17/20</th></tr>\n",
              "\t<tr><th scope=col>&lt;dbl&gt;</th><th scope=col>&lt;dbl&gt;</th><th scope=col>&lt;dbl&gt;</th><th scope=col>&lt;dbl&gt;</th><th scope=col>&lt;dbl&gt;</th><th scope=col>&lt;dbl&gt;</th><th scope=col>&lt;dbl&gt;</th><th scope=col>&lt;dbl&gt;</th><th scope=col>&lt;dbl&gt;</th><th scope=col>&lt;dbl&gt;</th><th scope=col>⋯</th><th scope=col>&lt;dbl&gt;</th><th scope=col>&lt;dbl&gt;</th><th scope=col>&lt;dbl&gt;</th><th scope=col>&lt;dbl&gt;</th><th scope=col>&lt;dbl&gt;</th><th scope=col>&lt;dbl&gt;</th><th scope=col>&lt;dbl&gt;</th><th scope=col>&lt;dbl&gt;</th><th scope=col>&lt;dbl&gt;</th><th scope=col>&lt;dbl&gt;</th></tr>\n",
              "</thead>\n",
              "<tbody>\n",
              "\t<tr><td>0</td><td>0</td><td>0</td><td>0</td><td>0</td><td>0</td><td>0</td><td>0</td><td>0</td><td>0</td><td>⋯</td><td>1385</td><td>1398</td><td>1413</td><td>1420</td><td>1432</td><td>1442</td><td>1447</td><td>1585</td><td>1619</td><td>1624</td></tr>\n",
              "\t<tr><td>0</td><td>0</td><td>0</td><td>0</td><td>0</td><td>0</td><td>0</td><td>0</td><td>0</td><td>0</td><td>⋯</td><td>4609</td><td>4639</td><td>4678</td><td>4722</td><td>4752</td><td>4781</td><td>4800</td><td>4978</td><td>5003</td><td>5021</td></tr>\n",
              "\t<tr><td>0</td><td>0</td><td>0</td><td>0</td><td>0</td><td>0</td><td>0</td><td>0</td><td>0</td><td>0</td><td>⋯</td><td> 617</td><td> 618</td><td> 618</td><td> 618</td><td> 620</td><td> 622</td><td> 626</td><td> 801</td><td> 809</td><td> 809</td></tr>\n",
              "\t<tr><td>0</td><td>0</td><td>0</td><td>0</td><td>0</td><td>0</td><td>0</td><td>0</td><td>0</td><td>0</td><td>⋯</td><td> 562</td><td> 564</td><td> 566</td><td> 574</td><td> 576</td><td> 578</td><td> 581</td><td> 610</td><td> 612</td><td> 617</td></tr>\n",
              "\t<tr><td>0</td><td>0</td><td>0</td><td>0</td><td>0</td><td>0</td><td>0</td><td>0</td><td>0</td><td>0</td><td>⋯</td><td>1071</td><td>1082</td><td>1099</td><td>1109</td><td>1114</td><td>1121</td><td>1128</td><td>1464</td><td>1487</td><td>1504</td></tr>\n",
              "\t<tr><td>0</td><td>0</td><td>0</td><td>0</td><td>0</td><td>0</td><td>0</td><td>0</td><td>0</td><td>0</td><td>⋯</td><td> 545</td><td> 548</td><td> 550</td><td> 551</td><td> 552</td><td> 558</td><td> 558</td><td> 580</td><td> 583</td><td> 585</td></tr>\n",
              "\t<tr><td>0</td><td>0</td><td>0</td><td>0</td><td>0</td><td>0</td><td>0</td><td>0</td><td>0</td><td>0</td><td>⋯</td><td> 859</td><td> 862</td><td> 863</td><td> 863</td><td> 865</td><td> 866</td><td> 867</td><td> 900</td><td> 901</td><td> 902</td></tr>\n",
              "\t<tr><td>0</td><td>0</td><td>0</td><td>0</td><td>0</td><td>0</td><td>0</td><td>0</td><td>0</td><td>0</td><td>⋯</td><td>2602</td><td>2615</td><td>2652</td><td>2679</td><td>2728</td><td>2773</td><td>2790</td><td>3110</td><td>3165</td><td>3211</td></tr>\n",
              "\t<tr><td>0</td><td>0</td><td>0</td><td>0</td><td>0</td><td>0</td><td>0</td><td>0</td><td>0</td><td>0</td><td>⋯</td><td> 857</td><td> 858</td><td> 858</td><td> 862</td><td> 863</td><td> 863</td><td> 864</td><td>1097</td><td>1107</td><td>1106</td></tr>\n",
              "\t<tr><td>0</td><td>0</td><td>0</td><td>0</td><td>0</td><td>0</td><td>0</td><td>0</td><td>0</td><td>0</td><td>⋯</td><td> 367</td><td> 371</td><td> 376</td><td> 380</td><td> 392</td><td> 407</td><td> 407</td><td> 518</td><td> 526</td><td> 528</td></tr>\n",
              "\t<tr><td>0</td><td>0</td><td>0</td><td>0</td><td>0</td><td>0</td><td>0</td><td>0</td><td>0</td><td>0</td><td>⋯</td><td>1172</td><td>1176</td><td>1198</td><td>1216</td><td>1234</td><td>1244</td><td>1251</td><td>1409</td><td>1428</td><td>1433</td></tr>\n",
              "\t<tr><td>0</td><td>0</td><td>0</td><td>0</td><td>0</td><td>0</td><td>0</td><td>0</td><td>0</td><td>0</td><td>⋯</td><td> 325</td><td> 326</td><td> 327</td><td> 328</td><td> 328</td><td> 331</td><td> 331</td><td> 341</td><td> 342</td><td> 342</td></tr>\n",
              "\t<tr><td>0</td><td>0</td><td>0</td><td>0</td><td>0</td><td>0</td><td>0</td><td>0</td><td>0</td><td>0</td><td>⋯</td><td> 932</td><td> 933</td><td> 934</td><td> 933</td><td> 935</td><td> 935</td><td> 936</td><td>1042</td><td>1043</td><td>1044</td></tr>\n",
              "\t<tr><td>0</td><td>0</td><td>0</td><td>0</td><td>0</td><td>0</td><td>0</td><td>0</td><td>0</td><td>0</td><td>⋯</td><td> 402</td><td> 413</td><td> 415</td><td> 418</td><td> 421</td><td> 435</td><td> 443</td><td> 486</td><td> 505</td><td> 518</td></tr>\n",
              "\t<tr><td>0</td><td>0</td><td>0</td><td>0</td><td>0</td><td>0</td><td>0</td><td>0</td><td>0</td><td>0</td><td>⋯</td><td> 239</td><td> 244</td><td> 248</td><td> 260</td><td> 269</td><td> 281</td><td> 285</td><td> 297</td><td> 305</td><td> 311</td></tr>\n",
              "\t<tr><td>0</td><td>0</td><td>0</td><td>0</td><td>0</td><td>0</td><td>0</td><td>0</td><td>0</td><td>0</td><td>⋯</td><td> 985</td><td>1012</td><td>1024</td><td>1030</td><td>1038</td><td>1044</td><td>1047</td><td>1226</td><td>1235</td><td>1238</td></tr>\n",
              "\t<tr><td>0</td><td>0</td><td>0</td><td>0</td><td>0</td><td>0</td><td>0</td><td>0</td><td>0</td><td>0</td><td>⋯</td><td>1486</td><td>1492</td><td>1500</td><td>1503</td><td>1507</td><td>1513</td><td>1515</td><td>1550</td><td>1560</td><td>1572</td></tr>\n",
              "\t<tr><td>0</td><td>0</td><td>0</td><td>0</td><td>0</td><td>0</td><td>0</td><td>0</td><td>0</td><td>0</td><td>⋯</td><td> 438</td><td> 439</td><td> 439</td><td> 441</td><td> 443</td><td> 444</td><td> 444</td><td> 512</td><td> 516</td><td> 516</td></tr>\n",
              "\t<tr><td>0</td><td>0</td><td>0</td><td>0</td><td>0</td><td>0</td><td>0</td><td>0</td><td>0</td><td>0</td><td>⋯</td><td> 111</td><td> 112</td><td> 111</td><td> 113</td><td> 114</td><td> 117</td><td> 117</td><td> 151</td><td> 157</td><td> 157</td></tr>\n",
              "\t<tr><td>0</td><td>0</td><td>0</td><td>0</td><td>0</td><td>0</td><td>0</td><td>0</td><td>0</td><td>0</td><td>⋯</td><td> 818</td><td> 821</td><td> 828</td><td> 837</td><td> 838</td><td> 842</td><td> 845</td><td>1256</td><td>1272</td><td>1270</td></tr>\n",
              "\t<tr><td>0</td><td>0</td><td>0</td><td>0</td><td>0</td><td>0</td><td>0</td><td>0</td><td>0</td><td>0</td><td>⋯</td><td> 405</td><td> 410</td><td> 412</td><td> 416</td><td> 417</td><td> 421</td><td> 421</td><td> 508</td><td> 507</td><td> 515</td></tr>\n",
              "\t<tr><td>0</td><td>0</td><td>0</td><td>0</td><td>0</td><td>0</td><td>0</td><td>0</td><td>0</td><td>0</td><td>⋯</td><td>1483</td><td>1494</td><td>1495</td><td>1501</td><td>1506</td><td>1524</td><td>1528</td><td>1775</td><td>1797</td><td>1800</td></tr>\n",
              "\t<tr><td>0</td><td>0</td><td>0</td><td>0</td><td>0</td><td>0</td><td>0</td><td>0</td><td>0</td><td>0</td><td>⋯</td><td>1032</td><td>1058</td><td>1072</td><td>1078</td><td>1087</td><td>1091</td><td>1094</td><td>1261</td><td>1274</td><td>1280</td></tr>\n",
              "\t<tr><td>0</td><td>0</td><td>0</td><td>0</td><td>0</td><td>0</td><td>0</td><td>0</td><td>0</td><td>0</td><td>⋯</td><td>1450</td><td>1455</td><td>1462</td><td>1470</td><td>1473</td><td>1475</td><td>1475</td><td>1721</td><td>1725</td><td>1725</td></tr>\n",
              "\t<tr><td>0</td><td>0</td><td>0</td><td>0</td><td>0</td><td>0</td><td>0</td><td>0</td><td>0</td><td>0</td><td>⋯</td><td>2114</td><td>2118</td><td>2128</td><td>2136</td><td>2142</td><td>2155</td><td>2159</td><td>2284</td><td>2293</td><td>2301</td></tr>\n",
              "\t<tr><td>0</td><td>0</td><td>0</td><td>0</td><td>0</td><td>0</td><td>0</td><td>0</td><td>0</td><td>0</td><td>⋯</td><td>2145</td><td>2162</td><td>2170</td><td>2180</td><td>2188</td><td>2213</td><td>2223</td><td>2449</td><td>2468</td><td>2475</td></tr>\n",
              "\t<tr><td>0</td><td>0</td><td>0</td><td>0</td><td>0</td><td>0</td><td>0</td><td>0</td><td>0</td><td>0</td><td>⋯</td><td>1262</td><td>1270</td><td>1276</td><td>1279</td><td>1288</td><td>1300</td><td>1302</td><td>1527</td><td>1538</td><td>1543</td></tr>\n",
              "\t<tr><td>0</td><td>0</td><td>0</td><td>0</td><td>0</td><td>0</td><td>0</td><td>0</td><td>0</td><td>0</td><td>⋯</td><td>2784</td><td>2810</td><td>2825</td><td>2844</td><td>2855</td><td>2886</td><td>2899</td><td>3217</td><td>3247</td><td>3263</td></tr>\n",
              "\t<tr><td>0</td><td>0</td><td>0</td><td>0</td><td>0</td><td>0</td><td>0</td><td>0</td><td>0</td><td>0</td><td>⋯</td><td> 320</td><td> 321</td><td> 327</td><td> 336</td><td> 341</td><td> 353</td><td> 357</td><td> 400</td><td> 408</td><td> 412</td></tr>\n",
              "\t<tr><td>0</td><td>0</td><td>0</td><td>0</td><td>0</td><td>0</td><td>0</td><td>0</td><td>0</td><td>0</td><td>⋯</td><td>1601</td><td>1622</td><td>1624</td><td>1633</td><td>1642</td><td>1662</td><td>1662</td><td>1693</td><td>1703</td><td>1727</td></tr>\n",
              "\t<tr><td>⋮</td><td>⋮</td><td>⋮</td><td>⋮</td><td>⋮</td><td>⋮</td><td>⋮</td><td>⋮</td><td>⋮</td><td>⋮</td><td>⋱</td><td>⋮</td><td>⋮</td><td>⋮</td><td>⋮</td><td>⋮</td><td>⋮</td><td>⋮</td><td>⋮</td><td>⋮</td><td>⋮</td></tr>\n",
              "\t<tr><td>0</td><td>0</td><td>0</td><td>0</td><td>0</td><td>0</td><td>0</td><td>0</td><td>0</td><td>0</td><td>⋯</td><td>5873</td><td>5886</td><td>5941</td><td>6011</td><td>6053</td><td>6115</td><td>6131</td><td>6170</td><td>6240</td><td>6287</td></tr>\n",
              "\t<tr><td>0</td><td>0</td><td>0</td><td>0</td><td>0</td><td>0</td><td>0</td><td>0</td><td>0</td><td>0</td><td>⋯</td><td> 778</td><td> 783</td><td> 789</td><td> 798</td><td> 806</td><td> 812</td><td> 815</td><td> 821</td><td> 831</td><td> 841</td></tr>\n",
              "\t<tr><td>0</td><td>0</td><td>0</td><td>0</td><td>0</td><td>0</td><td>0</td><td>0</td><td>0</td><td>0</td><td>⋯</td><td> 200</td><td> 202</td><td> 211</td><td> 222</td><td> 229</td><td> 233</td><td> 238</td><td> 243</td><td> 245</td><td> 248</td></tr>\n",
              "\t<tr><td>0</td><td>0</td><td>0</td><td>0</td><td>0</td><td>0</td><td>0</td><td>0</td><td>0</td><td>0</td><td>⋯</td><td>1730</td><td>1748</td><td>1778</td><td>1861</td><td>1926</td><td>1996</td><td>2019</td><td>2100</td><td>2168</td><td>2252</td></tr>\n",
              "\t<tr><td>0</td><td>0</td><td>0</td><td>0</td><td>0</td><td>0</td><td>0</td><td>0</td><td>0</td><td>0</td><td>⋯</td><td> 531</td><td> 538</td><td> 541</td><td> 555</td><td> 563</td><td> 575</td><td> 579</td><td> 590</td><td> 616</td><td> 627</td></tr>\n",
              "\t<tr><td>0</td><td>0</td><td>0</td><td>0</td><td>0</td><td>0</td><td>0</td><td>0</td><td>0</td><td>0</td><td>⋯</td><td> 200</td><td> 208</td><td> 212</td><td> 217</td><td> 220</td><td> 234</td><td> 253</td><td> 263</td><td> 281</td><td> 301</td></tr>\n",
              "\t<tr><td>0</td><td>0</td><td>0</td><td>0</td><td>0</td><td>0</td><td>0</td><td>0</td><td>0</td><td>0</td><td>⋯</td><td>  51</td><td>  51</td><td>  51</td><td>  51</td><td>  51</td><td>  51</td><td>  51</td><td>  51</td><td>  51</td><td>  51</td></tr>\n",
              "\t<tr><td>0</td><td>0</td><td>0</td><td>0</td><td>0</td><td>0</td><td>0</td><td>0</td><td>0</td><td>0</td><td>⋯</td><td> 210</td><td> 213</td><td> 214</td><td> 218</td><td> 221</td><td> 222</td><td> 223</td><td> 223</td><td> 227</td><td> 230</td></tr>\n",
              "\t<tr><td>0</td><td>0</td><td>0</td><td>0</td><td>0</td><td>0</td><td>0</td><td>0</td><td>0</td><td>0</td><td>⋯</td><td> 192</td><td> 193</td><td> 193</td><td> 195</td><td> 194</td><td> 194</td><td> 196</td><td> 196</td><td> 200</td><td> 205</td></tr>\n",
              "\t<tr><td>0</td><td>0</td><td>0</td><td>0</td><td>0</td><td>0</td><td>0</td><td>0</td><td>0</td><td>0</td><td>⋯</td><td>  50</td><td>  54</td><td>  59</td><td>  60</td><td>  61</td><td>  62</td><td>  65</td><td>  68</td><td>  80</td><td>  85</td></tr>\n",
              "\t<tr><td>0</td><td>0</td><td>0</td><td>0</td><td>0</td><td>0</td><td>0</td><td>0</td><td>0</td><td>0</td><td>⋯</td><td>  15</td><td>  15</td><td>  17</td><td>  20</td><td>  20</td><td>  23</td><td>  23</td><td>  27</td><td>  32</td><td>  32</td></tr>\n",
              "\t<tr><td>0</td><td>0</td><td>0</td><td>0</td><td>0</td><td>0</td><td>0</td><td>0</td><td>0</td><td>0</td><td>⋯</td><td> 612</td><td> 614</td><td> 616</td><td> 619</td><td> 623</td><td> 625</td><td> 630</td><td> 632</td><td> 640</td><td> 646</td></tr>\n",
              "\t<tr><td>0</td><td>0</td><td>0</td><td>0</td><td>0</td><td>0</td><td>0</td><td>0</td><td>0</td><td>0</td><td>⋯</td><td>  67</td><td>  68</td><td>  69</td><td>  69</td><td>  69</td><td>  69</td><td>  71</td><td>  73</td><td>  74</td><td>  74</td></tr>\n",
              "\t<tr><td>0</td><td>0</td><td>0</td><td>0</td><td>0</td><td>0</td><td>0</td><td>0</td><td>0</td><td>0</td><td>⋯</td><td>  31</td><td>  31</td><td>  31</td><td>  30</td><td>  31</td><td>  30</td><td>  30</td><td>  30</td><td>  31</td><td>  32</td></tr>\n",
              "\t<tr><td>0</td><td>0</td><td>0</td><td>0</td><td>0</td><td>0</td><td>0</td><td>0</td><td>0</td><td>0</td><td>⋯</td><td>  28</td><td>  29</td><td>  29</td><td>  29</td><td>  29</td><td>  29</td><td>  29</td><td>  29</td><td>  29</td><td>  29</td></tr>\n",
              "\t<tr><td>0</td><td>0</td><td>0</td><td>0</td><td>0</td><td>0</td><td>0</td><td>0</td><td>0</td><td>0</td><td>⋯</td><td> 592</td><td> 597</td><td> 604</td><td> 616</td><td> 619</td><td> 624</td><td> 624</td><td> 627</td><td> 631</td><td> 635</td></tr>\n",
              "\t<tr><td>0</td><td>0</td><td>0</td><td>0</td><td>0</td><td>0</td><td>0</td><td>0</td><td>0</td><td>0</td><td>⋯</td><td> 118</td><td> 120</td><td> 121</td><td> 123</td><td> 123</td><td> 124</td><td> 123</td><td> 124</td><td> 127</td><td> 131</td></tr>\n",
              "\t<tr><td>0</td><td>0</td><td>0</td><td>0</td><td>0</td><td>0</td><td>0</td><td>0</td><td>0</td><td>0</td><td>⋯</td><td> 322</td><td> 330</td><td> 335</td><td> 347</td><td> 356</td><td> 368</td><td> 372</td><td> 377</td><td> 404</td><td> 419</td></tr>\n",
              "\t<tr><td>0</td><td>0</td><td>0</td><td>0</td><td>0</td><td>0</td><td>0</td><td>0</td><td>0</td><td>0</td><td>⋯</td><td>   3</td><td>   3</td><td>   3</td><td>   3</td><td>   3</td><td>   3</td><td>   3</td><td>   3</td><td>   3</td><td>   3</td></tr>\n",
              "\t<tr><td>0</td><td>0</td><td>0</td><td>0</td><td>0</td><td>0</td><td>0</td><td>0</td><td>0</td><td>0</td><td>⋯</td><td>   0</td><td>   0</td><td>   0</td><td>   0</td><td>   0</td><td>   0</td><td>   0</td><td>   0</td><td>   0</td><td>   0</td></tr>\n",
              "\t<tr><td>0</td><td>0</td><td>0</td><td>0</td><td>0</td><td>0</td><td>0</td><td>0</td><td>0</td><td>0</td><td>⋯</td><td> 173</td><td> 179</td><td> 182</td><td> 184</td><td> 187</td><td> 187</td><td> 186</td><td> 187</td><td> 196</td><td> 199</td></tr>\n",
              "\t<tr><td>0</td><td>0</td><td>0</td><td>0</td><td>0</td><td>0</td><td>0</td><td>0</td><td>0</td><td>0</td><td>⋯</td><td>   7</td><td>   7</td><td>   7</td><td>   9</td><td>   9</td><td>   9</td><td>  10</td><td>  12</td><td>  16</td><td>  18</td></tr>\n",
              "\t<tr><td>0</td><td>0</td><td>0</td><td>0</td><td>0</td><td>0</td><td>0</td><td>0</td><td>0</td><td>0</td><td>⋯</td><td> 180</td><td> 182</td><td> 191</td><td> 197</td><td> 199</td><td> 203</td><td> 210</td><td> 213</td><td> 224</td><td> 226</td></tr>\n",
              "\t<tr><td>0</td><td>0</td><td>0</td><td>0</td><td>0</td><td>0</td><td>0</td><td>0</td><td>0</td><td>0</td><td>⋯</td><td>  50</td><td>  51</td><td>  51</td><td>  53</td><td>  53</td><td>  54</td><td>  54</td><td>  62</td><td>  65</td><td>  67</td></tr>\n",
              "\t<tr><td>0</td><td>0</td><td>0</td><td>0</td><td>0</td><td>0</td><td>0</td><td>0</td><td>0</td><td>0</td><td>⋯</td><td> 314</td><td> 316</td><td> 319</td><td> 320</td><td> 320</td><td> 318</td><td> 317</td><td> 317</td><td> 317</td><td> 320</td></tr>\n",
              "\t<tr><td>0</td><td>0</td><td>0</td><td>0</td><td>0</td><td>0</td><td>0</td><td>0</td><td>0</td><td>0</td><td>⋯</td><td> 450</td><td> 451</td><td> 453</td><td> 462</td><td> 465</td><td> 470</td><td> 476</td><td> 478</td><td> 481</td><td> 487</td></tr>\n",
              "\t<tr><td>0</td><td>0</td><td>0</td><td>0</td><td>0</td><td>0</td><td>0</td><td>0</td><td>0</td><td>0</td><td>⋯</td><td> 309</td><td> 308</td><td> 310</td><td> 310</td><td> 310</td><td> 311</td><td> 312</td><td> 312</td><td> 323</td><td> 327</td></tr>\n",
              "\t<tr><td>0</td><td>0</td><td>0</td><td>0</td><td>0</td><td>0</td><td>0</td><td>0</td><td>0</td><td>0</td><td>⋯</td><td>   0</td><td>   0</td><td>   0</td><td>   0</td><td>   0</td><td>   2</td><td>   2</td><td>   2</td><td>   0</td><td>   0</td></tr>\n",
              "\t<tr><td>0</td><td>0</td><td>0</td><td>0</td><td>0</td><td>0</td><td>0</td><td>0</td><td>0</td><td>0</td><td>⋯</td><td> 111</td><td> 111</td><td> 111</td><td> 111</td><td> 111</td><td> 111</td><td> 111</td><td> 111</td><td> 111</td><td> 112</td></tr>\n",
              "\t<tr><td>0</td><td>0</td><td>0</td><td>0</td><td>0</td><td>0</td><td>0</td><td>0</td><td>0</td><td>0</td><td>⋯</td><td>  20</td><td>  21</td><td>  21</td><td>  21</td><td>  23</td><td>  23</td><td>  23</td><td>  23</td><td>  23</td><td>  23</td></tr>\n",
              "</tbody>\n",
              "</table>\n"
            ]
          },
          "metadata": {
            "tags": []
          }
        }
      ]
    },
    {
      "cell_type": "markdown",
      "metadata": {
        "id": "0kgzijT1YFp-",
        "colab_type": "text"
      },
      "source": [
        "## Convert daily cases into rows"
      ]
    },
    {
      "cell_type": "code",
      "metadata": {
        "id": "EiMOZzu3aHTk",
        "colab_type": "code",
        "colab": {
          "base_uri": "https://localhost:8080/",
          "height": 195
        },
        "outputId": "1f867e95-c3bc-47c7-ea35-360d7d9f11f3"
      },
      "source": [
        "# this is fast but awkward\n",
        "tb1 <- tb %>% select(12:length(tb[1,])) %>% as.matrix()\n",
        "tb1 = as.data.frame(t(tb1))\n",
        "head(tb1)"
      ],
      "execution_count": 121,
      "outputs": [
        {
          "output_type": "display_data",
          "data": {
            "text/plain": [
              "        V1 V2 V3 V4 V5 V6 V7 V8 V9 V10 ⋯ V3331 V3332 V3333 V3334 V3335 V3336\n",
              "1/22/20 0  0  0  0  0  0  0  0  0  0   ⋯ 0     0     0     0     0     0    \n",
              "1/23/20 0  0  0  0  0  0  0  0  0  0   ⋯ 0     0     0     0     0     0    \n",
              "1/24/20 0  0  0  0  0  0  0  0  0  0   ⋯ 0     0     0     0     0     0    \n",
              "1/25/20 0  0  0  0  0  0  0  0  0  0   ⋯ 0     0     0     0     0     0    \n",
              "1/26/20 0  0  0  0  0  0  0  0  0  0   ⋯ 0     0     0     0     0     0    \n",
              "1/27/20 0  0  0  0  0  0  0  0  0  0   ⋯ 0     0     0     0     0     0    \n",
              "        V3337 V3338 V3339 V3340\n",
              "1/22/20 0     0     0     0    \n",
              "1/23/20 0     0     0     0    \n",
              "1/24/20 0     0     0     0    \n",
              "1/25/20 0     0     0     0    \n",
              "1/26/20 0     0     0     0    \n",
              "1/27/20 0     0     0     0    "
            ],
            "text/latex": "A data.frame: 6 × 3340\n\\begin{tabular}{r|lllllllllllllllllllll}\n  & V1 & V2 & V3 & V4 & V5 & V6 & V7 & V8 & V9 & V10 & ⋯ & V3331 & V3332 & V3333 & V3334 & V3335 & V3336 & V3337 & V3338 & V3339 & V3340\\\\\n  & <dbl> & <dbl> & <dbl> & <dbl> & <dbl> & <dbl> & <dbl> & <dbl> & <dbl> & <dbl> & ⋯ & <dbl> & <dbl> & <dbl> & <dbl> & <dbl> & <dbl> & <dbl> & <dbl> & <dbl> & <dbl>\\\\\n\\hline\n\t1/22/20 & 0 & 0 & 0 & 0 & 0 & 0 & 0 & 0 & 0 & 0 & ⋯ & 0 & 0 & 0 & 0 & 0 & 0 & 0 & 0 & 0 & 0\\\\\n\t1/23/20 & 0 & 0 & 0 & 0 & 0 & 0 & 0 & 0 & 0 & 0 & ⋯ & 0 & 0 & 0 & 0 & 0 & 0 & 0 & 0 & 0 & 0\\\\\n\t1/24/20 & 0 & 0 & 0 & 0 & 0 & 0 & 0 & 0 & 0 & 0 & ⋯ & 0 & 0 & 0 & 0 & 0 & 0 & 0 & 0 & 0 & 0\\\\\n\t1/25/20 & 0 & 0 & 0 & 0 & 0 & 0 & 0 & 0 & 0 & 0 & ⋯ & 0 & 0 & 0 & 0 & 0 & 0 & 0 & 0 & 0 & 0\\\\\n\t1/26/20 & 0 & 0 & 0 & 0 & 0 & 0 & 0 & 0 & 0 & 0 & ⋯ & 0 & 0 & 0 & 0 & 0 & 0 & 0 & 0 & 0 & 0\\\\\n\t1/27/20 & 0 & 0 & 0 & 0 & 0 & 0 & 0 & 0 & 0 & 0 & ⋯ & 0 & 0 & 0 & 0 & 0 & 0 & 0 & 0 & 0 & 0\\\\\n\\end{tabular}\n",
            "text/markdown": "\nA data.frame: 6 × 3340\n\n| <!--/--> | V1 &lt;dbl&gt; | V2 &lt;dbl&gt; | V3 &lt;dbl&gt; | V4 &lt;dbl&gt; | V5 &lt;dbl&gt; | V6 &lt;dbl&gt; | V7 &lt;dbl&gt; | V8 &lt;dbl&gt; | V9 &lt;dbl&gt; | V10 &lt;dbl&gt; | ⋯ ⋯ | V3331 &lt;dbl&gt; | V3332 &lt;dbl&gt; | V3333 &lt;dbl&gt; | V3334 &lt;dbl&gt; | V3335 &lt;dbl&gt; | V3336 &lt;dbl&gt; | V3337 &lt;dbl&gt; | V3338 &lt;dbl&gt; | V3339 &lt;dbl&gt; | V3340 &lt;dbl&gt; |\n|---|---|---|---|---|---|---|---|---|---|---|---|---|---|---|---|---|---|---|---|---|---|\n| 1/22/20 | 0 | 0 | 0 | 0 | 0 | 0 | 0 | 0 | 0 | 0 | ⋯ | 0 | 0 | 0 | 0 | 0 | 0 | 0 | 0 | 0 | 0 |\n| 1/23/20 | 0 | 0 | 0 | 0 | 0 | 0 | 0 | 0 | 0 | 0 | ⋯ | 0 | 0 | 0 | 0 | 0 | 0 | 0 | 0 | 0 | 0 |\n| 1/24/20 | 0 | 0 | 0 | 0 | 0 | 0 | 0 | 0 | 0 | 0 | ⋯ | 0 | 0 | 0 | 0 | 0 | 0 | 0 | 0 | 0 | 0 |\n| 1/25/20 | 0 | 0 | 0 | 0 | 0 | 0 | 0 | 0 | 0 | 0 | ⋯ | 0 | 0 | 0 | 0 | 0 | 0 | 0 | 0 | 0 | 0 |\n| 1/26/20 | 0 | 0 | 0 | 0 | 0 | 0 | 0 | 0 | 0 | 0 | ⋯ | 0 | 0 | 0 | 0 | 0 | 0 | 0 | 0 | 0 | 0 |\n| 1/27/20 | 0 | 0 | 0 | 0 | 0 | 0 | 0 | 0 | 0 | 0 | ⋯ | 0 | 0 | 0 | 0 | 0 | 0 | 0 | 0 | 0 | 0 |\n\n",
            "text/html": [
              "<table>\n",
              "<caption>A data.frame: 6 × 3340</caption>\n",
              "<thead>\n",
              "\t<tr><th></th><th scope=col>V1</th><th scope=col>V2</th><th scope=col>V3</th><th scope=col>V4</th><th scope=col>V5</th><th scope=col>V6</th><th scope=col>V7</th><th scope=col>V8</th><th scope=col>V9</th><th scope=col>V10</th><th scope=col>⋯</th><th scope=col>V3331</th><th scope=col>V3332</th><th scope=col>V3333</th><th scope=col>V3334</th><th scope=col>V3335</th><th scope=col>V3336</th><th scope=col>V3337</th><th scope=col>V3338</th><th scope=col>V3339</th><th scope=col>V3340</th></tr>\n",
              "\t<tr><th></th><th scope=col>&lt;dbl&gt;</th><th scope=col>&lt;dbl&gt;</th><th scope=col>&lt;dbl&gt;</th><th scope=col>&lt;dbl&gt;</th><th scope=col>&lt;dbl&gt;</th><th scope=col>&lt;dbl&gt;</th><th scope=col>&lt;dbl&gt;</th><th scope=col>&lt;dbl&gt;</th><th scope=col>&lt;dbl&gt;</th><th scope=col>&lt;dbl&gt;</th><th scope=col>⋯</th><th scope=col>&lt;dbl&gt;</th><th scope=col>&lt;dbl&gt;</th><th scope=col>&lt;dbl&gt;</th><th scope=col>&lt;dbl&gt;</th><th scope=col>&lt;dbl&gt;</th><th scope=col>&lt;dbl&gt;</th><th scope=col>&lt;dbl&gt;</th><th scope=col>&lt;dbl&gt;</th><th scope=col>&lt;dbl&gt;</th><th scope=col>&lt;dbl&gt;</th></tr>\n",
              "</thead>\n",
              "<tbody>\n",
              "\t<tr><th scope=row>1/22/20</th><td>0</td><td>0</td><td>0</td><td>0</td><td>0</td><td>0</td><td>0</td><td>0</td><td>0</td><td>0</td><td>⋯</td><td>0</td><td>0</td><td>0</td><td>0</td><td>0</td><td>0</td><td>0</td><td>0</td><td>0</td><td>0</td></tr>\n",
              "\t<tr><th scope=row>1/23/20</th><td>0</td><td>0</td><td>0</td><td>0</td><td>0</td><td>0</td><td>0</td><td>0</td><td>0</td><td>0</td><td>⋯</td><td>0</td><td>0</td><td>0</td><td>0</td><td>0</td><td>0</td><td>0</td><td>0</td><td>0</td><td>0</td></tr>\n",
              "\t<tr><th scope=row>1/24/20</th><td>0</td><td>0</td><td>0</td><td>0</td><td>0</td><td>0</td><td>0</td><td>0</td><td>0</td><td>0</td><td>⋯</td><td>0</td><td>0</td><td>0</td><td>0</td><td>0</td><td>0</td><td>0</td><td>0</td><td>0</td><td>0</td></tr>\n",
              "\t<tr><th scope=row>1/25/20</th><td>0</td><td>0</td><td>0</td><td>0</td><td>0</td><td>0</td><td>0</td><td>0</td><td>0</td><td>0</td><td>⋯</td><td>0</td><td>0</td><td>0</td><td>0</td><td>0</td><td>0</td><td>0</td><td>0</td><td>0</td><td>0</td></tr>\n",
              "\t<tr><th scope=row>1/26/20</th><td>0</td><td>0</td><td>0</td><td>0</td><td>0</td><td>0</td><td>0</td><td>0</td><td>0</td><td>0</td><td>⋯</td><td>0</td><td>0</td><td>0</td><td>0</td><td>0</td><td>0</td><td>0</td><td>0</td><td>0</td><td>0</td></tr>\n",
              "\t<tr><th scope=row>1/27/20</th><td>0</td><td>0</td><td>0</td><td>0</td><td>0</td><td>0</td><td>0</td><td>0</td><td>0</td><td>0</td><td>⋯</td><td>0</td><td>0</td><td>0</td><td>0</td><td>0</td><td>0</td><td>0</td><td>0</td><td>0</td><td>0</td></tr>\n",
              "</tbody>\n",
              "</table>\n"
            ]
          },
          "metadata": {
            "tags": []
          }
        }
      ]
    },
    {
      "cell_type": "code",
      "metadata": {
        "id": "N7WXeVpBapak",
        "colab_type": "code",
        "colab": {
          "base_uri": "https://localhost:8080/",
          "height": 1000
        },
        "outputId": "25143693-ba72-4098-fef1-bed2090be002"
      },
      "source": [
        "#this is very slow due to installation\n",
        "install.packages('data.table')\n",
        "library(data.table)\n",
        "tb1b <- tb %>% select(12:length(tb[1,])) %>% transpose()\n",
        "tb1b"
      ],
      "execution_count": 117,
      "outputs": [
        {
          "output_type": "stream",
          "text": [
            "Installing package into ‘/usr/local/lib/R/site-library’\n",
            "(as ‘lib’ is unspecified)\n",
            "\n"
          ],
          "name": "stderr"
        },
        {
          "output_type": "display_data",
          "data": {
            "text/plain": [
              "    V1   V2   V3  V4  V5   V6  V7  V8   V9   V10 ⋯ V3331 V3332 V3333 V3334\n",
              "1   0    0    0   0   0    0   0   0    0    0   ⋯ 0     0     0     0    \n",
              "2   0    0    0   0   0    0   0   0    0    0   ⋯ 0     0     0     0    \n",
              "3   0    0    0   0   0    0   0   0    0    0   ⋯ 0     0     0     0    \n",
              "4   0    0    0   0   0    0   0   0    0    0   ⋯ 0     0     0     0    \n",
              "5   0    0    0   0   0    0   0   0    0    0   ⋯ 0     0     0     0    \n",
              "6   0    0    0   0   0    0   0   0    0    0   ⋯ 0     0     0     0    \n",
              "7   0    0    0   0   0    0   0   0    0    0   ⋯ 0     0     0     0    \n",
              "8   0    0    0   0   0    0   0   0    0    0   ⋯ 0     0     0     0    \n",
              "9   0    0    0   0   0    0   0   0    0    0   ⋯ 0     0     0     0    \n",
              "10  0    0    0   0   0    0   0   0    0    0   ⋯ 0     0     0     0    \n",
              "11  0    0    0   0   0    0   0   0    0    0   ⋯ 0     0     0     0    \n",
              "12  0    0    0   0   0    0   0   0    0    0   ⋯ 0     0     0     0    \n",
              "13  0    0    0   0   0    0   0   0    0    0   ⋯ 0     0     0     0    \n",
              "14  0    0    0   0   0    0   0   0    0    0   ⋯ 0     0     0     0    \n",
              "15  0    0    0   0   0    0   0   0    0    0   ⋯ 0     0     0     0    \n",
              "16  0    0    0   0   0    0   0   0    0    0   ⋯ 0     0     0     0    \n",
              "17  0    0    0   0   0    0   0   0    0    0   ⋯ 0     0     0     0    \n",
              "18  0    0    0   0   0    0   0   0    0    0   ⋯ 0     0     0     0    \n",
              "19  0    0    0   0   0    0   0   0    0    0   ⋯ 0     0     0     0    \n",
              "20  0    0    0   0   0    0   0   0    0    0   ⋯ 0     0     0     0    \n",
              "21  0    0    0   0   0    0   0   0    0    0   ⋯ 0     0     0     0    \n",
              "22  0    0    0   0   0    0   0   0    0    0   ⋯ 0     0     0     0    \n",
              "23  0    0    0   0   0    0   0   0    0    0   ⋯ 0     0     0     0    \n",
              "24  0    0    0   0   0    0   0   0    0    0   ⋯ 0     0     0     0    \n",
              "25  0    0    0   0   0    0   0   0    0    0   ⋯ 0     0     0     0    \n",
              "26  0    0    0   0   0    0   0   0    0    0   ⋯ 0     0     0     0    \n",
              "27  0    0    0   0   0    0   0   0    0    0   ⋯ 0     0     0     0    \n",
              "28  0    0    0   0   0    0   0   0    0    0   ⋯ 0     0     0     0    \n",
              "29  0    0    0   0   0    0   0   0    0    0   ⋯ 0     0     0     0    \n",
              "30  0    0    0   0   0    0   0   0    0    0   ⋯ 0     0     0     0    \n",
              "⋮   ⋮    ⋮    ⋮   ⋮   ⋮    ⋮   ⋮   ⋮    ⋮    ⋮   ⋱ ⋮     ⋮     ⋮     ⋮    \n",
              "211 1241 3931 613 490  901 522 796 2028  859 313 ⋯ 152    7    101   41   \n",
              "212 1240 3957 619 494  912 527 796 2072  861 319 ⋯ 153    7    108   41   \n",
              "213 1255 3997 622 501  930 528 802 2105  865 324 ⋯ 156    7    112   44   \n",
              "214 1264 4037 626 503  931 527 802 2134  869 330 ⋯ 156    7    113   46   \n",
              "215 1266 4069 629 510  934 527 804 2144  870 331 ⋯ 158    7    117   48   \n",
              "216 1286 4083 633 510  946 527 805 2168  870 336 ⋯ 158    7    121   48   \n",
              "217 1286 4100 628 511  967 527 804 2179  863 334 ⋯ 158    7    124   48   \n",
              "218 1281 4166 616 513  968 526 809 2215  862 331 ⋯ 160    7    127   48   \n",
              "219 1284 4199 614 515  979 527 813 2225  860 336 ⋯ 160    7    127   48   \n",
              "220 1296 4230 620 517  983 530 814 2255  863 336 ⋯ 160    7    141   48   \n",
              "221 1309 4307 624 523 1004 535 827 2316  867 341 ⋯ 159    7    147   48   \n",
              "222 1345 4402 628 533 1025 536 835 2346  868 345 ⋯ 160    7    148   48   \n",
              "223 1348 4422 628 535 1034 537 837 2377  873 346 ⋯ 164    7    149   48   \n",
              "224 1354 4445 629 538 1045 541 840 2411  874 353 ⋯ 167    7    150   48   \n",
              "225 1345 4458 617 541 1036 540 839 2413  861 354 ⋯ 170    7    154   48   \n",
              "226 1349 4495 614 542 1037 541 841 2447  850 354 ⋯ 171    7    157   49   \n",
              "227 1355 4513 616 545 1049 541 848 2503  850 362 ⋯ 172    7    170   48   \n",
              "228 1371 4542 616 550 1062 544 853 2547  853 364 ⋯ 172    7    170   48   \n",
              "229 1377 4569 616 555 1065 545 857 2558  855 365 ⋯ 172    7    175   49   \n",
              "230 1383 4586 617 557 1070 545 859 2593  857 367 ⋯ 172    7    175   49   \n",
              "231 1385 4609 617 562 1071 545 859 2602  857 367 ⋯ 173    7    180   50   \n",
              "232 1398 4639 618 564 1082 548 862 2615  858 371 ⋯ 179    7    182   51   \n",
              "233 1413 4678 618 566 1099 550 863 2652  858 376 ⋯ 182    7    191   51   \n",
              "234 1420 4722 618 574 1109 551 863 2679  862 380 ⋯ 184    9    197   53   \n",
              "235 1432 4752 620 576 1114 552 865 2728  863 392 ⋯ 187    9    199   53   \n",
              "236 1442 4781 622 578 1121 558 866 2773  863 407 ⋯ 187    9    203   54   \n",
              "237 1447 4800 626 581 1128 558 867 2790  864 407 ⋯ 186   10    210   54   \n",
              "238 1585 4978 801 610 1464 580 900 3110 1097 518 ⋯ 187   12    213   62   \n",
              "239 1619 5003 809 612 1487 583 901 3165 1107 526 ⋯ 196   16    224   65   \n",
              "240 1624 5021 809 617 1504 585 902 3211 1106 528 ⋯ 199   18    226   67   \n",
              "    V3335 V3336 V3337 V3338 V3339 V3340\n",
              "1   0     0     0     0     0     0    \n",
              "2   0     0     0     0     0     0    \n",
              "3   0     0     0     0     0     0    \n",
              "4   0     0     0     0     0     0    \n",
              "5   0     0     0     0     0     0    \n",
              "6   0     0     0     0     0     0    \n",
              "7   0     0     0     0     0     0    \n",
              "8   0     0     0     0     0     0    \n",
              "9   0     0     0     0     0     0    \n",
              "10  0     0     0     0     0     0    \n",
              "11  0     0     0     0     0     0    \n",
              "12  0     0     0     0     0     0    \n",
              "13  0     0     0     0     0     0    \n",
              "14  0     0     0     0     0     0    \n",
              "15  0     0     0     0     0     0    \n",
              "16  0     0     0     0     0     0    \n",
              "17  0     0     0     0     0     0    \n",
              "18  0     0     0     0     0     0    \n",
              "19  0     0     0     0     0     0    \n",
              "20  0     0     0     0     0     0    \n",
              "21  0     0     0     0     0     0    \n",
              "22  0     0     0     0     0     0    \n",
              "23  0     0     0     0     0     0    \n",
              "24  0     0     0     0     0     0    \n",
              "25  0     0     0     0     0     0    \n",
              "26  0     0     0     0     0     0    \n",
              "27  0     0     0     0     0     0    \n",
              "28  0     0     0     0     0     0    \n",
              "29  0     0     0     0     0     0    \n",
              "30  0     0     0     0     0     0    \n",
              "⋮   ⋮     ⋮     ⋮     ⋮     ⋮     ⋮    \n",
              "211 285   394   283    0    104   12   \n",
              "212 285   398   283    0    106    0   \n",
              "213 288   399   283    0    106   11   \n",
              "214 290   401   283    0    107   11   \n",
              "215 290   409   283    0    108   11   \n",
              "216 290   409   283    0    108   11   \n",
              "217 295   412   283    0    108   11   \n",
              "218 295   417   289    0    108   11   \n",
              "219 295   417   289   53    108   11   \n",
              "220 296   424   292   53    108   11   \n",
              "221 296   425   292   73    108   11   \n",
              "222 301   429   295   73    108   11   \n",
              "223 302   430   298   73    108   11   \n",
              "224 302   430   301   73    108   11   \n",
              "225 304   433   303    0    109   19   \n",
              "226 304   435   305    0    109   20   \n",
              "227 307   440   308    0    110   20   \n",
              "228 307   440   308    0    110   20   \n",
              "229 309   447   308    0    111   20   \n",
              "230 309   447   308    0    111   20   \n",
              "231 314   450   309    0    111   20   \n",
              "232 316   451   308    0    111   21   \n",
              "233 319   453   310    0    111   21   \n",
              "234 320   462   310    0    111   21   \n",
              "235 320   465   310    0    111   23   \n",
              "236 318   470   311    2    111   23   \n",
              "237 317   476   312    2    111   23   \n",
              "238 317   478   312    2    111   23   \n",
              "239 317   481   323    0    111   23   \n",
              "240 320   487   327    0    112   23   "
            ],
            "text/latex": "A data.frame: 240 × 3340\n\\begin{tabular}{lllllllllllllllllllll}\n V1 & V2 & V3 & V4 & V5 & V6 & V7 & V8 & V9 & V10 & ⋯ & V3331 & V3332 & V3333 & V3334 & V3335 & V3336 & V3337 & V3338 & V3339 & V3340\\\\\n <dbl> & <dbl> & <dbl> & <dbl> & <dbl> & <dbl> & <dbl> & <dbl> & <dbl> & <dbl> & ⋯ & <dbl> & <dbl> & <dbl> & <dbl> & <dbl> & <dbl> & <dbl> & <dbl> & <dbl> & <dbl>\\\\\n\\hline\n\t 0 & 0 & 0 & 0 & 0 & 0 & 0 & 0 & 0 & 0 & ⋯ & 0 & 0 & 0 & 0 & 0 & 0 & 0 & 0 & 0 & 0\\\\\n\t 0 & 0 & 0 & 0 & 0 & 0 & 0 & 0 & 0 & 0 & ⋯ & 0 & 0 & 0 & 0 & 0 & 0 & 0 & 0 & 0 & 0\\\\\n\t 0 & 0 & 0 & 0 & 0 & 0 & 0 & 0 & 0 & 0 & ⋯ & 0 & 0 & 0 & 0 & 0 & 0 & 0 & 0 & 0 & 0\\\\\n\t 0 & 0 & 0 & 0 & 0 & 0 & 0 & 0 & 0 & 0 & ⋯ & 0 & 0 & 0 & 0 & 0 & 0 & 0 & 0 & 0 & 0\\\\\n\t 0 & 0 & 0 & 0 & 0 & 0 & 0 & 0 & 0 & 0 & ⋯ & 0 & 0 & 0 & 0 & 0 & 0 & 0 & 0 & 0 & 0\\\\\n\t 0 & 0 & 0 & 0 & 0 & 0 & 0 & 0 & 0 & 0 & ⋯ & 0 & 0 & 0 & 0 & 0 & 0 & 0 & 0 & 0 & 0\\\\\n\t 0 & 0 & 0 & 0 & 0 & 0 & 0 & 0 & 0 & 0 & ⋯ & 0 & 0 & 0 & 0 & 0 & 0 & 0 & 0 & 0 & 0\\\\\n\t 0 & 0 & 0 & 0 & 0 & 0 & 0 & 0 & 0 & 0 & ⋯ & 0 & 0 & 0 & 0 & 0 & 0 & 0 & 0 & 0 & 0\\\\\n\t 0 & 0 & 0 & 0 & 0 & 0 & 0 & 0 & 0 & 0 & ⋯ & 0 & 0 & 0 & 0 & 0 & 0 & 0 & 0 & 0 & 0\\\\\n\t 0 & 0 & 0 & 0 & 0 & 0 & 0 & 0 & 0 & 0 & ⋯ & 0 & 0 & 0 & 0 & 0 & 0 & 0 & 0 & 0 & 0\\\\\n\t 0 & 0 & 0 & 0 & 0 & 0 & 0 & 0 & 0 & 0 & ⋯ & 0 & 0 & 0 & 0 & 0 & 0 & 0 & 0 & 0 & 0\\\\\n\t 0 & 0 & 0 & 0 & 0 & 0 & 0 & 0 & 0 & 0 & ⋯ & 0 & 0 & 0 & 0 & 0 & 0 & 0 & 0 & 0 & 0\\\\\n\t 0 & 0 & 0 & 0 & 0 & 0 & 0 & 0 & 0 & 0 & ⋯ & 0 & 0 & 0 & 0 & 0 & 0 & 0 & 0 & 0 & 0\\\\\n\t 0 & 0 & 0 & 0 & 0 & 0 & 0 & 0 & 0 & 0 & ⋯ & 0 & 0 & 0 & 0 & 0 & 0 & 0 & 0 & 0 & 0\\\\\n\t 0 & 0 & 0 & 0 & 0 & 0 & 0 & 0 & 0 & 0 & ⋯ & 0 & 0 & 0 & 0 & 0 & 0 & 0 & 0 & 0 & 0\\\\\n\t 0 & 0 & 0 & 0 & 0 & 0 & 0 & 0 & 0 & 0 & ⋯ & 0 & 0 & 0 & 0 & 0 & 0 & 0 & 0 & 0 & 0\\\\\n\t 0 & 0 & 0 & 0 & 0 & 0 & 0 & 0 & 0 & 0 & ⋯ & 0 & 0 & 0 & 0 & 0 & 0 & 0 & 0 & 0 & 0\\\\\n\t 0 & 0 & 0 & 0 & 0 & 0 & 0 & 0 & 0 & 0 & ⋯ & 0 & 0 & 0 & 0 & 0 & 0 & 0 & 0 & 0 & 0\\\\\n\t 0 & 0 & 0 & 0 & 0 & 0 & 0 & 0 & 0 & 0 & ⋯ & 0 & 0 & 0 & 0 & 0 & 0 & 0 & 0 & 0 & 0\\\\\n\t 0 & 0 & 0 & 0 & 0 & 0 & 0 & 0 & 0 & 0 & ⋯ & 0 & 0 & 0 & 0 & 0 & 0 & 0 & 0 & 0 & 0\\\\\n\t 0 & 0 & 0 & 0 & 0 & 0 & 0 & 0 & 0 & 0 & ⋯ & 0 & 0 & 0 & 0 & 0 & 0 & 0 & 0 & 0 & 0\\\\\n\t 0 & 0 & 0 & 0 & 0 & 0 & 0 & 0 & 0 & 0 & ⋯ & 0 & 0 & 0 & 0 & 0 & 0 & 0 & 0 & 0 & 0\\\\\n\t 0 & 0 & 0 & 0 & 0 & 0 & 0 & 0 & 0 & 0 & ⋯ & 0 & 0 & 0 & 0 & 0 & 0 & 0 & 0 & 0 & 0\\\\\n\t 0 & 0 & 0 & 0 & 0 & 0 & 0 & 0 & 0 & 0 & ⋯ & 0 & 0 & 0 & 0 & 0 & 0 & 0 & 0 & 0 & 0\\\\\n\t 0 & 0 & 0 & 0 & 0 & 0 & 0 & 0 & 0 & 0 & ⋯ & 0 & 0 & 0 & 0 & 0 & 0 & 0 & 0 & 0 & 0\\\\\n\t 0 & 0 & 0 & 0 & 0 & 0 & 0 & 0 & 0 & 0 & ⋯ & 0 & 0 & 0 & 0 & 0 & 0 & 0 & 0 & 0 & 0\\\\\n\t 0 & 0 & 0 & 0 & 0 & 0 & 0 & 0 & 0 & 0 & ⋯ & 0 & 0 & 0 & 0 & 0 & 0 & 0 & 0 & 0 & 0\\\\\n\t 0 & 0 & 0 & 0 & 0 & 0 & 0 & 0 & 0 & 0 & ⋯ & 0 & 0 & 0 & 0 & 0 & 0 & 0 & 0 & 0 & 0\\\\\n\t 0 & 0 & 0 & 0 & 0 & 0 & 0 & 0 & 0 & 0 & ⋯ & 0 & 0 & 0 & 0 & 0 & 0 & 0 & 0 & 0 & 0\\\\\n\t 0 & 0 & 0 & 0 & 0 & 0 & 0 & 0 & 0 & 0 & ⋯ & 0 & 0 & 0 & 0 & 0 & 0 & 0 & 0 & 0 & 0\\\\\n\t ⋮ & ⋮ & ⋮ & ⋮ & ⋮ & ⋮ & ⋮ & ⋮ & ⋮ & ⋮ & ⋱ & ⋮ & ⋮ & ⋮ & ⋮ & ⋮ & ⋮ & ⋮ & ⋮ & ⋮ & ⋮\\\\\n\t 1241 & 3931 & 613 & 490 &  901 & 522 & 796 & 2028 &  859 & 313 & ⋯ & 152 &  7 & 101 & 41 & 285 & 394 & 283 &  0 & 104 & 12\\\\\n\t 1240 & 3957 & 619 & 494 &  912 & 527 & 796 & 2072 &  861 & 319 & ⋯ & 153 &  7 & 108 & 41 & 285 & 398 & 283 &  0 & 106 &  0\\\\\n\t 1255 & 3997 & 622 & 501 &  930 & 528 & 802 & 2105 &  865 & 324 & ⋯ & 156 &  7 & 112 & 44 & 288 & 399 & 283 &  0 & 106 & 11\\\\\n\t 1264 & 4037 & 626 & 503 &  931 & 527 & 802 & 2134 &  869 & 330 & ⋯ & 156 &  7 & 113 & 46 & 290 & 401 & 283 &  0 & 107 & 11\\\\\n\t 1266 & 4069 & 629 & 510 &  934 & 527 & 804 & 2144 &  870 & 331 & ⋯ & 158 &  7 & 117 & 48 & 290 & 409 & 283 &  0 & 108 & 11\\\\\n\t 1286 & 4083 & 633 & 510 &  946 & 527 & 805 & 2168 &  870 & 336 & ⋯ & 158 &  7 & 121 & 48 & 290 & 409 & 283 &  0 & 108 & 11\\\\\n\t 1286 & 4100 & 628 & 511 &  967 & 527 & 804 & 2179 &  863 & 334 & ⋯ & 158 &  7 & 124 & 48 & 295 & 412 & 283 &  0 & 108 & 11\\\\\n\t 1281 & 4166 & 616 & 513 &  968 & 526 & 809 & 2215 &  862 & 331 & ⋯ & 160 &  7 & 127 & 48 & 295 & 417 & 289 &  0 & 108 & 11\\\\\n\t 1284 & 4199 & 614 & 515 &  979 & 527 & 813 & 2225 &  860 & 336 & ⋯ & 160 &  7 & 127 & 48 & 295 & 417 & 289 & 53 & 108 & 11\\\\\n\t 1296 & 4230 & 620 & 517 &  983 & 530 & 814 & 2255 &  863 & 336 & ⋯ & 160 &  7 & 141 & 48 & 296 & 424 & 292 & 53 & 108 & 11\\\\\n\t 1309 & 4307 & 624 & 523 & 1004 & 535 & 827 & 2316 &  867 & 341 & ⋯ & 159 &  7 & 147 & 48 & 296 & 425 & 292 & 73 & 108 & 11\\\\\n\t 1345 & 4402 & 628 & 533 & 1025 & 536 & 835 & 2346 &  868 & 345 & ⋯ & 160 &  7 & 148 & 48 & 301 & 429 & 295 & 73 & 108 & 11\\\\\n\t 1348 & 4422 & 628 & 535 & 1034 & 537 & 837 & 2377 &  873 & 346 & ⋯ & 164 &  7 & 149 & 48 & 302 & 430 & 298 & 73 & 108 & 11\\\\\n\t 1354 & 4445 & 629 & 538 & 1045 & 541 & 840 & 2411 &  874 & 353 & ⋯ & 167 &  7 & 150 & 48 & 302 & 430 & 301 & 73 & 108 & 11\\\\\n\t 1345 & 4458 & 617 & 541 & 1036 & 540 & 839 & 2413 &  861 & 354 & ⋯ & 170 &  7 & 154 & 48 & 304 & 433 & 303 &  0 & 109 & 19\\\\\n\t 1349 & 4495 & 614 & 542 & 1037 & 541 & 841 & 2447 &  850 & 354 & ⋯ & 171 &  7 & 157 & 49 & 304 & 435 & 305 &  0 & 109 & 20\\\\\n\t 1355 & 4513 & 616 & 545 & 1049 & 541 & 848 & 2503 &  850 & 362 & ⋯ & 172 &  7 & 170 & 48 & 307 & 440 & 308 &  0 & 110 & 20\\\\\n\t 1371 & 4542 & 616 & 550 & 1062 & 544 & 853 & 2547 &  853 & 364 & ⋯ & 172 &  7 & 170 & 48 & 307 & 440 & 308 &  0 & 110 & 20\\\\\n\t 1377 & 4569 & 616 & 555 & 1065 & 545 & 857 & 2558 &  855 & 365 & ⋯ & 172 &  7 & 175 & 49 & 309 & 447 & 308 &  0 & 111 & 20\\\\\n\t 1383 & 4586 & 617 & 557 & 1070 & 545 & 859 & 2593 &  857 & 367 & ⋯ & 172 &  7 & 175 & 49 & 309 & 447 & 308 &  0 & 111 & 20\\\\\n\t 1385 & 4609 & 617 & 562 & 1071 & 545 & 859 & 2602 &  857 & 367 & ⋯ & 173 &  7 & 180 & 50 & 314 & 450 & 309 &  0 & 111 & 20\\\\\n\t 1398 & 4639 & 618 & 564 & 1082 & 548 & 862 & 2615 &  858 & 371 & ⋯ & 179 &  7 & 182 & 51 & 316 & 451 & 308 &  0 & 111 & 21\\\\\n\t 1413 & 4678 & 618 & 566 & 1099 & 550 & 863 & 2652 &  858 & 376 & ⋯ & 182 &  7 & 191 & 51 & 319 & 453 & 310 &  0 & 111 & 21\\\\\n\t 1420 & 4722 & 618 & 574 & 1109 & 551 & 863 & 2679 &  862 & 380 & ⋯ & 184 &  9 & 197 & 53 & 320 & 462 & 310 &  0 & 111 & 21\\\\\n\t 1432 & 4752 & 620 & 576 & 1114 & 552 & 865 & 2728 &  863 & 392 & ⋯ & 187 &  9 & 199 & 53 & 320 & 465 & 310 &  0 & 111 & 23\\\\\n\t 1442 & 4781 & 622 & 578 & 1121 & 558 & 866 & 2773 &  863 & 407 & ⋯ & 187 &  9 & 203 & 54 & 318 & 470 & 311 &  2 & 111 & 23\\\\\n\t 1447 & 4800 & 626 & 581 & 1128 & 558 & 867 & 2790 &  864 & 407 & ⋯ & 186 & 10 & 210 & 54 & 317 & 476 & 312 &  2 & 111 & 23\\\\\n\t 1585 & 4978 & 801 & 610 & 1464 & 580 & 900 & 3110 & 1097 & 518 & ⋯ & 187 & 12 & 213 & 62 & 317 & 478 & 312 &  2 & 111 & 23\\\\\n\t 1619 & 5003 & 809 & 612 & 1487 & 583 & 901 & 3165 & 1107 & 526 & ⋯ & 196 & 16 & 224 & 65 & 317 & 481 & 323 &  0 & 111 & 23\\\\\n\t 1624 & 5021 & 809 & 617 & 1504 & 585 & 902 & 3211 & 1106 & 528 & ⋯ & 199 & 18 & 226 & 67 & 320 & 487 & 327 &  0 & 112 & 23\\\\\n\\end{tabular}\n",
            "text/markdown": "\nA data.frame: 240 × 3340\n\n| V1 &lt;dbl&gt; | V2 &lt;dbl&gt; | V3 &lt;dbl&gt; | V4 &lt;dbl&gt; | V5 &lt;dbl&gt; | V6 &lt;dbl&gt; | V7 &lt;dbl&gt; | V8 &lt;dbl&gt; | V9 &lt;dbl&gt; | V10 &lt;dbl&gt; | ⋯ ⋯ | V3331 &lt;dbl&gt; | V3332 &lt;dbl&gt; | V3333 &lt;dbl&gt; | V3334 &lt;dbl&gt; | V3335 &lt;dbl&gt; | V3336 &lt;dbl&gt; | V3337 &lt;dbl&gt; | V3338 &lt;dbl&gt; | V3339 &lt;dbl&gt; | V3340 &lt;dbl&gt; |\n|---|---|---|---|---|---|---|---|---|---|---|---|---|---|---|---|---|---|---|---|---|\n| 0 | 0 | 0 | 0 | 0 | 0 | 0 | 0 | 0 | 0 | ⋯ | 0 | 0 | 0 | 0 | 0 | 0 | 0 | 0 | 0 | 0 |\n| 0 | 0 | 0 | 0 | 0 | 0 | 0 | 0 | 0 | 0 | ⋯ | 0 | 0 | 0 | 0 | 0 | 0 | 0 | 0 | 0 | 0 |\n| 0 | 0 | 0 | 0 | 0 | 0 | 0 | 0 | 0 | 0 | ⋯ | 0 | 0 | 0 | 0 | 0 | 0 | 0 | 0 | 0 | 0 |\n| 0 | 0 | 0 | 0 | 0 | 0 | 0 | 0 | 0 | 0 | ⋯ | 0 | 0 | 0 | 0 | 0 | 0 | 0 | 0 | 0 | 0 |\n| 0 | 0 | 0 | 0 | 0 | 0 | 0 | 0 | 0 | 0 | ⋯ | 0 | 0 | 0 | 0 | 0 | 0 | 0 | 0 | 0 | 0 |\n| 0 | 0 | 0 | 0 | 0 | 0 | 0 | 0 | 0 | 0 | ⋯ | 0 | 0 | 0 | 0 | 0 | 0 | 0 | 0 | 0 | 0 |\n| 0 | 0 | 0 | 0 | 0 | 0 | 0 | 0 | 0 | 0 | ⋯ | 0 | 0 | 0 | 0 | 0 | 0 | 0 | 0 | 0 | 0 |\n| 0 | 0 | 0 | 0 | 0 | 0 | 0 | 0 | 0 | 0 | ⋯ | 0 | 0 | 0 | 0 | 0 | 0 | 0 | 0 | 0 | 0 |\n| 0 | 0 | 0 | 0 | 0 | 0 | 0 | 0 | 0 | 0 | ⋯ | 0 | 0 | 0 | 0 | 0 | 0 | 0 | 0 | 0 | 0 |\n| 0 | 0 | 0 | 0 | 0 | 0 | 0 | 0 | 0 | 0 | ⋯ | 0 | 0 | 0 | 0 | 0 | 0 | 0 | 0 | 0 | 0 |\n| 0 | 0 | 0 | 0 | 0 | 0 | 0 | 0 | 0 | 0 | ⋯ | 0 | 0 | 0 | 0 | 0 | 0 | 0 | 0 | 0 | 0 |\n| 0 | 0 | 0 | 0 | 0 | 0 | 0 | 0 | 0 | 0 | ⋯ | 0 | 0 | 0 | 0 | 0 | 0 | 0 | 0 | 0 | 0 |\n| 0 | 0 | 0 | 0 | 0 | 0 | 0 | 0 | 0 | 0 | ⋯ | 0 | 0 | 0 | 0 | 0 | 0 | 0 | 0 | 0 | 0 |\n| 0 | 0 | 0 | 0 | 0 | 0 | 0 | 0 | 0 | 0 | ⋯ | 0 | 0 | 0 | 0 | 0 | 0 | 0 | 0 | 0 | 0 |\n| 0 | 0 | 0 | 0 | 0 | 0 | 0 | 0 | 0 | 0 | ⋯ | 0 | 0 | 0 | 0 | 0 | 0 | 0 | 0 | 0 | 0 |\n| 0 | 0 | 0 | 0 | 0 | 0 | 0 | 0 | 0 | 0 | ⋯ | 0 | 0 | 0 | 0 | 0 | 0 | 0 | 0 | 0 | 0 |\n| 0 | 0 | 0 | 0 | 0 | 0 | 0 | 0 | 0 | 0 | ⋯ | 0 | 0 | 0 | 0 | 0 | 0 | 0 | 0 | 0 | 0 |\n| 0 | 0 | 0 | 0 | 0 | 0 | 0 | 0 | 0 | 0 | ⋯ | 0 | 0 | 0 | 0 | 0 | 0 | 0 | 0 | 0 | 0 |\n| 0 | 0 | 0 | 0 | 0 | 0 | 0 | 0 | 0 | 0 | ⋯ | 0 | 0 | 0 | 0 | 0 | 0 | 0 | 0 | 0 | 0 |\n| 0 | 0 | 0 | 0 | 0 | 0 | 0 | 0 | 0 | 0 | ⋯ | 0 | 0 | 0 | 0 | 0 | 0 | 0 | 0 | 0 | 0 |\n| 0 | 0 | 0 | 0 | 0 | 0 | 0 | 0 | 0 | 0 | ⋯ | 0 | 0 | 0 | 0 | 0 | 0 | 0 | 0 | 0 | 0 |\n| 0 | 0 | 0 | 0 | 0 | 0 | 0 | 0 | 0 | 0 | ⋯ | 0 | 0 | 0 | 0 | 0 | 0 | 0 | 0 | 0 | 0 |\n| 0 | 0 | 0 | 0 | 0 | 0 | 0 | 0 | 0 | 0 | ⋯ | 0 | 0 | 0 | 0 | 0 | 0 | 0 | 0 | 0 | 0 |\n| 0 | 0 | 0 | 0 | 0 | 0 | 0 | 0 | 0 | 0 | ⋯ | 0 | 0 | 0 | 0 | 0 | 0 | 0 | 0 | 0 | 0 |\n| 0 | 0 | 0 | 0 | 0 | 0 | 0 | 0 | 0 | 0 | ⋯ | 0 | 0 | 0 | 0 | 0 | 0 | 0 | 0 | 0 | 0 |\n| 0 | 0 | 0 | 0 | 0 | 0 | 0 | 0 | 0 | 0 | ⋯ | 0 | 0 | 0 | 0 | 0 | 0 | 0 | 0 | 0 | 0 |\n| 0 | 0 | 0 | 0 | 0 | 0 | 0 | 0 | 0 | 0 | ⋯ | 0 | 0 | 0 | 0 | 0 | 0 | 0 | 0 | 0 | 0 |\n| 0 | 0 | 0 | 0 | 0 | 0 | 0 | 0 | 0 | 0 | ⋯ | 0 | 0 | 0 | 0 | 0 | 0 | 0 | 0 | 0 | 0 |\n| 0 | 0 | 0 | 0 | 0 | 0 | 0 | 0 | 0 | 0 | ⋯ | 0 | 0 | 0 | 0 | 0 | 0 | 0 | 0 | 0 | 0 |\n| 0 | 0 | 0 | 0 | 0 | 0 | 0 | 0 | 0 | 0 | ⋯ | 0 | 0 | 0 | 0 | 0 | 0 | 0 | 0 | 0 | 0 |\n| ⋮ | ⋮ | ⋮ | ⋮ | ⋮ | ⋮ | ⋮ | ⋮ | ⋮ | ⋮ | ⋱ | ⋮ | ⋮ | ⋮ | ⋮ | ⋮ | ⋮ | ⋮ | ⋮ | ⋮ | ⋮ |\n| 1241 | 3931 | 613 | 490 |  901 | 522 | 796 | 2028 |  859 | 313 | ⋯ | 152 |  7 | 101 | 41 | 285 | 394 | 283 |  0 | 104 | 12 |\n| 1240 | 3957 | 619 | 494 |  912 | 527 | 796 | 2072 |  861 | 319 | ⋯ | 153 |  7 | 108 | 41 | 285 | 398 | 283 |  0 | 106 |  0 |\n| 1255 | 3997 | 622 | 501 |  930 | 528 | 802 | 2105 |  865 | 324 | ⋯ | 156 |  7 | 112 | 44 | 288 | 399 | 283 |  0 | 106 | 11 |\n| 1264 | 4037 | 626 | 503 |  931 | 527 | 802 | 2134 |  869 | 330 | ⋯ | 156 |  7 | 113 | 46 | 290 | 401 | 283 |  0 | 107 | 11 |\n| 1266 | 4069 | 629 | 510 |  934 | 527 | 804 | 2144 |  870 | 331 | ⋯ | 158 |  7 | 117 | 48 | 290 | 409 | 283 |  0 | 108 | 11 |\n| 1286 | 4083 | 633 | 510 |  946 | 527 | 805 | 2168 |  870 | 336 | ⋯ | 158 |  7 | 121 | 48 | 290 | 409 | 283 |  0 | 108 | 11 |\n| 1286 | 4100 | 628 | 511 |  967 | 527 | 804 | 2179 |  863 | 334 | ⋯ | 158 |  7 | 124 | 48 | 295 | 412 | 283 |  0 | 108 | 11 |\n| 1281 | 4166 | 616 | 513 |  968 | 526 | 809 | 2215 |  862 | 331 | ⋯ | 160 |  7 | 127 | 48 | 295 | 417 | 289 |  0 | 108 | 11 |\n| 1284 | 4199 | 614 | 515 |  979 | 527 | 813 | 2225 |  860 | 336 | ⋯ | 160 |  7 | 127 | 48 | 295 | 417 | 289 | 53 | 108 | 11 |\n| 1296 | 4230 | 620 | 517 |  983 | 530 | 814 | 2255 |  863 | 336 | ⋯ | 160 |  7 | 141 | 48 | 296 | 424 | 292 | 53 | 108 | 11 |\n| 1309 | 4307 | 624 | 523 | 1004 | 535 | 827 | 2316 |  867 | 341 | ⋯ | 159 |  7 | 147 | 48 | 296 | 425 | 292 | 73 | 108 | 11 |\n| 1345 | 4402 | 628 | 533 | 1025 | 536 | 835 | 2346 |  868 | 345 | ⋯ | 160 |  7 | 148 | 48 | 301 | 429 | 295 | 73 | 108 | 11 |\n| 1348 | 4422 | 628 | 535 | 1034 | 537 | 837 | 2377 |  873 | 346 | ⋯ | 164 |  7 | 149 | 48 | 302 | 430 | 298 | 73 | 108 | 11 |\n| 1354 | 4445 | 629 | 538 | 1045 | 541 | 840 | 2411 |  874 | 353 | ⋯ | 167 |  7 | 150 | 48 | 302 | 430 | 301 | 73 | 108 | 11 |\n| 1345 | 4458 | 617 | 541 | 1036 | 540 | 839 | 2413 |  861 | 354 | ⋯ | 170 |  7 | 154 | 48 | 304 | 433 | 303 |  0 | 109 | 19 |\n| 1349 | 4495 | 614 | 542 | 1037 | 541 | 841 | 2447 |  850 | 354 | ⋯ | 171 |  7 | 157 | 49 | 304 | 435 | 305 |  0 | 109 | 20 |\n| 1355 | 4513 | 616 | 545 | 1049 | 541 | 848 | 2503 |  850 | 362 | ⋯ | 172 |  7 | 170 | 48 | 307 | 440 | 308 |  0 | 110 | 20 |\n| 1371 | 4542 | 616 | 550 | 1062 | 544 | 853 | 2547 |  853 | 364 | ⋯ | 172 |  7 | 170 | 48 | 307 | 440 | 308 |  0 | 110 | 20 |\n| 1377 | 4569 | 616 | 555 | 1065 | 545 | 857 | 2558 |  855 | 365 | ⋯ | 172 |  7 | 175 | 49 | 309 | 447 | 308 |  0 | 111 | 20 |\n| 1383 | 4586 | 617 | 557 | 1070 | 545 | 859 | 2593 |  857 | 367 | ⋯ | 172 |  7 | 175 | 49 | 309 | 447 | 308 |  0 | 111 | 20 |\n| 1385 | 4609 | 617 | 562 | 1071 | 545 | 859 | 2602 |  857 | 367 | ⋯ | 173 |  7 | 180 | 50 | 314 | 450 | 309 |  0 | 111 | 20 |\n| 1398 | 4639 | 618 | 564 | 1082 | 548 | 862 | 2615 |  858 | 371 | ⋯ | 179 |  7 | 182 | 51 | 316 | 451 | 308 |  0 | 111 | 21 |\n| 1413 | 4678 | 618 | 566 | 1099 | 550 | 863 | 2652 |  858 | 376 | ⋯ | 182 |  7 | 191 | 51 | 319 | 453 | 310 |  0 | 111 | 21 |\n| 1420 | 4722 | 618 | 574 | 1109 | 551 | 863 | 2679 |  862 | 380 | ⋯ | 184 |  9 | 197 | 53 | 320 | 462 | 310 |  0 | 111 | 21 |\n| 1432 | 4752 | 620 | 576 | 1114 | 552 | 865 | 2728 |  863 | 392 | ⋯ | 187 |  9 | 199 | 53 | 320 | 465 | 310 |  0 | 111 | 23 |\n| 1442 | 4781 | 622 | 578 | 1121 | 558 | 866 | 2773 |  863 | 407 | ⋯ | 187 |  9 | 203 | 54 | 318 | 470 | 311 |  2 | 111 | 23 |\n| 1447 | 4800 | 626 | 581 | 1128 | 558 | 867 | 2790 |  864 | 407 | ⋯ | 186 | 10 | 210 | 54 | 317 | 476 | 312 |  2 | 111 | 23 |\n| 1585 | 4978 | 801 | 610 | 1464 | 580 | 900 | 3110 | 1097 | 518 | ⋯ | 187 | 12 | 213 | 62 | 317 | 478 | 312 |  2 | 111 | 23 |\n| 1619 | 5003 | 809 | 612 | 1487 | 583 | 901 | 3165 | 1107 | 526 | ⋯ | 196 | 16 | 224 | 65 | 317 | 481 | 323 |  0 | 111 | 23 |\n| 1624 | 5021 | 809 | 617 | 1504 | 585 | 902 | 3211 | 1106 | 528 | ⋯ | 199 | 18 | 226 | 67 | 320 | 487 | 327 |  0 | 112 | 23 |\n\n",
            "text/html": [
              "<table>\n",
              "<caption>A data.frame: 240 × 3340</caption>\n",
              "<thead>\n",
              "\t<tr><th scope=col>V1</th><th scope=col>V2</th><th scope=col>V3</th><th scope=col>V4</th><th scope=col>V5</th><th scope=col>V6</th><th scope=col>V7</th><th scope=col>V8</th><th scope=col>V9</th><th scope=col>V10</th><th scope=col>⋯</th><th scope=col>V3331</th><th scope=col>V3332</th><th scope=col>V3333</th><th scope=col>V3334</th><th scope=col>V3335</th><th scope=col>V3336</th><th scope=col>V3337</th><th scope=col>V3338</th><th scope=col>V3339</th><th scope=col>V3340</th></tr>\n",
              "\t<tr><th scope=col>&lt;dbl&gt;</th><th scope=col>&lt;dbl&gt;</th><th scope=col>&lt;dbl&gt;</th><th scope=col>&lt;dbl&gt;</th><th scope=col>&lt;dbl&gt;</th><th scope=col>&lt;dbl&gt;</th><th scope=col>&lt;dbl&gt;</th><th scope=col>&lt;dbl&gt;</th><th scope=col>&lt;dbl&gt;</th><th scope=col>&lt;dbl&gt;</th><th scope=col>⋯</th><th scope=col>&lt;dbl&gt;</th><th scope=col>&lt;dbl&gt;</th><th scope=col>&lt;dbl&gt;</th><th scope=col>&lt;dbl&gt;</th><th scope=col>&lt;dbl&gt;</th><th scope=col>&lt;dbl&gt;</th><th scope=col>&lt;dbl&gt;</th><th scope=col>&lt;dbl&gt;</th><th scope=col>&lt;dbl&gt;</th><th scope=col>&lt;dbl&gt;</th></tr>\n",
              "</thead>\n",
              "<tbody>\n",
              "\t<tr><td>0</td><td>0</td><td>0</td><td>0</td><td>0</td><td>0</td><td>0</td><td>0</td><td>0</td><td>0</td><td>⋯</td><td>0</td><td>0</td><td>0</td><td>0</td><td>0</td><td>0</td><td>0</td><td>0</td><td>0</td><td>0</td></tr>\n",
              "\t<tr><td>0</td><td>0</td><td>0</td><td>0</td><td>0</td><td>0</td><td>0</td><td>0</td><td>0</td><td>0</td><td>⋯</td><td>0</td><td>0</td><td>0</td><td>0</td><td>0</td><td>0</td><td>0</td><td>0</td><td>0</td><td>0</td></tr>\n",
              "\t<tr><td>0</td><td>0</td><td>0</td><td>0</td><td>0</td><td>0</td><td>0</td><td>0</td><td>0</td><td>0</td><td>⋯</td><td>0</td><td>0</td><td>0</td><td>0</td><td>0</td><td>0</td><td>0</td><td>0</td><td>0</td><td>0</td></tr>\n",
              "\t<tr><td>0</td><td>0</td><td>0</td><td>0</td><td>0</td><td>0</td><td>0</td><td>0</td><td>0</td><td>0</td><td>⋯</td><td>0</td><td>0</td><td>0</td><td>0</td><td>0</td><td>0</td><td>0</td><td>0</td><td>0</td><td>0</td></tr>\n",
              "\t<tr><td>0</td><td>0</td><td>0</td><td>0</td><td>0</td><td>0</td><td>0</td><td>0</td><td>0</td><td>0</td><td>⋯</td><td>0</td><td>0</td><td>0</td><td>0</td><td>0</td><td>0</td><td>0</td><td>0</td><td>0</td><td>0</td></tr>\n",
              "\t<tr><td>0</td><td>0</td><td>0</td><td>0</td><td>0</td><td>0</td><td>0</td><td>0</td><td>0</td><td>0</td><td>⋯</td><td>0</td><td>0</td><td>0</td><td>0</td><td>0</td><td>0</td><td>0</td><td>0</td><td>0</td><td>0</td></tr>\n",
              "\t<tr><td>0</td><td>0</td><td>0</td><td>0</td><td>0</td><td>0</td><td>0</td><td>0</td><td>0</td><td>0</td><td>⋯</td><td>0</td><td>0</td><td>0</td><td>0</td><td>0</td><td>0</td><td>0</td><td>0</td><td>0</td><td>0</td></tr>\n",
              "\t<tr><td>0</td><td>0</td><td>0</td><td>0</td><td>0</td><td>0</td><td>0</td><td>0</td><td>0</td><td>0</td><td>⋯</td><td>0</td><td>0</td><td>0</td><td>0</td><td>0</td><td>0</td><td>0</td><td>0</td><td>0</td><td>0</td></tr>\n",
              "\t<tr><td>0</td><td>0</td><td>0</td><td>0</td><td>0</td><td>0</td><td>0</td><td>0</td><td>0</td><td>0</td><td>⋯</td><td>0</td><td>0</td><td>0</td><td>0</td><td>0</td><td>0</td><td>0</td><td>0</td><td>0</td><td>0</td></tr>\n",
              "\t<tr><td>0</td><td>0</td><td>0</td><td>0</td><td>0</td><td>0</td><td>0</td><td>0</td><td>0</td><td>0</td><td>⋯</td><td>0</td><td>0</td><td>0</td><td>0</td><td>0</td><td>0</td><td>0</td><td>0</td><td>0</td><td>0</td></tr>\n",
              "\t<tr><td>0</td><td>0</td><td>0</td><td>0</td><td>0</td><td>0</td><td>0</td><td>0</td><td>0</td><td>0</td><td>⋯</td><td>0</td><td>0</td><td>0</td><td>0</td><td>0</td><td>0</td><td>0</td><td>0</td><td>0</td><td>0</td></tr>\n",
              "\t<tr><td>0</td><td>0</td><td>0</td><td>0</td><td>0</td><td>0</td><td>0</td><td>0</td><td>0</td><td>0</td><td>⋯</td><td>0</td><td>0</td><td>0</td><td>0</td><td>0</td><td>0</td><td>0</td><td>0</td><td>0</td><td>0</td></tr>\n",
              "\t<tr><td>0</td><td>0</td><td>0</td><td>0</td><td>0</td><td>0</td><td>0</td><td>0</td><td>0</td><td>0</td><td>⋯</td><td>0</td><td>0</td><td>0</td><td>0</td><td>0</td><td>0</td><td>0</td><td>0</td><td>0</td><td>0</td></tr>\n",
              "\t<tr><td>0</td><td>0</td><td>0</td><td>0</td><td>0</td><td>0</td><td>0</td><td>0</td><td>0</td><td>0</td><td>⋯</td><td>0</td><td>0</td><td>0</td><td>0</td><td>0</td><td>0</td><td>0</td><td>0</td><td>0</td><td>0</td></tr>\n",
              "\t<tr><td>0</td><td>0</td><td>0</td><td>0</td><td>0</td><td>0</td><td>0</td><td>0</td><td>0</td><td>0</td><td>⋯</td><td>0</td><td>0</td><td>0</td><td>0</td><td>0</td><td>0</td><td>0</td><td>0</td><td>0</td><td>0</td></tr>\n",
              "\t<tr><td>0</td><td>0</td><td>0</td><td>0</td><td>0</td><td>0</td><td>0</td><td>0</td><td>0</td><td>0</td><td>⋯</td><td>0</td><td>0</td><td>0</td><td>0</td><td>0</td><td>0</td><td>0</td><td>0</td><td>0</td><td>0</td></tr>\n",
              "\t<tr><td>0</td><td>0</td><td>0</td><td>0</td><td>0</td><td>0</td><td>0</td><td>0</td><td>0</td><td>0</td><td>⋯</td><td>0</td><td>0</td><td>0</td><td>0</td><td>0</td><td>0</td><td>0</td><td>0</td><td>0</td><td>0</td></tr>\n",
              "\t<tr><td>0</td><td>0</td><td>0</td><td>0</td><td>0</td><td>0</td><td>0</td><td>0</td><td>0</td><td>0</td><td>⋯</td><td>0</td><td>0</td><td>0</td><td>0</td><td>0</td><td>0</td><td>0</td><td>0</td><td>0</td><td>0</td></tr>\n",
              "\t<tr><td>0</td><td>0</td><td>0</td><td>0</td><td>0</td><td>0</td><td>0</td><td>0</td><td>0</td><td>0</td><td>⋯</td><td>0</td><td>0</td><td>0</td><td>0</td><td>0</td><td>0</td><td>0</td><td>0</td><td>0</td><td>0</td></tr>\n",
              "\t<tr><td>0</td><td>0</td><td>0</td><td>0</td><td>0</td><td>0</td><td>0</td><td>0</td><td>0</td><td>0</td><td>⋯</td><td>0</td><td>0</td><td>0</td><td>0</td><td>0</td><td>0</td><td>0</td><td>0</td><td>0</td><td>0</td></tr>\n",
              "\t<tr><td>0</td><td>0</td><td>0</td><td>0</td><td>0</td><td>0</td><td>0</td><td>0</td><td>0</td><td>0</td><td>⋯</td><td>0</td><td>0</td><td>0</td><td>0</td><td>0</td><td>0</td><td>0</td><td>0</td><td>0</td><td>0</td></tr>\n",
              "\t<tr><td>0</td><td>0</td><td>0</td><td>0</td><td>0</td><td>0</td><td>0</td><td>0</td><td>0</td><td>0</td><td>⋯</td><td>0</td><td>0</td><td>0</td><td>0</td><td>0</td><td>0</td><td>0</td><td>0</td><td>0</td><td>0</td></tr>\n",
              "\t<tr><td>0</td><td>0</td><td>0</td><td>0</td><td>0</td><td>0</td><td>0</td><td>0</td><td>0</td><td>0</td><td>⋯</td><td>0</td><td>0</td><td>0</td><td>0</td><td>0</td><td>0</td><td>0</td><td>0</td><td>0</td><td>0</td></tr>\n",
              "\t<tr><td>0</td><td>0</td><td>0</td><td>0</td><td>0</td><td>0</td><td>0</td><td>0</td><td>0</td><td>0</td><td>⋯</td><td>0</td><td>0</td><td>0</td><td>0</td><td>0</td><td>0</td><td>0</td><td>0</td><td>0</td><td>0</td></tr>\n",
              "\t<tr><td>0</td><td>0</td><td>0</td><td>0</td><td>0</td><td>0</td><td>0</td><td>0</td><td>0</td><td>0</td><td>⋯</td><td>0</td><td>0</td><td>0</td><td>0</td><td>0</td><td>0</td><td>0</td><td>0</td><td>0</td><td>0</td></tr>\n",
              "\t<tr><td>0</td><td>0</td><td>0</td><td>0</td><td>0</td><td>0</td><td>0</td><td>0</td><td>0</td><td>0</td><td>⋯</td><td>0</td><td>0</td><td>0</td><td>0</td><td>0</td><td>0</td><td>0</td><td>0</td><td>0</td><td>0</td></tr>\n",
              "\t<tr><td>0</td><td>0</td><td>0</td><td>0</td><td>0</td><td>0</td><td>0</td><td>0</td><td>0</td><td>0</td><td>⋯</td><td>0</td><td>0</td><td>0</td><td>0</td><td>0</td><td>0</td><td>0</td><td>0</td><td>0</td><td>0</td></tr>\n",
              "\t<tr><td>0</td><td>0</td><td>0</td><td>0</td><td>0</td><td>0</td><td>0</td><td>0</td><td>0</td><td>0</td><td>⋯</td><td>0</td><td>0</td><td>0</td><td>0</td><td>0</td><td>0</td><td>0</td><td>0</td><td>0</td><td>0</td></tr>\n",
              "\t<tr><td>0</td><td>0</td><td>0</td><td>0</td><td>0</td><td>0</td><td>0</td><td>0</td><td>0</td><td>0</td><td>⋯</td><td>0</td><td>0</td><td>0</td><td>0</td><td>0</td><td>0</td><td>0</td><td>0</td><td>0</td><td>0</td></tr>\n",
              "\t<tr><td>0</td><td>0</td><td>0</td><td>0</td><td>0</td><td>0</td><td>0</td><td>0</td><td>0</td><td>0</td><td>⋯</td><td>0</td><td>0</td><td>0</td><td>0</td><td>0</td><td>0</td><td>0</td><td>0</td><td>0</td><td>0</td></tr>\n",
              "\t<tr><td>⋮</td><td>⋮</td><td>⋮</td><td>⋮</td><td>⋮</td><td>⋮</td><td>⋮</td><td>⋮</td><td>⋮</td><td>⋮</td><td>⋱</td><td>⋮</td><td>⋮</td><td>⋮</td><td>⋮</td><td>⋮</td><td>⋮</td><td>⋮</td><td>⋮</td><td>⋮</td><td>⋮</td></tr>\n",
              "\t<tr><td>1241</td><td>3931</td><td>613</td><td>490</td><td> 901</td><td>522</td><td>796</td><td>2028</td><td> 859</td><td>313</td><td>⋯</td><td>152</td><td> 7</td><td>101</td><td>41</td><td>285</td><td>394</td><td>283</td><td> 0</td><td>104</td><td>12</td></tr>\n",
              "\t<tr><td>1240</td><td>3957</td><td>619</td><td>494</td><td> 912</td><td>527</td><td>796</td><td>2072</td><td> 861</td><td>319</td><td>⋯</td><td>153</td><td> 7</td><td>108</td><td>41</td><td>285</td><td>398</td><td>283</td><td> 0</td><td>106</td><td> 0</td></tr>\n",
              "\t<tr><td>1255</td><td>3997</td><td>622</td><td>501</td><td> 930</td><td>528</td><td>802</td><td>2105</td><td> 865</td><td>324</td><td>⋯</td><td>156</td><td> 7</td><td>112</td><td>44</td><td>288</td><td>399</td><td>283</td><td> 0</td><td>106</td><td>11</td></tr>\n",
              "\t<tr><td>1264</td><td>4037</td><td>626</td><td>503</td><td> 931</td><td>527</td><td>802</td><td>2134</td><td> 869</td><td>330</td><td>⋯</td><td>156</td><td> 7</td><td>113</td><td>46</td><td>290</td><td>401</td><td>283</td><td> 0</td><td>107</td><td>11</td></tr>\n",
              "\t<tr><td>1266</td><td>4069</td><td>629</td><td>510</td><td> 934</td><td>527</td><td>804</td><td>2144</td><td> 870</td><td>331</td><td>⋯</td><td>158</td><td> 7</td><td>117</td><td>48</td><td>290</td><td>409</td><td>283</td><td> 0</td><td>108</td><td>11</td></tr>\n",
              "\t<tr><td>1286</td><td>4083</td><td>633</td><td>510</td><td> 946</td><td>527</td><td>805</td><td>2168</td><td> 870</td><td>336</td><td>⋯</td><td>158</td><td> 7</td><td>121</td><td>48</td><td>290</td><td>409</td><td>283</td><td> 0</td><td>108</td><td>11</td></tr>\n",
              "\t<tr><td>1286</td><td>4100</td><td>628</td><td>511</td><td> 967</td><td>527</td><td>804</td><td>2179</td><td> 863</td><td>334</td><td>⋯</td><td>158</td><td> 7</td><td>124</td><td>48</td><td>295</td><td>412</td><td>283</td><td> 0</td><td>108</td><td>11</td></tr>\n",
              "\t<tr><td>1281</td><td>4166</td><td>616</td><td>513</td><td> 968</td><td>526</td><td>809</td><td>2215</td><td> 862</td><td>331</td><td>⋯</td><td>160</td><td> 7</td><td>127</td><td>48</td><td>295</td><td>417</td><td>289</td><td> 0</td><td>108</td><td>11</td></tr>\n",
              "\t<tr><td>1284</td><td>4199</td><td>614</td><td>515</td><td> 979</td><td>527</td><td>813</td><td>2225</td><td> 860</td><td>336</td><td>⋯</td><td>160</td><td> 7</td><td>127</td><td>48</td><td>295</td><td>417</td><td>289</td><td>53</td><td>108</td><td>11</td></tr>\n",
              "\t<tr><td>1296</td><td>4230</td><td>620</td><td>517</td><td> 983</td><td>530</td><td>814</td><td>2255</td><td> 863</td><td>336</td><td>⋯</td><td>160</td><td> 7</td><td>141</td><td>48</td><td>296</td><td>424</td><td>292</td><td>53</td><td>108</td><td>11</td></tr>\n",
              "\t<tr><td>1309</td><td>4307</td><td>624</td><td>523</td><td>1004</td><td>535</td><td>827</td><td>2316</td><td> 867</td><td>341</td><td>⋯</td><td>159</td><td> 7</td><td>147</td><td>48</td><td>296</td><td>425</td><td>292</td><td>73</td><td>108</td><td>11</td></tr>\n",
              "\t<tr><td>1345</td><td>4402</td><td>628</td><td>533</td><td>1025</td><td>536</td><td>835</td><td>2346</td><td> 868</td><td>345</td><td>⋯</td><td>160</td><td> 7</td><td>148</td><td>48</td><td>301</td><td>429</td><td>295</td><td>73</td><td>108</td><td>11</td></tr>\n",
              "\t<tr><td>1348</td><td>4422</td><td>628</td><td>535</td><td>1034</td><td>537</td><td>837</td><td>2377</td><td> 873</td><td>346</td><td>⋯</td><td>164</td><td> 7</td><td>149</td><td>48</td><td>302</td><td>430</td><td>298</td><td>73</td><td>108</td><td>11</td></tr>\n",
              "\t<tr><td>1354</td><td>4445</td><td>629</td><td>538</td><td>1045</td><td>541</td><td>840</td><td>2411</td><td> 874</td><td>353</td><td>⋯</td><td>167</td><td> 7</td><td>150</td><td>48</td><td>302</td><td>430</td><td>301</td><td>73</td><td>108</td><td>11</td></tr>\n",
              "\t<tr><td>1345</td><td>4458</td><td>617</td><td>541</td><td>1036</td><td>540</td><td>839</td><td>2413</td><td> 861</td><td>354</td><td>⋯</td><td>170</td><td> 7</td><td>154</td><td>48</td><td>304</td><td>433</td><td>303</td><td> 0</td><td>109</td><td>19</td></tr>\n",
              "\t<tr><td>1349</td><td>4495</td><td>614</td><td>542</td><td>1037</td><td>541</td><td>841</td><td>2447</td><td> 850</td><td>354</td><td>⋯</td><td>171</td><td> 7</td><td>157</td><td>49</td><td>304</td><td>435</td><td>305</td><td> 0</td><td>109</td><td>20</td></tr>\n",
              "\t<tr><td>1355</td><td>4513</td><td>616</td><td>545</td><td>1049</td><td>541</td><td>848</td><td>2503</td><td> 850</td><td>362</td><td>⋯</td><td>172</td><td> 7</td><td>170</td><td>48</td><td>307</td><td>440</td><td>308</td><td> 0</td><td>110</td><td>20</td></tr>\n",
              "\t<tr><td>1371</td><td>4542</td><td>616</td><td>550</td><td>1062</td><td>544</td><td>853</td><td>2547</td><td> 853</td><td>364</td><td>⋯</td><td>172</td><td> 7</td><td>170</td><td>48</td><td>307</td><td>440</td><td>308</td><td> 0</td><td>110</td><td>20</td></tr>\n",
              "\t<tr><td>1377</td><td>4569</td><td>616</td><td>555</td><td>1065</td><td>545</td><td>857</td><td>2558</td><td> 855</td><td>365</td><td>⋯</td><td>172</td><td> 7</td><td>175</td><td>49</td><td>309</td><td>447</td><td>308</td><td> 0</td><td>111</td><td>20</td></tr>\n",
              "\t<tr><td>1383</td><td>4586</td><td>617</td><td>557</td><td>1070</td><td>545</td><td>859</td><td>2593</td><td> 857</td><td>367</td><td>⋯</td><td>172</td><td> 7</td><td>175</td><td>49</td><td>309</td><td>447</td><td>308</td><td> 0</td><td>111</td><td>20</td></tr>\n",
              "\t<tr><td>1385</td><td>4609</td><td>617</td><td>562</td><td>1071</td><td>545</td><td>859</td><td>2602</td><td> 857</td><td>367</td><td>⋯</td><td>173</td><td> 7</td><td>180</td><td>50</td><td>314</td><td>450</td><td>309</td><td> 0</td><td>111</td><td>20</td></tr>\n",
              "\t<tr><td>1398</td><td>4639</td><td>618</td><td>564</td><td>1082</td><td>548</td><td>862</td><td>2615</td><td> 858</td><td>371</td><td>⋯</td><td>179</td><td> 7</td><td>182</td><td>51</td><td>316</td><td>451</td><td>308</td><td> 0</td><td>111</td><td>21</td></tr>\n",
              "\t<tr><td>1413</td><td>4678</td><td>618</td><td>566</td><td>1099</td><td>550</td><td>863</td><td>2652</td><td> 858</td><td>376</td><td>⋯</td><td>182</td><td> 7</td><td>191</td><td>51</td><td>319</td><td>453</td><td>310</td><td> 0</td><td>111</td><td>21</td></tr>\n",
              "\t<tr><td>1420</td><td>4722</td><td>618</td><td>574</td><td>1109</td><td>551</td><td>863</td><td>2679</td><td> 862</td><td>380</td><td>⋯</td><td>184</td><td> 9</td><td>197</td><td>53</td><td>320</td><td>462</td><td>310</td><td> 0</td><td>111</td><td>21</td></tr>\n",
              "\t<tr><td>1432</td><td>4752</td><td>620</td><td>576</td><td>1114</td><td>552</td><td>865</td><td>2728</td><td> 863</td><td>392</td><td>⋯</td><td>187</td><td> 9</td><td>199</td><td>53</td><td>320</td><td>465</td><td>310</td><td> 0</td><td>111</td><td>23</td></tr>\n",
              "\t<tr><td>1442</td><td>4781</td><td>622</td><td>578</td><td>1121</td><td>558</td><td>866</td><td>2773</td><td> 863</td><td>407</td><td>⋯</td><td>187</td><td> 9</td><td>203</td><td>54</td><td>318</td><td>470</td><td>311</td><td> 2</td><td>111</td><td>23</td></tr>\n",
              "\t<tr><td>1447</td><td>4800</td><td>626</td><td>581</td><td>1128</td><td>558</td><td>867</td><td>2790</td><td> 864</td><td>407</td><td>⋯</td><td>186</td><td>10</td><td>210</td><td>54</td><td>317</td><td>476</td><td>312</td><td> 2</td><td>111</td><td>23</td></tr>\n",
              "\t<tr><td>1585</td><td>4978</td><td>801</td><td>610</td><td>1464</td><td>580</td><td>900</td><td>3110</td><td>1097</td><td>518</td><td>⋯</td><td>187</td><td>12</td><td>213</td><td>62</td><td>317</td><td>478</td><td>312</td><td> 2</td><td>111</td><td>23</td></tr>\n",
              "\t<tr><td>1619</td><td>5003</td><td>809</td><td>612</td><td>1487</td><td>583</td><td>901</td><td>3165</td><td>1107</td><td>526</td><td>⋯</td><td>196</td><td>16</td><td>224</td><td>65</td><td>317</td><td>481</td><td>323</td><td> 0</td><td>111</td><td>23</td></tr>\n",
              "\t<tr><td>1624</td><td>5021</td><td>809</td><td>617</td><td>1504</td><td>585</td><td>902</td><td>3211</td><td>1106</td><td>528</td><td>⋯</td><td>199</td><td>18</td><td>226</td><td>67</td><td>320</td><td>487</td><td>327</td><td> 0</td><td>112</td><td>23</td></tr>\n",
              "</tbody>\n",
              "</table>\n"
            ]
          },
          "metadata": {
            "tags": []
          }
        }
      ]
    },
    {
      "cell_type": "markdown",
      "metadata": {
        "id": "XExapLL1YKLY",
        "colab_type": "text"
      },
      "source": [
        "## Add meaning columns names"
      ]
    },
    {
      "cell_type": "markdown",
      "metadata": {
        "id": "Vz0DYQoJd8Is",
        "colab_type": "text"
      },
      "source": [
        ""
      ]
    },
    {
      "cell_type": "code",
      "metadata": {
        "id": "oa7ZYi6vX8mp",
        "colab_type": "code",
        "colab": {
          "base_uri": "https://localhost:8080/",
          "height": 229
        },
        "outputId": "c49ef344-7d41-42a3-e860-6ad8541645c6"
      },
      "source": [
        "names(tb1) = tb$Combined_Key\n",
        "head(tb1[100:110,1:10])"
      ],
      "execution_count": 124,
      "outputs": [
        {
          "output_type": "display_data",
          "data": {
            "text/plain": [
              "        Autauga, Alabama, US Baldwin, Alabama, US Barbour, Alabama, US\n",
              "4/30/20 44                   174                  39                  \n",
              "5/1/20  42                   175                  42                  \n",
              "5/2/20  45                   181                  43                  \n",
              "5/3/20  48                   187                  45                  \n",
              "5/4/20  53                   188                  45                  \n",
              "5/5/20  53                   189                  47                  \n",
              "        Bibb, Alabama, US Blount, Alabama, US Bullock, Alabama, US\n",
              "4/30/20 42                37                  13                  \n",
              "5/1/20  42                39                  14                  \n",
              "5/2/20  42                40                  14                  \n",
              "5/3/20  43                40                  14                  \n",
              "5/4/20  42                40                  16                  \n",
              "5/5/20  43                40                  18                  \n",
              "        Butler, Alabama, US Calhoun, Alabama, US Chambers, Alabama, US\n",
              "4/30/20  53                  94                  295                  \n",
              "5/1/20   65                  93                  290                  \n",
              "5/2/20   92                  98                  294                  \n",
              "5/3/20  105                 105                  300                  \n",
              "5/4/20  114                 105                  302                  \n",
              "5/5/20  120                 114                  304                  \n",
              "        Cherokee, Alabama, US\n",
              "4/30/20 15                   \n",
              "5/1/20  15                   \n",
              "5/2/20  15                   \n",
              "5/3/20  16                   \n",
              "5/4/20  16                   \n",
              "5/5/20  17                   "
            ],
            "text/latex": "A data.frame: 6 × 10\n\\begin{tabular}{r|llllllllll}\n  & Autauga, Alabama, US & Baldwin, Alabama, US & Barbour, Alabama, US & Bibb, Alabama, US & Blount, Alabama, US & Bullock, Alabama, US & Butler, Alabama, US & Calhoun, Alabama, US & Chambers, Alabama, US & Cherokee, Alabama, US\\\\\n  & <dbl> & <dbl> & <dbl> & <dbl> & <dbl> & <dbl> & <dbl> & <dbl> & <dbl> & <dbl>\\\\\n\\hline\n\t4/30/20 & 44 & 174 & 39 & 42 & 37 & 13 &  53 &  94 & 295 & 15\\\\\n\t5/1/20 & 42 & 175 & 42 & 42 & 39 & 14 &  65 &  93 & 290 & 15\\\\\n\t5/2/20 & 45 & 181 & 43 & 42 & 40 & 14 &  92 &  98 & 294 & 15\\\\\n\t5/3/20 & 48 & 187 & 45 & 43 & 40 & 14 & 105 & 105 & 300 & 16\\\\\n\t5/4/20 & 53 & 188 & 45 & 42 & 40 & 16 & 114 & 105 & 302 & 16\\\\\n\t5/5/20 & 53 & 189 & 47 & 43 & 40 & 18 & 120 & 114 & 304 & 17\\\\\n\\end{tabular}\n",
            "text/markdown": "\nA data.frame: 6 × 10\n\n| <!--/--> | Autauga, Alabama, US &lt;dbl&gt; | Baldwin, Alabama, US &lt;dbl&gt; | Barbour, Alabama, US &lt;dbl&gt; | Bibb, Alabama, US &lt;dbl&gt; | Blount, Alabama, US &lt;dbl&gt; | Bullock, Alabama, US &lt;dbl&gt; | Butler, Alabama, US &lt;dbl&gt; | Calhoun, Alabama, US &lt;dbl&gt; | Chambers, Alabama, US &lt;dbl&gt; | Cherokee, Alabama, US &lt;dbl&gt; |\n|---|---|---|---|---|---|---|---|---|---|---|\n| 4/30/20 | 44 | 174 | 39 | 42 | 37 | 13 |  53 |  94 | 295 | 15 |\n| 5/1/20 | 42 | 175 | 42 | 42 | 39 | 14 |  65 |  93 | 290 | 15 |\n| 5/2/20 | 45 | 181 | 43 | 42 | 40 | 14 |  92 |  98 | 294 | 15 |\n| 5/3/20 | 48 | 187 | 45 | 43 | 40 | 14 | 105 | 105 | 300 | 16 |\n| 5/4/20 | 53 | 188 | 45 | 42 | 40 | 16 | 114 | 105 | 302 | 16 |\n| 5/5/20 | 53 | 189 | 47 | 43 | 40 | 18 | 120 | 114 | 304 | 17 |\n\n",
            "text/html": [
              "<table>\n",
              "<caption>A data.frame: 6 × 10</caption>\n",
              "<thead>\n",
              "\t<tr><th></th><th scope=col>Autauga, Alabama, US</th><th scope=col>Baldwin, Alabama, US</th><th scope=col>Barbour, Alabama, US</th><th scope=col>Bibb, Alabama, US</th><th scope=col>Blount, Alabama, US</th><th scope=col>Bullock, Alabama, US</th><th scope=col>Butler, Alabama, US</th><th scope=col>Calhoun, Alabama, US</th><th scope=col>Chambers, Alabama, US</th><th scope=col>Cherokee, Alabama, US</th></tr>\n",
              "\t<tr><th></th><th scope=col>&lt;dbl&gt;</th><th scope=col>&lt;dbl&gt;</th><th scope=col>&lt;dbl&gt;</th><th scope=col>&lt;dbl&gt;</th><th scope=col>&lt;dbl&gt;</th><th scope=col>&lt;dbl&gt;</th><th scope=col>&lt;dbl&gt;</th><th scope=col>&lt;dbl&gt;</th><th scope=col>&lt;dbl&gt;</th><th scope=col>&lt;dbl&gt;</th></tr>\n",
              "</thead>\n",
              "<tbody>\n",
              "\t<tr><th scope=row>4/30/20</th><td>44</td><td>174</td><td>39</td><td>42</td><td>37</td><td>13</td><td> 53</td><td> 94</td><td>295</td><td>15</td></tr>\n",
              "\t<tr><th scope=row>5/1/20</th><td>42</td><td>175</td><td>42</td><td>42</td><td>39</td><td>14</td><td> 65</td><td> 93</td><td>290</td><td>15</td></tr>\n",
              "\t<tr><th scope=row>5/2/20</th><td>45</td><td>181</td><td>43</td><td>42</td><td>40</td><td>14</td><td> 92</td><td> 98</td><td>294</td><td>15</td></tr>\n",
              "\t<tr><th scope=row>5/3/20</th><td>48</td><td>187</td><td>45</td><td>43</td><td>40</td><td>14</td><td>105</td><td>105</td><td>300</td><td>16</td></tr>\n",
              "\t<tr><th scope=row>5/4/20</th><td>53</td><td>188</td><td>45</td><td>42</td><td>40</td><td>16</td><td>114</td><td>105</td><td>302</td><td>16</td></tr>\n",
              "\t<tr><th scope=row>5/5/20</th><td>53</td><td>189</td><td>47</td><td>43</td><td>40</td><td>18</td><td>120</td><td>114</td><td>304</td><td>17</td></tr>\n",
              "</tbody>\n",
              "</table>\n"
            ]
          },
          "metadata": {
            "tags": []
          }
        }
      ]
    },
    {
      "cell_type": "markdown",
      "metadata": {
        "id": "CB9qMR3zPXt2",
        "colab_type": "text"
      },
      "source": [
        "# Convert dates from text format to actual Date type\n",
        "\n",
        "see https://lubridate.tidyverse.org/ "
      ]
    },
    {
      "cell_type": "code",
      "metadata": {
        "id": "YppniiD3MsoA",
        "colab_type": "code",
        "colab": {
          "base_uri": "https://localhost:8080/",
          "height": 34
        },
        "outputId": "a62612e9-f6d7-4837-87ba-47a0937998db"
      },
      "source": [
        "date(\"8/9/2020\")"
      ],
      "execution_count": 51,
      "outputs": [
        {
          "output_type": "display_data",
          "data": {
            "text/plain": [
              "[1] \"8-09-20\""
            ],
            "text/latex": "8-09-20",
            "text/markdown": "8-09-20",
            "text/html": [
              "<time datetime=\"8-09-20\">8-09-20</time>"
            ]
          },
          "metadata": {
            "tags": []
          }
        }
      ]
    },
    {
      "cell_type": "code",
      "metadata": {
        "id": "Pi971NYFXGgB",
        "colab_type": "code",
        "colab": {
          "base_uri": "https://localhost:8080/",
          "height": 302
        },
        "outputId": "8e9b818f-f74c-4769-8dee-508481b57dd0"
      },
      "source": [
        "current_dates = names(tb)[12:length(tb[1,])]\n",
        "class(current_dates)\n",
        "current_dates"
      ],
      "execution_count": 131,
      "outputs": [
        {
          "output_type": "display_data",
          "data": {
            "text/plain": [
              "[1] \"character\""
            ],
            "text/latex": "'character'",
            "text/markdown": "'character'",
            "text/html": [
              "'character'"
            ]
          },
          "metadata": {
            "tags": []
          }
        },
        {
          "output_type": "display_data",
          "data": {
            "text/plain": [
              "  [1] \"1/22/20\" \"1/23/20\" \"1/24/20\" \"1/25/20\" \"1/26/20\" \"1/27/20\" \"1/28/20\"\n",
              "  [8] \"1/29/20\" \"1/30/20\" \"1/31/20\" \"2/1/20\"  \"2/2/20\"  \"2/3/20\"  \"2/4/20\" \n",
              " [15] \"2/5/20\"  \"2/6/20\"  \"2/7/20\"  \"2/8/20\"  \"2/9/20\"  \"2/10/20\" \"2/11/20\"\n",
              " [22] \"2/12/20\" \"2/13/20\" \"2/14/20\" \"2/15/20\" \"2/16/20\" \"2/17/20\" \"2/18/20\"\n",
              " [29] \"2/19/20\" \"2/20/20\" \"2/21/20\" \"2/22/20\" \"2/23/20\" \"2/24/20\" \"2/25/20\"\n",
              " [36] \"2/26/20\" \"2/27/20\" \"2/28/20\" \"2/29/20\" \"3/1/20\"  \"3/2/20\"  \"3/3/20\" \n",
              " [43] \"3/4/20\"  \"3/5/20\"  \"3/6/20\"  \"3/7/20\"  \"3/8/20\"  \"3/9/20\"  \"3/10/20\"\n",
              " [50] \"3/11/20\" \"3/12/20\" \"3/13/20\" \"3/14/20\" \"3/15/20\" \"3/16/20\" \"3/17/20\"\n",
              " [57] \"3/18/20\" \"3/19/20\" \"3/20/20\" \"3/21/20\" \"3/22/20\" \"3/23/20\" \"3/24/20\"\n",
              " [64] \"3/25/20\" \"3/26/20\" \"3/27/20\" \"3/28/20\" \"3/29/20\" \"3/30/20\" \"3/31/20\"\n",
              " [71] \"4/1/20\"  \"4/2/20\"  \"4/3/20\"  \"4/4/20\"  \"4/5/20\"  \"4/6/20\"  \"4/7/20\" \n",
              " [78] \"4/8/20\"  \"4/9/20\"  \"4/10/20\" \"4/11/20\" \"4/12/20\" \"4/13/20\" \"4/14/20\"\n",
              " [85] \"4/15/20\" \"4/16/20\" \"4/17/20\" \"4/18/20\" \"4/19/20\" \"4/20/20\" \"4/21/20\"\n",
              " [92] \"4/22/20\" \"4/23/20\" \"4/24/20\" \"4/25/20\" \"4/26/20\" \"4/27/20\" \"4/28/20\"\n",
              " [99] \"4/29/20\" \"4/30/20\" \"5/1/20\"  \"5/2/20\"  \"5/3/20\"  \"5/4/20\"  \"5/5/20\" \n",
              "[106] \"5/6/20\"  \"5/7/20\"  \"5/8/20\"  \"5/9/20\"  \"5/10/20\" \"5/11/20\" \"5/12/20\"\n",
              "[113] \"5/13/20\" \"5/14/20\" \"5/15/20\" \"5/16/20\" \"5/17/20\" \"5/18/20\" \"5/19/20\"\n",
              "[120] \"5/20/20\" \"5/21/20\" \"5/22/20\" \"5/23/20\" \"5/24/20\" \"5/25/20\" \"5/26/20\"\n",
              "[127] \"5/27/20\" \"5/28/20\" \"5/29/20\" \"5/30/20\" \"5/31/20\" \"6/1/20\"  \"6/2/20\" \n",
              "[134] \"6/3/20\"  \"6/4/20\"  \"6/5/20\"  \"6/6/20\"  \"6/7/20\"  \"6/8/20\"  \"6/9/20\" \n",
              "[141] \"6/10/20\" \"6/11/20\" \"6/12/20\" \"6/13/20\" \"6/14/20\" \"6/15/20\" \"6/16/20\"\n",
              "[148] \"6/17/20\" \"6/18/20\" \"6/19/20\" \"6/20/20\" \"6/21/20\" \"6/22/20\" \"6/23/20\"\n",
              "[155] \"6/24/20\" \"6/25/20\" \"6/26/20\" \"6/27/20\" \"6/28/20\" \"6/29/20\" \"6/30/20\"\n",
              "[162] \"7/1/20\"  \"7/2/20\"  \"7/3/20\"  \"7/4/20\"  \"7/5/20\"  \"7/6/20\"  \"7/7/20\" \n",
              "[169] \"7/8/20\"  \"7/9/20\"  \"7/10/20\" \"7/11/20\" \"7/12/20\" \"7/13/20\" \"7/14/20\"\n",
              "[176] \"7/15/20\" \"7/16/20\" \"7/17/20\" \"7/18/20\" \"7/19/20\" \"7/20/20\" \"7/21/20\"\n",
              "[183] \"7/22/20\" \"7/23/20\" \"7/24/20\" \"7/25/20\" \"7/26/20\" \"7/27/20\" \"7/28/20\"\n",
              "[190] \"7/29/20\" \"7/30/20\" \"7/31/20\" \"8/1/20\"  \"8/2/20\"  \"8/3/20\"  \"8/4/20\" \n",
              "[197] \"8/5/20\"  \"8/6/20\"  \"8/7/20\"  \"8/8/20\"  \"8/9/20\"  \"8/10/20\" \"8/11/20\"\n",
              "[204] \"8/12/20\" \"8/13/20\" \"8/14/20\" \"8/15/20\" \"8/16/20\" \"8/17/20\" \"8/18/20\"\n",
              "[211] \"8/19/20\" \"8/20/20\" \"8/21/20\" \"8/22/20\" \"8/23/20\" \"8/24/20\" \"8/25/20\"\n",
              "[218] \"8/26/20\" \"8/27/20\" \"8/28/20\" \"8/29/20\" \"8/30/20\" \"8/31/20\" \"9/1/20\" \n",
              "[225] \"9/2/20\"  \"9/3/20\"  \"9/4/20\"  \"9/5/20\"  \"9/6/20\"  \"9/7/20\"  \"9/8/20\" \n",
              "[232] \"9/9/20\"  \"9/10/20\" \"9/11/20\" \"9/12/20\" \"9/13/20\" \"9/14/20\" \"9/15/20\"\n",
              "[239] \"9/16/20\" \"9/17/20\""
            ],
            "text/latex": "\\begin{enumerate*}\n\\item '1/22/20'\n\\item '1/23/20'\n\\item '1/24/20'\n\\item '1/25/20'\n\\item '1/26/20'\n\\item '1/27/20'\n\\item '1/28/20'\n\\item '1/29/20'\n\\item '1/30/20'\n\\item '1/31/20'\n\\item '2/1/20'\n\\item '2/2/20'\n\\item '2/3/20'\n\\item '2/4/20'\n\\item '2/5/20'\n\\item '2/6/20'\n\\item '2/7/20'\n\\item '2/8/20'\n\\item '2/9/20'\n\\item '2/10/20'\n\\item '2/11/20'\n\\item '2/12/20'\n\\item '2/13/20'\n\\item '2/14/20'\n\\item '2/15/20'\n\\item '2/16/20'\n\\item '2/17/20'\n\\item '2/18/20'\n\\item '2/19/20'\n\\item '2/20/20'\n\\item '2/21/20'\n\\item '2/22/20'\n\\item '2/23/20'\n\\item '2/24/20'\n\\item '2/25/20'\n\\item '2/26/20'\n\\item '2/27/20'\n\\item '2/28/20'\n\\item '2/29/20'\n\\item '3/1/20'\n\\item '3/2/20'\n\\item '3/3/20'\n\\item '3/4/20'\n\\item '3/5/20'\n\\item '3/6/20'\n\\item '3/7/20'\n\\item '3/8/20'\n\\item '3/9/20'\n\\item '3/10/20'\n\\item '3/11/20'\n\\item '3/12/20'\n\\item '3/13/20'\n\\item '3/14/20'\n\\item '3/15/20'\n\\item '3/16/20'\n\\item '3/17/20'\n\\item '3/18/20'\n\\item '3/19/20'\n\\item '3/20/20'\n\\item '3/21/20'\n\\item '3/22/20'\n\\item '3/23/20'\n\\item '3/24/20'\n\\item '3/25/20'\n\\item '3/26/20'\n\\item '3/27/20'\n\\item '3/28/20'\n\\item '3/29/20'\n\\item '3/30/20'\n\\item '3/31/20'\n\\item '4/1/20'\n\\item '4/2/20'\n\\item '4/3/20'\n\\item '4/4/20'\n\\item '4/5/20'\n\\item '4/6/20'\n\\item '4/7/20'\n\\item '4/8/20'\n\\item '4/9/20'\n\\item '4/10/20'\n\\item '4/11/20'\n\\item '4/12/20'\n\\item '4/13/20'\n\\item '4/14/20'\n\\item '4/15/20'\n\\item '4/16/20'\n\\item '4/17/20'\n\\item '4/18/20'\n\\item '4/19/20'\n\\item '4/20/20'\n\\item '4/21/20'\n\\item '4/22/20'\n\\item '4/23/20'\n\\item '4/24/20'\n\\item '4/25/20'\n\\item '4/26/20'\n\\item '4/27/20'\n\\item '4/28/20'\n\\item '4/29/20'\n\\item '4/30/20'\n\\item '5/1/20'\n\\item '5/2/20'\n\\item '5/3/20'\n\\item '5/4/20'\n\\item '5/5/20'\n\\item '5/6/20'\n\\item '5/7/20'\n\\item '5/8/20'\n\\item '5/9/20'\n\\item '5/10/20'\n\\item '5/11/20'\n\\item '5/12/20'\n\\item '5/13/20'\n\\item '5/14/20'\n\\item '5/15/20'\n\\item '5/16/20'\n\\item '5/17/20'\n\\item '5/18/20'\n\\item '5/19/20'\n\\item '5/20/20'\n\\item '5/21/20'\n\\item '5/22/20'\n\\item '5/23/20'\n\\item '5/24/20'\n\\item '5/25/20'\n\\item '5/26/20'\n\\item '5/27/20'\n\\item '5/28/20'\n\\item '5/29/20'\n\\item '5/30/20'\n\\item '5/31/20'\n\\item '6/1/20'\n\\item '6/2/20'\n\\item '6/3/20'\n\\item '6/4/20'\n\\item '6/5/20'\n\\item '6/6/20'\n\\item '6/7/20'\n\\item '6/8/20'\n\\item '6/9/20'\n\\item '6/10/20'\n\\item '6/11/20'\n\\item '6/12/20'\n\\item '6/13/20'\n\\item '6/14/20'\n\\item '6/15/20'\n\\item '6/16/20'\n\\item '6/17/20'\n\\item '6/18/20'\n\\item '6/19/20'\n\\item '6/20/20'\n\\item '6/21/20'\n\\item '6/22/20'\n\\item '6/23/20'\n\\item '6/24/20'\n\\item '6/25/20'\n\\item '6/26/20'\n\\item '6/27/20'\n\\item '6/28/20'\n\\item '6/29/20'\n\\item '6/30/20'\n\\item '7/1/20'\n\\item '7/2/20'\n\\item '7/3/20'\n\\item '7/4/20'\n\\item '7/5/20'\n\\item '7/6/20'\n\\item '7/7/20'\n\\item '7/8/20'\n\\item '7/9/20'\n\\item '7/10/20'\n\\item '7/11/20'\n\\item '7/12/20'\n\\item '7/13/20'\n\\item '7/14/20'\n\\item '7/15/20'\n\\item '7/16/20'\n\\item '7/17/20'\n\\item '7/18/20'\n\\item '7/19/20'\n\\item '7/20/20'\n\\item '7/21/20'\n\\item '7/22/20'\n\\item '7/23/20'\n\\item '7/24/20'\n\\item '7/25/20'\n\\item '7/26/20'\n\\item '7/27/20'\n\\item '7/28/20'\n\\item '7/29/20'\n\\item '7/30/20'\n\\item '7/31/20'\n\\item '8/1/20'\n\\item '8/2/20'\n\\item '8/3/20'\n\\item '8/4/20'\n\\item '8/5/20'\n\\item '8/6/20'\n\\item '8/7/20'\n\\item '8/8/20'\n\\item '8/9/20'\n\\item '8/10/20'\n\\item '8/11/20'\n\\item '8/12/20'\n\\item '8/13/20'\n\\item '8/14/20'\n\\item '8/15/20'\n\\item '8/16/20'\n\\item '8/17/20'\n\\item '8/18/20'\n\\item '8/19/20'\n\\item '8/20/20'\n\\item '8/21/20'\n\\item '8/22/20'\n\\item '8/23/20'\n\\item '8/24/20'\n\\item '8/25/20'\n\\item '8/26/20'\n\\item '8/27/20'\n\\item '8/28/20'\n\\item '8/29/20'\n\\item '8/30/20'\n\\item '8/31/20'\n\\item '9/1/20'\n\\item '9/2/20'\n\\item '9/3/20'\n\\item '9/4/20'\n\\item '9/5/20'\n\\item '9/6/20'\n\\item '9/7/20'\n\\item '9/8/20'\n\\item '9/9/20'\n\\item '9/10/20'\n\\item '9/11/20'\n\\item '9/12/20'\n\\item '9/13/20'\n\\item '9/14/20'\n\\item '9/15/20'\n\\item '9/16/20'\n\\item '9/17/20'\n\\end{enumerate*}\n",
            "text/markdown": "1. '1/22/20'\n2. '1/23/20'\n3. '1/24/20'\n4. '1/25/20'\n5. '1/26/20'\n6. '1/27/20'\n7. '1/28/20'\n8. '1/29/20'\n9. '1/30/20'\n10. '1/31/20'\n11. '2/1/20'\n12. '2/2/20'\n13. '2/3/20'\n14. '2/4/20'\n15. '2/5/20'\n16. '2/6/20'\n17. '2/7/20'\n18. '2/8/20'\n19. '2/9/20'\n20. '2/10/20'\n21. '2/11/20'\n22. '2/12/20'\n23. '2/13/20'\n24. '2/14/20'\n25. '2/15/20'\n26. '2/16/20'\n27. '2/17/20'\n28. '2/18/20'\n29. '2/19/20'\n30. '2/20/20'\n31. '2/21/20'\n32. '2/22/20'\n33. '2/23/20'\n34. '2/24/20'\n35. '2/25/20'\n36. '2/26/20'\n37. '2/27/20'\n38. '2/28/20'\n39. '2/29/20'\n40. '3/1/20'\n41. '3/2/20'\n42. '3/3/20'\n43. '3/4/20'\n44. '3/5/20'\n45. '3/6/20'\n46. '3/7/20'\n47. '3/8/20'\n48. '3/9/20'\n49. '3/10/20'\n50. '3/11/20'\n51. '3/12/20'\n52. '3/13/20'\n53. '3/14/20'\n54. '3/15/20'\n55. '3/16/20'\n56. '3/17/20'\n57. '3/18/20'\n58. '3/19/20'\n59. '3/20/20'\n60. '3/21/20'\n61. '3/22/20'\n62. '3/23/20'\n63. '3/24/20'\n64. '3/25/20'\n65. '3/26/20'\n66. '3/27/20'\n67. '3/28/20'\n68. '3/29/20'\n69. '3/30/20'\n70. '3/31/20'\n71. '4/1/20'\n72. '4/2/20'\n73. '4/3/20'\n74. '4/4/20'\n75. '4/5/20'\n76. '4/6/20'\n77. '4/7/20'\n78. '4/8/20'\n79. '4/9/20'\n80. '4/10/20'\n81. '4/11/20'\n82. '4/12/20'\n83. '4/13/20'\n84. '4/14/20'\n85. '4/15/20'\n86. '4/16/20'\n87. '4/17/20'\n88. '4/18/20'\n89. '4/19/20'\n90. '4/20/20'\n91. '4/21/20'\n92. '4/22/20'\n93. '4/23/20'\n94. '4/24/20'\n95. '4/25/20'\n96. '4/26/20'\n97. '4/27/20'\n98. '4/28/20'\n99. '4/29/20'\n100. '4/30/20'\n101. '5/1/20'\n102. '5/2/20'\n103. '5/3/20'\n104. '5/4/20'\n105. '5/5/20'\n106. '5/6/20'\n107. '5/7/20'\n108. '5/8/20'\n109. '5/9/20'\n110. '5/10/20'\n111. '5/11/20'\n112. '5/12/20'\n113. '5/13/20'\n114. '5/14/20'\n115. '5/15/20'\n116. '5/16/20'\n117. '5/17/20'\n118. '5/18/20'\n119. '5/19/20'\n120. '5/20/20'\n121. '5/21/20'\n122. '5/22/20'\n123. '5/23/20'\n124. '5/24/20'\n125. '5/25/20'\n126. '5/26/20'\n127. '5/27/20'\n128. '5/28/20'\n129. '5/29/20'\n130. '5/30/20'\n131. '5/31/20'\n132. '6/1/20'\n133. '6/2/20'\n134. '6/3/20'\n135. '6/4/20'\n136. '6/5/20'\n137. '6/6/20'\n138. '6/7/20'\n139. '6/8/20'\n140. '6/9/20'\n141. '6/10/20'\n142. '6/11/20'\n143. '6/12/20'\n144. '6/13/20'\n145. '6/14/20'\n146. '6/15/20'\n147. '6/16/20'\n148. '6/17/20'\n149. '6/18/20'\n150. '6/19/20'\n151. '6/20/20'\n152. '6/21/20'\n153. '6/22/20'\n154. '6/23/20'\n155. '6/24/20'\n156. '6/25/20'\n157. '6/26/20'\n158. '6/27/20'\n159. '6/28/20'\n160. '6/29/20'\n161. '6/30/20'\n162. '7/1/20'\n163. '7/2/20'\n164. '7/3/20'\n165. '7/4/20'\n166. '7/5/20'\n167. '7/6/20'\n168. '7/7/20'\n169. '7/8/20'\n170. '7/9/20'\n171. '7/10/20'\n172. '7/11/20'\n173. '7/12/20'\n174. '7/13/20'\n175. '7/14/20'\n176. '7/15/20'\n177. '7/16/20'\n178. '7/17/20'\n179. '7/18/20'\n180. '7/19/20'\n181. '7/20/20'\n182. '7/21/20'\n183. '7/22/20'\n184. '7/23/20'\n185. '7/24/20'\n186. '7/25/20'\n187. '7/26/20'\n188. '7/27/20'\n189. '7/28/20'\n190. '7/29/20'\n191. '7/30/20'\n192. '7/31/20'\n193. '8/1/20'\n194. '8/2/20'\n195. '8/3/20'\n196. '8/4/20'\n197. '8/5/20'\n198. '8/6/20'\n199. '8/7/20'\n200. '8/8/20'\n201. '8/9/20'\n202. '8/10/20'\n203. '8/11/20'\n204. '8/12/20'\n205. '8/13/20'\n206. '8/14/20'\n207. '8/15/20'\n208. '8/16/20'\n209. '8/17/20'\n210. '8/18/20'\n211. '8/19/20'\n212. '8/20/20'\n213. '8/21/20'\n214. '8/22/20'\n215. '8/23/20'\n216. '8/24/20'\n217. '8/25/20'\n218. '8/26/20'\n219. '8/27/20'\n220. '8/28/20'\n221. '8/29/20'\n222. '8/30/20'\n223. '8/31/20'\n224. '9/1/20'\n225. '9/2/20'\n226. '9/3/20'\n227. '9/4/20'\n228. '9/5/20'\n229. '9/6/20'\n230. '9/7/20'\n231. '9/8/20'\n232. '9/9/20'\n233. '9/10/20'\n234. '9/11/20'\n235. '9/12/20'\n236. '9/13/20'\n237. '9/14/20'\n238. '9/15/20'\n239. '9/16/20'\n240. '9/17/20'\n\n\n",
            "text/html": [
              "<style>\n",
              ".list-inline {list-style: none; margin:0; padding: 0}\n",
              ".list-inline>li {display: inline-block}\n",
              ".list-inline>li:not(:last-child)::after {content: \"\\00b7\"; padding: 0 .5ex}\n",
              "</style>\n",
              "<ol class=list-inline><li>'1/22/20'</li><li>'1/23/20'</li><li>'1/24/20'</li><li>'1/25/20'</li><li>'1/26/20'</li><li>'1/27/20'</li><li>'1/28/20'</li><li>'1/29/20'</li><li>'1/30/20'</li><li>'1/31/20'</li><li>'2/1/20'</li><li>'2/2/20'</li><li>'2/3/20'</li><li>'2/4/20'</li><li>'2/5/20'</li><li>'2/6/20'</li><li>'2/7/20'</li><li>'2/8/20'</li><li>'2/9/20'</li><li>'2/10/20'</li><li>'2/11/20'</li><li>'2/12/20'</li><li>'2/13/20'</li><li>'2/14/20'</li><li>'2/15/20'</li><li>'2/16/20'</li><li>'2/17/20'</li><li>'2/18/20'</li><li>'2/19/20'</li><li>'2/20/20'</li><li>'2/21/20'</li><li>'2/22/20'</li><li>'2/23/20'</li><li>'2/24/20'</li><li>'2/25/20'</li><li>'2/26/20'</li><li>'2/27/20'</li><li>'2/28/20'</li><li>'2/29/20'</li><li>'3/1/20'</li><li>'3/2/20'</li><li>'3/3/20'</li><li>'3/4/20'</li><li>'3/5/20'</li><li>'3/6/20'</li><li>'3/7/20'</li><li>'3/8/20'</li><li>'3/9/20'</li><li>'3/10/20'</li><li>'3/11/20'</li><li>'3/12/20'</li><li>'3/13/20'</li><li>'3/14/20'</li><li>'3/15/20'</li><li>'3/16/20'</li><li>'3/17/20'</li><li>'3/18/20'</li><li>'3/19/20'</li><li>'3/20/20'</li><li>'3/21/20'</li><li>'3/22/20'</li><li>'3/23/20'</li><li>'3/24/20'</li><li>'3/25/20'</li><li>'3/26/20'</li><li>'3/27/20'</li><li>'3/28/20'</li><li>'3/29/20'</li><li>'3/30/20'</li><li>'3/31/20'</li><li>'4/1/20'</li><li>'4/2/20'</li><li>'4/3/20'</li><li>'4/4/20'</li><li>'4/5/20'</li><li>'4/6/20'</li><li>'4/7/20'</li><li>'4/8/20'</li><li>'4/9/20'</li><li>'4/10/20'</li><li>'4/11/20'</li><li>'4/12/20'</li><li>'4/13/20'</li><li>'4/14/20'</li><li>'4/15/20'</li><li>'4/16/20'</li><li>'4/17/20'</li><li>'4/18/20'</li><li>'4/19/20'</li><li>'4/20/20'</li><li>'4/21/20'</li><li>'4/22/20'</li><li>'4/23/20'</li><li>'4/24/20'</li><li>'4/25/20'</li><li>'4/26/20'</li><li>'4/27/20'</li><li>'4/28/20'</li><li>'4/29/20'</li><li>'4/30/20'</li><li>'5/1/20'</li><li>'5/2/20'</li><li>'5/3/20'</li><li>'5/4/20'</li><li>'5/5/20'</li><li>'5/6/20'</li><li>'5/7/20'</li><li>'5/8/20'</li><li>'5/9/20'</li><li>'5/10/20'</li><li>'5/11/20'</li><li>'5/12/20'</li><li>'5/13/20'</li><li>'5/14/20'</li><li>'5/15/20'</li><li>'5/16/20'</li><li>'5/17/20'</li><li>'5/18/20'</li><li>'5/19/20'</li><li>'5/20/20'</li><li>'5/21/20'</li><li>'5/22/20'</li><li>'5/23/20'</li><li>'5/24/20'</li><li>'5/25/20'</li><li>'5/26/20'</li><li>'5/27/20'</li><li>'5/28/20'</li><li>'5/29/20'</li><li>'5/30/20'</li><li>'5/31/20'</li><li>'6/1/20'</li><li>'6/2/20'</li><li>'6/3/20'</li><li>'6/4/20'</li><li>'6/5/20'</li><li>'6/6/20'</li><li>'6/7/20'</li><li>'6/8/20'</li><li>'6/9/20'</li><li>'6/10/20'</li><li>'6/11/20'</li><li>'6/12/20'</li><li>'6/13/20'</li><li>'6/14/20'</li><li>'6/15/20'</li><li>'6/16/20'</li><li>'6/17/20'</li><li>'6/18/20'</li><li>'6/19/20'</li><li>'6/20/20'</li><li>'6/21/20'</li><li>'6/22/20'</li><li>'6/23/20'</li><li>'6/24/20'</li><li>'6/25/20'</li><li>'6/26/20'</li><li>'6/27/20'</li><li>'6/28/20'</li><li>'6/29/20'</li><li>'6/30/20'</li><li>'7/1/20'</li><li>'7/2/20'</li><li>'7/3/20'</li><li>'7/4/20'</li><li>'7/5/20'</li><li>'7/6/20'</li><li>'7/7/20'</li><li>'7/8/20'</li><li>'7/9/20'</li><li>'7/10/20'</li><li>'7/11/20'</li><li>'7/12/20'</li><li>'7/13/20'</li><li>'7/14/20'</li><li>'7/15/20'</li><li>'7/16/20'</li><li>'7/17/20'</li><li>'7/18/20'</li><li>'7/19/20'</li><li>'7/20/20'</li><li>'7/21/20'</li><li>'7/22/20'</li><li>'7/23/20'</li><li>'7/24/20'</li><li>'7/25/20'</li><li>'7/26/20'</li><li>'7/27/20'</li><li>'7/28/20'</li><li>'7/29/20'</li><li>'7/30/20'</li><li>'7/31/20'</li><li>'8/1/20'</li><li>'8/2/20'</li><li>'8/3/20'</li><li>'8/4/20'</li><li>'8/5/20'</li><li>'8/6/20'</li><li>'8/7/20'</li><li>'8/8/20'</li><li>'8/9/20'</li><li>'8/10/20'</li><li>'8/11/20'</li><li>'8/12/20'</li><li>'8/13/20'</li><li>'8/14/20'</li><li>'8/15/20'</li><li>'8/16/20'</li><li>'8/17/20'</li><li>'8/18/20'</li><li>'8/19/20'</li><li>'8/20/20'</li><li>'8/21/20'</li><li>'8/22/20'</li><li>'8/23/20'</li><li>'8/24/20'</li><li>'8/25/20'</li><li>'8/26/20'</li><li>'8/27/20'</li><li>'8/28/20'</li><li>'8/29/20'</li><li>'8/30/20'</li><li>'8/31/20'</li><li>'9/1/20'</li><li>'9/2/20'</li><li>'9/3/20'</li><li>'9/4/20'</li><li>'9/5/20'</li><li>'9/6/20'</li><li>'9/7/20'</li><li>'9/8/20'</li><li>'9/9/20'</li><li>'9/10/20'</li><li>'9/11/20'</li><li>'9/12/20'</li><li>'9/13/20'</li><li>'9/14/20'</li><li>'9/15/20'</li><li>'9/16/20'</li><li>'9/17/20'</li></ol>\n"
            ]
          },
          "metadata": {
            "tags": []
          }
        }
      ]
    },
    {
      "cell_type": "code",
      "metadata": {
        "id": "txmZJnePMsrE",
        "colab_type": "code",
        "colab": {
          "base_uri": "https://localhost:8080/",
          "height": 34
        },
        "outputId": "848d9d40-59a8-46ed-9684-4fd09411e20e"
      },
      "source": [
        "mdy(current_dates[1:10])"
      ],
      "execution_count": 133,
      "outputs": [
        {
          "output_type": "display_data",
          "data": {
            "text/plain": [
              " [1] \"2020-01-22\" \"2020-01-23\" \"2020-01-24\" \"2020-01-25\" \"2020-01-26\"\n",
              " [6] \"2020-01-27\" \"2020-01-28\" \"2020-01-29\" \"2020-01-30\" \"2020-01-31\""
            ],
            "text/latex": "\\begin{enumerate*}\n\\item 2020-01-22\n\\item 2020-01-23\n\\item 2020-01-24\n\\item 2020-01-25\n\\item 2020-01-26\n\\item 2020-01-27\n\\item 2020-01-28\n\\item 2020-01-29\n\\item 2020-01-30\n\\item 2020-01-31\n\\end{enumerate*}\n",
            "text/markdown": "1. 2020-01-22\n2. 2020-01-23\n3. 2020-01-24\n4. 2020-01-25\n5. 2020-01-26\n6. 2020-01-27\n7. 2020-01-28\n8. 2020-01-29\n9. 2020-01-30\n10. 2020-01-31\n\n\n",
            "text/html": [
              "<style>\n",
              ".list-inline {list-style: none; margin:0; padding: 0}\n",
              ".list-inline>li {display: inline-block}\n",
              ".list-inline>li:not(:last-child)::after {content: \"\\00b7\"; padding: 0 .5ex}\n",
              "</style>\n",
              "<ol class=list-inline><li><time datetime=\"2020-01-22\">2020-01-22</time></li><li><time datetime=\"2020-01-23\">2020-01-23</time></li><li><time datetime=\"2020-01-24\">2020-01-24</time></li><li><time datetime=\"2020-01-25\">2020-01-25</time></li><li><time datetime=\"2020-01-26\">2020-01-26</time></li><li><time datetime=\"2020-01-27\">2020-01-27</time></li><li><time datetime=\"2020-01-28\">2020-01-28</time></li><li><time datetime=\"2020-01-29\">2020-01-29</time></li><li><time datetime=\"2020-01-30\">2020-01-30</time></li><li><time datetime=\"2020-01-31\">2020-01-31</time></li></ol>\n"
            ]
          },
          "metadata": {
            "tags": []
          }
        }
      ]
    },
    {
      "cell_type": "code",
      "metadata": {
        "id": "pIcUIOtVMst9",
        "colab_type": "code",
        "colab": {
          "base_uri": "https://localhost:8080/",
          "height": 350
        },
        "outputId": "388506a2-85d9-47a3-c5bf-39e1d2927938"
      },
      "source": [
        "tb1$dates = mdy(current_dates)\n",
        "head(tb1)"
      ],
      "execution_count": 136,
      "outputs": [
        {
          "output_type": "display_data",
          "data": {
            "text/plain": [
              "        Autauga, Alabama, US Baldwin, Alabama, US Barbour, Alabama, US\n",
              "1/22/20 0                    0                    0                   \n",
              "1/23/20 0                    0                    0                   \n",
              "1/24/20 0                    0                    0                   \n",
              "1/25/20 0                    0                    0                   \n",
              "1/26/20 0                    0                    0                   \n",
              "1/27/20 0                    0                    0                   \n",
              "        Bibb, Alabama, US Blount, Alabama, US Bullock, Alabama, US\n",
              "1/22/20 0                 0                   0                   \n",
              "1/23/20 0                 0                   0                   \n",
              "1/24/20 0                 0                   0                   \n",
              "1/25/20 0                 0                   0                   \n",
              "1/26/20 0                 0                   0                   \n",
              "1/27/20 0                 0                   0                   \n",
              "        Butler, Alabama, US Calhoun, Alabama, US Chambers, Alabama, US\n",
              "1/22/20 0                   0                    0                    \n",
              "1/23/20 0                   0                    0                    \n",
              "1/24/20 0                   0                    0                    \n",
              "1/25/20 0                   0                    0                    \n",
              "1/26/20 0                   0                    0                    \n",
              "1/27/20 0                   0                    0                    \n",
              "        Cherokee, Alabama, US ⋯ Platte, Wyoming, US Sheridan, Wyoming, US\n",
              "1/22/20 0                     ⋯ 0                   0                    \n",
              "1/23/20 0                     ⋯ 0                   0                    \n",
              "1/24/20 0                     ⋯ 0                   0                    \n",
              "1/25/20 0                     ⋯ 0                   0                    \n",
              "1/26/20 0                     ⋯ 0                   0                    \n",
              "1/27/20 0                     ⋯ 0                   0                    \n",
              "        Sublette, Wyoming, US Sweetwater, Wyoming, US Teton, Wyoming, US\n",
              "1/22/20 0                     0                       0                 \n",
              "1/23/20 0                     0                       0                 \n",
              "1/24/20 0                     0                       0                 \n",
              "1/25/20 0                     0                       0                 \n",
              "1/26/20 0                     0                       0                 \n",
              "1/27/20 0                     0                       0                 \n",
              "        Uinta, Wyoming, US Unassigned, Wyoming, US Washakie, Wyoming, US\n",
              "1/22/20 0                  0                       0                    \n",
              "1/23/20 0                  0                       0                    \n",
              "1/24/20 0                  0                       0                    \n",
              "1/25/20 0                  0                       0                    \n",
              "1/26/20 0                  0                       0                    \n",
              "1/27/20 0                  0                       0                    \n",
              "        Weston, Wyoming, US dates     \n",
              "1/22/20 0                   2020-01-22\n",
              "1/23/20 0                   2020-01-23\n",
              "1/24/20 0                   2020-01-24\n",
              "1/25/20 0                   2020-01-25\n",
              "1/26/20 0                   2020-01-26\n",
              "1/27/20 0                   2020-01-27"
            ],
            "text/latex": "A data.frame: 6 × 3341\n\\begin{tabular}{r|lllllllllllllllllllll}\n  & Autauga, Alabama, US & Baldwin, Alabama, US & Barbour, Alabama, US & Bibb, Alabama, US & Blount, Alabama, US & Bullock, Alabama, US & Butler, Alabama, US & Calhoun, Alabama, US & Chambers, Alabama, US & Cherokee, Alabama, US & ⋯ & Platte, Wyoming, US & Sheridan, Wyoming, US & Sublette, Wyoming, US & Sweetwater, Wyoming, US & Teton, Wyoming, US & Uinta, Wyoming, US & Unassigned, Wyoming, US & Washakie, Wyoming, US & Weston, Wyoming, US & dates\\\\\n  & <dbl> & <dbl> & <dbl> & <dbl> & <dbl> & <dbl> & <dbl> & <dbl> & <dbl> & <dbl> & ⋯ & <dbl> & <dbl> & <dbl> & <dbl> & <dbl> & <dbl> & <dbl> & <dbl> & <dbl> & <date>\\\\\n\\hline\n\t1/22/20 & 0 & 0 & 0 & 0 & 0 & 0 & 0 & 0 & 0 & 0 & ⋯ & 0 & 0 & 0 & 0 & 0 & 0 & 0 & 0 & 0 & 2020-01-22\\\\\n\t1/23/20 & 0 & 0 & 0 & 0 & 0 & 0 & 0 & 0 & 0 & 0 & ⋯ & 0 & 0 & 0 & 0 & 0 & 0 & 0 & 0 & 0 & 2020-01-23\\\\\n\t1/24/20 & 0 & 0 & 0 & 0 & 0 & 0 & 0 & 0 & 0 & 0 & ⋯ & 0 & 0 & 0 & 0 & 0 & 0 & 0 & 0 & 0 & 2020-01-24\\\\\n\t1/25/20 & 0 & 0 & 0 & 0 & 0 & 0 & 0 & 0 & 0 & 0 & ⋯ & 0 & 0 & 0 & 0 & 0 & 0 & 0 & 0 & 0 & 2020-01-25\\\\\n\t1/26/20 & 0 & 0 & 0 & 0 & 0 & 0 & 0 & 0 & 0 & 0 & ⋯ & 0 & 0 & 0 & 0 & 0 & 0 & 0 & 0 & 0 & 2020-01-26\\\\\n\t1/27/20 & 0 & 0 & 0 & 0 & 0 & 0 & 0 & 0 & 0 & 0 & ⋯ & 0 & 0 & 0 & 0 & 0 & 0 & 0 & 0 & 0 & 2020-01-27\\\\\n\\end{tabular}\n",
            "text/markdown": "\nA data.frame: 6 × 3341\n\n| <!--/--> | Autauga, Alabama, US &lt;dbl&gt; | Baldwin, Alabama, US &lt;dbl&gt; | Barbour, Alabama, US &lt;dbl&gt; | Bibb, Alabama, US &lt;dbl&gt; | Blount, Alabama, US &lt;dbl&gt; | Bullock, Alabama, US &lt;dbl&gt; | Butler, Alabama, US &lt;dbl&gt; | Calhoun, Alabama, US &lt;dbl&gt; | Chambers, Alabama, US &lt;dbl&gt; | Cherokee, Alabama, US &lt;dbl&gt; | ⋯ ⋯ | Platte, Wyoming, US &lt;dbl&gt; | Sheridan, Wyoming, US &lt;dbl&gt; | Sublette, Wyoming, US &lt;dbl&gt; | Sweetwater, Wyoming, US &lt;dbl&gt; | Teton, Wyoming, US &lt;dbl&gt; | Uinta, Wyoming, US &lt;dbl&gt; | Unassigned, Wyoming, US &lt;dbl&gt; | Washakie, Wyoming, US &lt;dbl&gt; | Weston, Wyoming, US &lt;dbl&gt; | dates &lt;date&gt; |\n|---|---|---|---|---|---|---|---|---|---|---|---|---|---|---|---|---|---|---|---|---|---|\n| 1/22/20 | 0 | 0 | 0 | 0 | 0 | 0 | 0 | 0 | 0 | 0 | ⋯ | 0 | 0 | 0 | 0 | 0 | 0 | 0 | 0 | 0 | 2020-01-22 |\n| 1/23/20 | 0 | 0 | 0 | 0 | 0 | 0 | 0 | 0 | 0 | 0 | ⋯ | 0 | 0 | 0 | 0 | 0 | 0 | 0 | 0 | 0 | 2020-01-23 |\n| 1/24/20 | 0 | 0 | 0 | 0 | 0 | 0 | 0 | 0 | 0 | 0 | ⋯ | 0 | 0 | 0 | 0 | 0 | 0 | 0 | 0 | 0 | 2020-01-24 |\n| 1/25/20 | 0 | 0 | 0 | 0 | 0 | 0 | 0 | 0 | 0 | 0 | ⋯ | 0 | 0 | 0 | 0 | 0 | 0 | 0 | 0 | 0 | 2020-01-25 |\n| 1/26/20 | 0 | 0 | 0 | 0 | 0 | 0 | 0 | 0 | 0 | 0 | ⋯ | 0 | 0 | 0 | 0 | 0 | 0 | 0 | 0 | 0 | 2020-01-26 |\n| 1/27/20 | 0 | 0 | 0 | 0 | 0 | 0 | 0 | 0 | 0 | 0 | ⋯ | 0 | 0 | 0 | 0 | 0 | 0 | 0 | 0 | 0 | 2020-01-27 |\n\n",
            "text/html": [
              "<table>\n",
              "<caption>A data.frame: 6 × 3341</caption>\n",
              "<thead>\n",
              "\t<tr><th></th><th scope=col>Autauga, Alabama, US</th><th scope=col>Baldwin, Alabama, US</th><th scope=col>Barbour, Alabama, US</th><th scope=col>Bibb, Alabama, US</th><th scope=col>Blount, Alabama, US</th><th scope=col>Bullock, Alabama, US</th><th scope=col>Butler, Alabama, US</th><th scope=col>Calhoun, Alabama, US</th><th scope=col>Chambers, Alabama, US</th><th scope=col>Cherokee, Alabama, US</th><th scope=col>⋯</th><th scope=col>Platte, Wyoming, US</th><th scope=col>Sheridan, Wyoming, US</th><th scope=col>Sublette, Wyoming, US</th><th scope=col>Sweetwater, Wyoming, US</th><th scope=col>Teton, Wyoming, US</th><th scope=col>Uinta, Wyoming, US</th><th scope=col>Unassigned, Wyoming, US</th><th scope=col>Washakie, Wyoming, US</th><th scope=col>Weston, Wyoming, US</th><th scope=col>dates</th></tr>\n",
              "\t<tr><th></th><th scope=col>&lt;dbl&gt;</th><th scope=col>&lt;dbl&gt;</th><th scope=col>&lt;dbl&gt;</th><th scope=col>&lt;dbl&gt;</th><th scope=col>&lt;dbl&gt;</th><th scope=col>&lt;dbl&gt;</th><th scope=col>&lt;dbl&gt;</th><th scope=col>&lt;dbl&gt;</th><th scope=col>&lt;dbl&gt;</th><th scope=col>&lt;dbl&gt;</th><th scope=col>⋯</th><th scope=col>&lt;dbl&gt;</th><th scope=col>&lt;dbl&gt;</th><th scope=col>&lt;dbl&gt;</th><th scope=col>&lt;dbl&gt;</th><th scope=col>&lt;dbl&gt;</th><th scope=col>&lt;dbl&gt;</th><th scope=col>&lt;dbl&gt;</th><th scope=col>&lt;dbl&gt;</th><th scope=col>&lt;dbl&gt;</th><th scope=col>&lt;date&gt;</th></tr>\n",
              "</thead>\n",
              "<tbody>\n",
              "\t<tr><th scope=row>1/22/20</th><td>0</td><td>0</td><td>0</td><td>0</td><td>0</td><td>0</td><td>0</td><td>0</td><td>0</td><td>0</td><td>⋯</td><td>0</td><td>0</td><td>0</td><td>0</td><td>0</td><td>0</td><td>0</td><td>0</td><td>0</td><td>2020-01-22</td></tr>\n",
              "\t<tr><th scope=row>1/23/20</th><td>0</td><td>0</td><td>0</td><td>0</td><td>0</td><td>0</td><td>0</td><td>0</td><td>0</td><td>0</td><td>⋯</td><td>0</td><td>0</td><td>0</td><td>0</td><td>0</td><td>0</td><td>0</td><td>0</td><td>0</td><td>2020-01-23</td></tr>\n",
              "\t<tr><th scope=row>1/24/20</th><td>0</td><td>0</td><td>0</td><td>0</td><td>0</td><td>0</td><td>0</td><td>0</td><td>0</td><td>0</td><td>⋯</td><td>0</td><td>0</td><td>0</td><td>0</td><td>0</td><td>0</td><td>0</td><td>0</td><td>0</td><td>2020-01-24</td></tr>\n",
              "\t<tr><th scope=row>1/25/20</th><td>0</td><td>0</td><td>0</td><td>0</td><td>0</td><td>0</td><td>0</td><td>0</td><td>0</td><td>0</td><td>⋯</td><td>0</td><td>0</td><td>0</td><td>0</td><td>0</td><td>0</td><td>0</td><td>0</td><td>0</td><td>2020-01-25</td></tr>\n",
              "\t<tr><th scope=row>1/26/20</th><td>0</td><td>0</td><td>0</td><td>0</td><td>0</td><td>0</td><td>0</td><td>0</td><td>0</td><td>0</td><td>⋯</td><td>0</td><td>0</td><td>0</td><td>0</td><td>0</td><td>0</td><td>0</td><td>0</td><td>0</td><td>2020-01-26</td></tr>\n",
              "\t<tr><th scope=row>1/27/20</th><td>0</td><td>0</td><td>0</td><td>0</td><td>0</td><td>0</td><td>0</td><td>0</td><td>0</td><td>0</td><td>⋯</td><td>0</td><td>0</td><td>0</td><td>0</td><td>0</td><td>0</td><td>0</td><td>0</td><td>0</td><td>2020-01-27</td></tr>\n",
              "</tbody>\n",
              "</table>\n"
            ]
          },
          "metadata": {
            "tags": []
          }
        }
      ]
    },
    {
      "cell_type": "markdown",
      "metadata": {
        "id": "Q6WHAtLrgmOW",
        "colab_type": "text"
      },
      "source": [
        "## Select a time window"
      ]
    },
    {
      "cell_type": "markdown",
      "metadata": {
        "id": "qIWPX8nBh9UJ",
        "colab_type": "text"
      },
      "source": [
        ""
      ]
    },
    {
      "cell_type": "code",
      "metadata": {
        "id": "IbSh8oiDMsxI",
        "colab_type": "code",
        "colab": {
          "base_uri": "https://localhost:8080/",
          "height": 350
        },
        "outputId": "d15fe588-2651-4d69-f5b8-95575a9d5d34"
      },
      "source": [
        "tb1 %>% filter( dates > mdy(\"5/1/2020\"), dates < mdy(\"5/31/20\")) %>% head()"
      ],
      "execution_count": 142,
      "outputs": [
        {
          "output_type": "display_data",
          "data": {
            "text/plain": [
              "       Autauga, Alabama, US Baldwin, Alabama, US Barbour, Alabama, US\n",
              "5/2/20 45                   181                  43                  \n",
              "5/3/20 48                   187                  45                  \n",
              "5/4/20 53                   188                  45                  \n",
              "5/5/20 53                   189                  47                  \n",
              "5/6/20 58                   196                  47                  \n",
              "5/7/20 61                   205                  51                  \n",
              "       Bibb, Alabama, US Blount, Alabama, US Bullock, Alabama, US\n",
              "5/2/20 42                40                  14                  \n",
              "5/3/20 43                40                  14                  \n",
              "5/4/20 42                40                  16                  \n",
              "5/5/20 43                40                  18                  \n",
              "5/6/20 43                42                  18                  \n",
              "5/7/20 44                44                  18                  \n",
              "       Butler, Alabama, US Calhoun, Alabama, US Chambers, Alabama, US\n",
              "5/2/20  92                  98                  294                  \n",
              "5/3/20 105                 105                  300                  \n",
              "5/4/20 114                 105                  302                  \n",
              "5/5/20 120                 114                  304                  \n",
              "5/6/20 130                 114                  306                  \n",
              "5/7/20 155                 120                  308                  \n",
              "       Cherokee, Alabama, US ⋯ Platte, Wyoming, US Sheridan, Wyoming, US\n",
              "5/2/20 15                    ⋯ 0                   16                   \n",
              "5/3/20 16                    ⋯ 0                   16                   \n",
              "5/4/20 16                    ⋯ 0                   16                   \n",
              "5/5/20 17                    ⋯ 0                   16                   \n",
              "5/6/20 18                    ⋯ 0                   16                   \n",
              "5/7/20 18                    ⋯ 0                   16                   \n",
              "       Sublette, Wyoming, US Sweetwater, Wyoming, US Teton, Wyoming, US\n",
              "5/2/20 3                     18                      97                \n",
              "5/3/20 3                     18                      98                \n",
              "5/4/20 3                     18                      98                \n",
              "5/5/20 3                     18                      98                \n",
              "5/6/20 3                     19                      98                \n",
              "5/7/20 3                     19                      98                \n",
              "       Uinta, Wyoming, US Unassigned, Wyoming, US Washakie, Wyoming, US\n",
              "5/2/20 8                  0                       8                    \n",
              "5/3/20 8                  0                       8                    \n",
              "5/4/20 8                  0                       8                    \n",
              "5/5/20 8                  0                       8                    \n",
              "5/6/20 8                  0                       8                    \n",
              "5/7/20 8                  0                       8                    \n",
              "       Weston, Wyoming, US dates     \n",
              "5/2/20 0                   2020-05-02\n",
              "5/3/20 0                   2020-05-03\n",
              "5/4/20 0                   2020-05-04\n",
              "5/5/20 0                   2020-05-05\n",
              "5/6/20 0                   2020-05-06\n",
              "5/7/20 0                   2020-05-07"
            ],
            "text/latex": "A data.frame: 6 × 3341\n\\begin{tabular}{r|lllllllllllllllllllll}\n  & Autauga, Alabama, US & Baldwin, Alabama, US & Barbour, Alabama, US & Bibb, Alabama, US & Blount, Alabama, US & Bullock, Alabama, US & Butler, Alabama, US & Calhoun, Alabama, US & Chambers, Alabama, US & Cherokee, Alabama, US & ⋯ & Platte, Wyoming, US & Sheridan, Wyoming, US & Sublette, Wyoming, US & Sweetwater, Wyoming, US & Teton, Wyoming, US & Uinta, Wyoming, US & Unassigned, Wyoming, US & Washakie, Wyoming, US & Weston, Wyoming, US & dates\\\\\n  & <dbl> & <dbl> & <dbl> & <dbl> & <dbl> & <dbl> & <dbl> & <dbl> & <dbl> & <dbl> & ⋯ & <dbl> & <dbl> & <dbl> & <dbl> & <dbl> & <dbl> & <dbl> & <dbl> & <dbl> & <date>\\\\\n\\hline\n\t5/2/20 & 45 & 181 & 43 & 42 & 40 & 14 &  92 &  98 & 294 & 15 & ⋯ & 0 & 16 & 3 & 18 & 97 & 8 & 0 & 8 & 0 & 2020-05-02\\\\\n\t5/3/20 & 48 & 187 & 45 & 43 & 40 & 14 & 105 & 105 & 300 & 16 & ⋯ & 0 & 16 & 3 & 18 & 98 & 8 & 0 & 8 & 0 & 2020-05-03\\\\\n\t5/4/20 & 53 & 188 & 45 & 42 & 40 & 16 & 114 & 105 & 302 & 16 & ⋯ & 0 & 16 & 3 & 18 & 98 & 8 & 0 & 8 & 0 & 2020-05-04\\\\\n\t5/5/20 & 53 & 189 & 47 & 43 & 40 & 18 & 120 & 114 & 304 & 17 & ⋯ & 0 & 16 & 3 & 18 & 98 & 8 & 0 & 8 & 0 & 2020-05-05\\\\\n\t5/6/20 & 58 & 196 & 47 & 43 & 42 & 18 & 130 & 114 & 306 & 18 & ⋯ & 0 & 16 & 3 & 19 & 98 & 8 & 0 & 8 & 0 & 2020-05-06\\\\\n\t5/7/20 & 61 & 205 & 51 & 44 & 44 & 18 & 155 & 120 & 308 & 18 & ⋯ & 0 & 16 & 3 & 19 & 98 & 8 & 0 & 8 & 0 & 2020-05-07\\\\\n\\end{tabular}\n",
            "text/markdown": "\nA data.frame: 6 × 3341\n\n| <!--/--> | Autauga, Alabama, US &lt;dbl&gt; | Baldwin, Alabama, US &lt;dbl&gt; | Barbour, Alabama, US &lt;dbl&gt; | Bibb, Alabama, US &lt;dbl&gt; | Blount, Alabama, US &lt;dbl&gt; | Bullock, Alabama, US &lt;dbl&gt; | Butler, Alabama, US &lt;dbl&gt; | Calhoun, Alabama, US &lt;dbl&gt; | Chambers, Alabama, US &lt;dbl&gt; | Cherokee, Alabama, US &lt;dbl&gt; | ⋯ ⋯ | Platte, Wyoming, US &lt;dbl&gt; | Sheridan, Wyoming, US &lt;dbl&gt; | Sublette, Wyoming, US &lt;dbl&gt; | Sweetwater, Wyoming, US &lt;dbl&gt; | Teton, Wyoming, US &lt;dbl&gt; | Uinta, Wyoming, US &lt;dbl&gt; | Unassigned, Wyoming, US &lt;dbl&gt; | Washakie, Wyoming, US &lt;dbl&gt; | Weston, Wyoming, US &lt;dbl&gt; | dates &lt;date&gt; |\n|---|---|---|---|---|---|---|---|---|---|---|---|---|---|---|---|---|---|---|---|---|---|\n| 5/2/20 | 45 | 181 | 43 | 42 | 40 | 14 |  92 |  98 | 294 | 15 | ⋯ | 0 | 16 | 3 | 18 | 97 | 8 | 0 | 8 | 0 | 2020-05-02 |\n| 5/3/20 | 48 | 187 | 45 | 43 | 40 | 14 | 105 | 105 | 300 | 16 | ⋯ | 0 | 16 | 3 | 18 | 98 | 8 | 0 | 8 | 0 | 2020-05-03 |\n| 5/4/20 | 53 | 188 | 45 | 42 | 40 | 16 | 114 | 105 | 302 | 16 | ⋯ | 0 | 16 | 3 | 18 | 98 | 8 | 0 | 8 | 0 | 2020-05-04 |\n| 5/5/20 | 53 | 189 | 47 | 43 | 40 | 18 | 120 | 114 | 304 | 17 | ⋯ | 0 | 16 | 3 | 18 | 98 | 8 | 0 | 8 | 0 | 2020-05-05 |\n| 5/6/20 | 58 | 196 | 47 | 43 | 42 | 18 | 130 | 114 | 306 | 18 | ⋯ | 0 | 16 | 3 | 19 | 98 | 8 | 0 | 8 | 0 | 2020-05-06 |\n| 5/7/20 | 61 | 205 | 51 | 44 | 44 | 18 | 155 | 120 | 308 | 18 | ⋯ | 0 | 16 | 3 | 19 | 98 | 8 | 0 | 8 | 0 | 2020-05-07 |\n\n",
            "text/html": [
              "<table>\n",
              "<caption>A data.frame: 6 × 3341</caption>\n",
              "<thead>\n",
              "\t<tr><th></th><th scope=col>Autauga, Alabama, US</th><th scope=col>Baldwin, Alabama, US</th><th scope=col>Barbour, Alabama, US</th><th scope=col>Bibb, Alabama, US</th><th scope=col>Blount, Alabama, US</th><th scope=col>Bullock, Alabama, US</th><th scope=col>Butler, Alabama, US</th><th scope=col>Calhoun, Alabama, US</th><th scope=col>Chambers, Alabama, US</th><th scope=col>Cherokee, Alabama, US</th><th scope=col>⋯</th><th scope=col>Platte, Wyoming, US</th><th scope=col>Sheridan, Wyoming, US</th><th scope=col>Sublette, Wyoming, US</th><th scope=col>Sweetwater, Wyoming, US</th><th scope=col>Teton, Wyoming, US</th><th scope=col>Uinta, Wyoming, US</th><th scope=col>Unassigned, Wyoming, US</th><th scope=col>Washakie, Wyoming, US</th><th scope=col>Weston, Wyoming, US</th><th scope=col>dates</th></tr>\n",
              "\t<tr><th></th><th scope=col>&lt;dbl&gt;</th><th scope=col>&lt;dbl&gt;</th><th scope=col>&lt;dbl&gt;</th><th scope=col>&lt;dbl&gt;</th><th scope=col>&lt;dbl&gt;</th><th scope=col>&lt;dbl&gt;</th><th scope=col>&lt;dbl&gt;</th><th scope=col>&lt;dbl&gt;</th><th scope=col>&lt;dbl&gt;</th><th scope=col>&lt;dbl&gt;</th><th scope=col>⋯</th><th scope=col>&lt;dbl&gt;</th><th scope=col>&lt;dbl&gt;</th><th scope=col>&lt;dbl&gt;</th><th scope=col>&lt;dbl&gt;</th><th scope=col>&lt;dbl&gt;</th><th scope=col>&lt;dbl&gt;</th><th scope=col>&lt;dbl&gt;</th><th scope=col>&lt;dbl&gt;</th><th scope=col>&lt;dbl&gt;</th><th scope=col>&lt;date&gt;</th></tr>\n",
              "</thead>\n",
              "<tbody>\n",
              "\t<tr><th scope=row>5/2/20</th><td>45</td><td>181</td><td>43</td><td>42</td><td>40</td><td>14</td><td> 92</td><td> 98</td><td>294</td><td>15</td><td>⋯</td><td>0</td><td>16</td><td>3</td><td>18</td><td>97</td><td>8</td><td>0</td><td>8</td><td>0</td><td>2020-05-02</td></tr>\n",
              "\t<tr><th scope=row>5/3/20</th><td>48</td><td>187</td><td>45</td><td>43</td><td>40</td><td>14</td><td>105</td><td>105</td><td>300</td><td>16</td><td>⋯</td><td>0</td><td>16</td><td>3</td><td>18</td><td>98</td><td>8</td><td>0</td><td>8</td><td>0</td><td>2020-05-03</td></tr>\n",
              "\t<tr><th scope=row>5/4/20</th><td>53</td><td>188</td><td>45</td><td>42</td><td>40</td><td>16</td><td>114</td><td>105</td><td>302</td><td>16</td><td>⋯</td><td>0</td><td>16</td><td>3</td><td>18</td><td>98</td><td>8</td><td>0</td><td>8</td><td>0</td><td>2020-05-04</td></tr>\n",
              "\t<tr><th scope=row>5/5/20</th><td>53</td><td>189</td><td>47</td><td>43</td><td>40</td><td>18</td><td>120</td><td>114</td><td>304</td><td>17</td><td>⋯</td><td>0</td><td>16</td><td>3</td><td>18</td><td>98</td><td>8</td><td>0</td><td>8</td><td>0</td><td>2020-05-05</td></tr>\n",
              "\t<tr><th scope=row>5/6/20</th><td>58</td><td>196</td><td>47</td><td>43</td><td>42</td><td>18</td><td>130</td><td>114</td><td>306</td><td>18</td><td>⋯</td><td>0</td><td>16</td><td>3</td><td>19</td><td>98</td><td>8</td><td>0</td><td>8</td><td>0</td><td>2020-05-06</td></tr>\n",
              "\t<tr><th scope=row>5/7/20</th><td>61</td><td>205</td><td>51</td><td>44</td><td>44</td><td>18</td><td>155</td><td>120</td><td>308</td><td>18</td><td>⋯</td><td>0</td><td>16</td><td>3</td><td>19</td><td>98</td><td>8</td><td>0</td><td>8</td><td>0</td><td>2020-05-07</td></tr>\n",
              "</tbody>\n",
              "</table>\n"
            ]
          },
          "metadata": {
            "tags": []
          }
        }
      ]
    },
    {
      "cell_type": "code",
      "metadata": {
        "id": "16-n95d7heKX",
        "colab_type": "code",
        "colab": {}
      },
      "source": [
        ""
      ],
      "execution_count": null,
      "outputs": []
    },
    {
      "cell_type": "code",
      "metadata": {
        "id": "t24-UDQvm2ry",
        "colab_type": "code",
        "colab": {
          "base_uri": "https://localhost:8080/",
          "height": 34
        },
        "outputId": "8cb7a59e-9308-4de2-8f5a-63ae80a590bf"
      },
      "source": [
        "start = mdy(\"8/1/20\")\n",
        "start + ddays(14)"
      ],
      "execution_count": 145,
      "outputs": [
        {
          "output_type": "display_data",
          "data": {
            "text/plain": [
              "[1] \"2020-08-15\""
            ],
            "text/latex": "2020-08-15",
            "text/markdown": "2020-08-15",
            "text/html": [
              "<time datetime=\"2020-08-15\">2020-08-15</time>"
            ]
          },
          "metadata": {
            "tags": []
          }
        }
      ]
    },
    {
      "cell_type": "code",
      "metadata": {
        "id": "zMlWc4R-hR5U",
        "colab_type": "code",
        "colab": {
          "base_uri": "https://localhost:8080/",
          "height": 355
        },
        "outputId": "d41c2673-039a-41c8-c793-6950d8d35a91"
      },
      "source": [
        "tb1 %>% filter( dates >= start, dates <  start + ddays(14)) %>% select(1:5)"
      ],
      "execution_count": 147,
      "outputs": [
        {
          "output_type": "display_data",
          "data": {
            "text/plain": [
              "        Autauga, Alabama, US Baldwin, Alabama, US Barbour, Alabama, US\n",
              "8/1/20   988                 3095                 554                 \n",
              "8/2/20  1010                 3175                 562                 \n",
              "8/3/20  1024                 3210                 563                 \n",
              "8/4/20  1030                 3263                 563                 \n",
              "8/5/20  1030                 3322                 564                 \n",
              "8/6/20  1050                 3380                 565                 \n",
              "8/7/20  1065                 3443                 569                 \n",
              "8/8/20  1086                 3502                 573                 \n",
              "8/9/20  1169                 3544                 575                 \n",
              "8/10/20 1174                 3651                 576                 \n",
              "8/11/20 1162                 3670                 579                 \n",
              "8/12/20 1188                 3710                 581                 \n",
              "8/13/20 1196                 3744                 586                 \n",
              "8/14/20 1196                 3791                 590                 \n",
              "        Bibb, Alabama, US Blount, Alabama, US\n",
              "8/1/20  360               704                \n",
              "8/2/20  364               722                \n",
              "8/3/20  374               736                \n",
              "8/4/20  381               741                \n",
              "8/5/20  384               745                \n",
              "8/6/20  413               759                \n",
              "8/7/20  416               774                \n",
              "8/8/20  426               788                \n",
              "8/9/20  438               800                \n",
              "8/10/20 442               812                \n",
              "8/11/20 444               816                \n",
              "8/12/20 453               825                \n",
              "8/13/20 457               835                \n",
              "8/14/20 465               848                "
            ],
            "text/latex": "A data.frame: 14 × 5\n\\begin{tabular}{r|lllll}\n  & Autauga, Alabama, US & Baldwin, Alabama, US & Barbour, Alabama, US & Bibb, Alabama, US & Blount, Alabama, US\\\\\n  & <dbl> & <dbl> & <dbl> & <dbl> & <dbl>\\\\\n\\hline\n\t8/1/20 &  988 & 3095 & 554 & 360 & 704\\\\\n\t8/2/20 & 1010 & 3175 & 562 & 364 & 722\\\\\n\t8/3/20 & 1024 & 3210 & 563 & 374 & 736\\\\\n\t8/4/20 & 1030 & 3263 & 563 & 381 & 741\\\\\n\t8/5/20 & 1030 & 3322 & 564 & 384 & 745\\\\\n\t8/6/20 & 1050 & 3380 & 565 & 413 & 759\\\\\n\t8/7/20 & 1065 & 3443 & 569 & 416 & 774\\\\\n\t8/8/20 & 1086 & 3502 & 573 & 426 & 788\\\\\n\t8/9/20 & 1169 & 3544 & 575 & 438 & 800\\\\\n\t8/10/20 & 1174 & 3651 & 576 & 442 & 812\\\\\n\t8/11/20 & 1162 & 3670 & 579 & 444 & 816\\\\\n\t8/12/20 & 1188 & 3710 & 581 & 453 & 825\\\\\n\t8/13/20 & 1196 & 3744 & 586 & 457 & 835\\\\\n\t8/14/20 & 1196 & 3791 & 590 & 465 & 848\\\\\n\\end{tabular}\n",
            "text/markdown": "\nA data.frame: 14 × 5\n\n| <!--/--> | Autauga, Alabama, US &lt;dbl&gt; | Baldwin, Alabama, US &lt;dbl&gt; | Barbour, Alabama, US &lt;dbl&gt; | Bibb, Alabama, US &lt;dbl&gt; | Blount, Alabama, US &lt;dbl&gt; |\n|---|---|---|---|---|---|\n| 8/1/20 |  988 | 3095 | 554 | 360 | 704 |\n| 8/2/20 | 1010 | 3175 | 562 | 364 | 722 |\n| 8/3/20 | 1024 | 3210 | 563 | 374 | 736 |\n| 8/4/20 | 1030 | 3263 | 563 | 381 | 741 |\n| 8/5/20 | 1030 | 3322 | 564 | 384 | 745 |\n| 8/6/20 | 1050 | 3380 | 565 | 413 | 759 |\n| 8/7/20 | 1065 | 3443 | 569 | 416 | 774 |\n| 8/8/20 | 1086 | 3502 | 573 | 426 | 788 |\n| 8/9/20 | 1169 | 3544 | 575 | 438 | 800 |\n| 8/10/20 | 1174 | 3651 | 576 | 442 | 812 |\n| 8/11/20 | 1162 | 3670 | 579 | 444 | 816 |\n| 8/12/20 | 1188 | 3710 | 581 | 453 | 825 |\n| 8/13/20 | 1196 | 3744 | 586 | 457 | 835 |\n| 8/14/20 | 1196 | 3791 | 590 | 465 | 848 |\n\n",
            "text/html": [
              "<table>\n",
              "<caption>A data.frame: 14 × 5</caption>\n",
              "<thead>\n",
              "\t<tr><th></th><th scope=col>Autauga, Alabama, US</th><th scope=col>Baldwin, Alabama, US</th><th scope=col>Barbour, Alabama, US</th><th scope=col>Bibb, Alabama, US</th><th scope=col>Blount, Alabama, US</th></tr>\n",
              "\t<tr><th></th><th scope=col>&lt;dbl&gt;</th><th scope=col>&lt;dbl&gt;</th><th scope=col>&lt;dbl&gt;</th><th scope=col>&lt;dbl&gt;</th><th scope=col>&lt;dbl&gt;</th></tr>\n",
              "</thead>\n",
              "<tbody>\n",
              "\t<tr><th scope=row>8/1/20</th><td> 988</td><td>3095</td><td>554</td><td>360</td><td>704</td></tr>\n",
              "\t<tr><th scope=row>8/2/20</th><td>1010</td><td>3175</td><td>562</td><td>364</td><td>722</td></tr>\n",
              "\t<tr><th scope=row>8/3/20</th><td>1024</td><td>3210</td><td>563</td><td>374</td><td>736</td></tr>\n",
              "\t<tr><th scope=row>8/4/20</th><td>1030</td><td>3263</td><td>563</td><td>381</td><td>741</td></tr>\n",
              "\t<tr><th scope=row>8/5/20</th><td>1030</td><td>3322</td><td>564</td><td>384</td><td>745</td></tr>\n",
              "\t<tr><th scope=row>8/6/20</th><td>1050</td><td>3380</td><td>565</td><td>413</td><td>759</td></tr>\n",
              "\t<tr><th scope=row>8/7/20</th><td>1065</td><td>3443</td><td>569</td><td>416</td><td>774</td></tr>\n",
              "\t<tr><th scope=row>8/8/20</th><td>1086</td><td>3502</td><td>573</td><td>426</td><td>788</td></tr>\n",
              "\t<tr><th scope=row>8/9/20</th><td>1169</td><td>3544</td><td>575</td><td>438</td><td>800</td></tr>\n",
              "\t<tr><th scope=row>8/10/20</th><td>1174</td><td>3651</td><td>576</td><td>442</td><td>812</td></tr>\n",
              "\t<tr><th scope=row>8/11/20</th><td>1162</td><td>3670</td><td>579</td><td>444</td><td>816</td></tr>\n",
              "\t<tr><th scope=row>8/12/20</th><td>1188</td><td>3710</td><td>581</td><td>453</td><td>825</td></tr>\n",
              "\t<tr><th scope=row>8/13/20</th><td>1196</td><td>3744</td><td>586</td><td>457</td><td>835</td></tr>\n",
              "\t<tr><th scope=row>8/14/20</th><td>1196</td><td>3791</td><td>590</td><td>465</td><td>848</td></tr>\n",
              "</tbody>\n",
              "</table>\n"
            ]
          },
          "metadata": {
            "tags": []
          }
        }
      ]
    },
    {
      "cell_type": "markdown",
      "metadata": {
        "id": "U9gdJEwTh_WR",
        "colab_type": "text"
      },
      "source": [
        ""
      ]
    },
    {
      "cell_type": "markdown",
      "metadata": {
        "id": "p9gZ6U8Rh_d-",
        "colab_type": "text"
      },
      "source": [
        "# Plot a time window"
      ]
    },
    {
      "cell_type": "code",
      "metadata": {
        "id": "U2a2n5Jphndl",
        "colab_type": "code",
        "colab": {}
      },
      "source": [
        "tb_sub <- tb1 %>% filter( dates >= start, dates <  start + ddays(14)) "
      ],
      "execution_count": 151,
      "outputs": []
    },
    {
      "cell_type": "code",
      "metadata": {
        "id": "u-Xm-PckiQGh",
        "colab_type": "code",
        "colab": {
          "base_uri": "https://localhost:8080/",
          "height": 437
        },
        "outputId": "dce0eba6-0e98-4c5e-e33b-313338b8c923"
      },
      "source": [
        "ggplot(tb_sub, aes( x = dates, y=tb_sub[,3])) + geom_line() "
      ],
      "execution_count": 160,
      "outputs": [
        {
          "output_type": "display_data",
          "data": {
            "image/png": "[encoded data removed]",
            "text/plain": [
              "plot without title"
            ]
          },
          "metadata": {
            "tags": [],
            "image/png": {
              "width": 420,
              "height": 420
            }
          }
        }
      ]
    },
    {
      "cell_type": "code",
      "metadata": {
        "id": "UqzDSbLGjAsU",
        "colab_type": "code",
        "colab": {}
      },
      "source": [
        ""
      ],
      "execution_count": null,
      "outputs": []
    }
  ]
}